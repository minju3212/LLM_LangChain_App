{
 "cells": [
  {
   "cell_type": "code",
   "execution_count": 1,
   "id": "41372bd3",
   "metadata": {},
   "outputs": [],
   "source": [
    "import os\n",
    "from dotenv import load_dotenv\n",
    "from langchain_openai import ChatOpenAI\n",
    "from langchain_core.prompts import (\n",
    "    ChatPromptTemplate,\n",
    "    SystemMessagePromptTemplate,\n",
    "    HumanMessagePromptTemplate,\n",
    ")\n",
    "from langsmith import traceable\n",
    "\n",
    "# LangSmith API Key 설정\n",
    "os.environ[\"LANGSMITH_TRACING\"] = os.getenv(\"LANGSMITH_TRACING\")  # LangSmith 활성화\n",
    "os.environ[\"LANGSMITH_API_KEY\"] = os.getenv(\"LANGSMITH_API_KEY\")  # API Key 불러오기\n",
    "os.environ[\"LANGSMITH_PROJECT\"] = os.getenv(\"LANGSMITH_PROJECT\")   # 프로젝트 이름 설정\n",
    "os.environ[\"LANGSMITH_ENDPOINT\"] = os.getenv(\"LANGSMITH_ENDPOINT\")   # EndPoint 설정\n"
   ]
  },
  {
   "cell_type": "code",
   "execution_count": 3,
   "id": "a3556938",
   "metadata": {},
   "outputs": [
    {
     "name": "stdout",
     "output_type": "stream",
     "text": [
      "\n",
      "🔹 [AI 답변]:\n",
      "LangGraph와 LangChain은 모두 언어 모델링을 위한 프로젝트이지만, 차이점이 존재합니다.\n",
      "\n",
      "LangGraph는 언어 모델을 구축하기 위한 그래프 기반 기술을 사용하는 프로젝트입니다. 이는 단어나 구문 등의 언어 단위를 노드로 나타내고, 이 노드들간의 관계를 에지로 연결하여 그래프를 형성하는 방식을 채택합니다. 이를 통해 문장의 의미와 문맥을 더 잘 이해하고 구문 분석, 자연어 이해 등의 작업을 수행할 수 있습니다.\n",
      "\n",
      "반면, LangChain은 링크드 데이터와 체인 기술을 활용하여 언어 모델을 구축하는 프로젝트입니다. 이는 각 언어 요소를 연결된 체인 형태로 구성하여 문장을 해석하고 생성하는 방식을 채택합니다. 이를 통해 높은 수준의 언어 이해와 생성을 실현할 수 있습니다.\n",
      "\n",
      "따라서, LangGraph은 그래프 기반의 언어 모델링에 중점을 두는 반면, LangChain은 링크드 데이터와 체인 기술을 활용하여 언어 모델링을 수행하는 것이 특징입니다.\n"
     ]
    }
   ],
   "source": [
    "# LLM 모델 설정 (OpenAI 사용)\n",
    "llm = ChatOpenAI(model=\"gpt-3.5-turbo\")\n",
    "\n",
    "# LangSmith로 실행 추적\n",
    "@traceable(run_type=\"chain\", name=\"Simple_Chain\")\n",
    "def ask_question(question: str):\n",
    "\n",
    "    # 개별 메시지 템플릿 정의\n",
    "    system_message = SystemMessagePromptTemplate.from_template(\n",
    "        \"당신은 유용한 AI 비서입니다.\"\n",
    "    )\n",
    "    user_message = HumanMessagePromptTemplate.from_template(\n",
    "        \"{question}\"\n",
    "    )\n",
    "\n",
    "    chat_prompt = ChatPromptTemplate.from_messages([\n",
    "        system_message,\n",
    "        user_message,\n",
    "    ])\n",
    "    \n",
    "    messages = chat_prompt.format_messages(question=question)\n",
    "    response = llm.invoke(messages)\n",
    "\n",
    "    return response.content\n",
    "\n",
    "# 테스트 실행\n",
    "question = \"LangGraph와 LangChain의 차이점은 무엇인가요?\"\n",
    "answer = ask_question(question)\n",
    "\n",
    "# 결과 출력\n",
    "print(\"\\n🔹 [AI 답변]:\")\n",
    "print(answer)\n"
   ]
  }
 ],
 "metadata": {
  "kernelspec": {
   "display_name": "langchain-basic-kGdHTiMZ-py3.12",
   "language": "python",
   "name": "python3"
  },
  "language_info": {
   "codemirror_mode": {
    "name": "ipython",
    "version": 3
   },
   "file_extension": ".py",
   "mimetype": "text/x-python",
   "name": "python",
   "nbconvert_exporter": "python",
   "pygments_lexer": "ipython3",
   "version": "3.12.7"
  }
 },
 "nbformat": 4,
 "nbformat_minor": 5
}
