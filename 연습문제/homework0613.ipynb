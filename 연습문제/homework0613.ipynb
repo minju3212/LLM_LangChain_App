{
 "cells": [
  {
   "cell_type": "markdown",
   "id": "7041de93",
   "metadata": {},
   "source": [
    "### 문제 4-1 : OpenAI에서 Ollama Qwen3로 RAG 시스템 변경하기"
   ]
  },
  {
   "cell_type": "code",
   "execution_count": 1,
   "id": "b310355f",
   "metadata": {},
   "outputs": [],
   "source": [
    "import os\n",
    "from dotenv import load_dotenv\n",
    "\n",
    "load_dotenv()\n",
    "OPENAI_API_KEY = os.getenv(\"OPENAI_API_KEY\")"
   ]
  },
  {
   "cell_type": "code",
   "execution_count": 2,
   "id": "eb6de199",
   "metadata": {},
   "outputs": [],
   "source": [
    "from langchain_ollama import ChatOllama\n",
    "from langchain_community.document_loaders import PyPDFLoader\n",
    "from langchain.text_splitter import RecursiveCharacterTextSplitter\n",
    "from langchain_community.vectorstores import FAISS\n",
    "from langchain_huggingface import HuggingFaceEmbeddings\n",
    "from langchain.chains import RetrievalQA\n",
    "from langchain.prompts import PromptTemplate\n"
   ]
  },
  {
   "cell_type": "code",
   "execution_count": 3,
   "id": "3f30e9a7",
   "metadata": {},
   "outputs": [
    {
     "name": "stdout",
     "output_type": "stream",
     "text": [
      "==> 1. 문서 로딩 → PDF 읽기...\n",
      "  총 39페이지 로드 완료\n"
     ]
    }
   ],
   "source": [
    "print(\"==> 1. 문서 로딩 → PDF 읽기...\")\n",
    "loader = PyPDFLoader('../data/tutorial-korean.pdf')\n",
    "documents = loader.load()\n",
    "print(f\"  총 {len(documents)}페이지 로드 완료\")"
   ]
  },
  {
   "cell_type": "code",
   "execution_count": 4,
   "id": "f8c591b4",
   "metadata": {},
   "outputs": [
    {
     "name": "stdout",
     "output_type": "stream",
     "text": [
      "==> 2. 문서 분할 → 작은 청크로 나누기\n",
      "  76개 청크 생성 완료\n"
     ]
    }
   ],
   "source": [
    "print(\"==> 2. 문서 분할 → 작은 청크로 나누기\")\n",
    "text_splitter = RecursiveCharacterTextSplitter(\n",
    "    chunk_size=800,\n",
    "    chunk_overlap=150,\n",
    "    separators=[\"\\n\\n\", \"\\n\", \".\", \" \", \"\"]\n",
    ")\n",
    "\n",
    "chunks = text_splitter.split_documents(documents)\n",
    "print(f\"  {len(chunks)}개 청크 생성 완료\")\n"
   ]
  },
  {
   "cell_type": "code",
   "execution_count": 5,
   "id": "3f56280c",
   "metadata": {},
   "outputs": [
    {
     "name": "stdout",
     "output_type": "stream",
     "text": [
      "==> 3. 벡터화 → 임베딩으로 변환\n"
     ]
    },
    {
     "name": "stderr",
     "output_type": "stream",
     "text": [
      "c:\\Users\\user\\AppData\\Local\\pypoetry\\Cache\\virtualenvs\\langchain-basic-kGdHTiMZ-py3.12\\Lib\\site-packages\\tqdm\\auto.py:21: TqdmWarning: IProgress not found. Please update jupyter and ipywidgets. See https://ipywidgets.readthedocs.io/en/stable/user_install.html\n",
      "  from .autonotebook import tqdm as notebook_tqdm\n"
     ]
    }
   ],
   "source": [
    "print(\"==> 3. 벡터화 → 임베딩으로 변환\")\n",
    "EMBEDDING_MODEL_NAME = \"sentence-transformers/paraphrase-multilingual-MiniLM-L12-v2\"\n",
    "\n",
    "embeddings = HuggingFaceEmbeddings(\n",
    "        model_name=EMBEDDING_MODEL_NAME,\n",
    "        model_kwargs={'device': 'cpu'},\n",
    "        encode_kwargs={'normalize_embeddings': True}\n",
    "    )"
   ]
  },
  {
   "cell_type": "code",
   "execution_count": 6,
   "id": "1715f8bc",
   "metadata": {},
   "outputs": [
    {
     "name": "stdout",
     "output_type": "stream",
     "text": [
      "==> 4. 저장 → FAISS 벡터스토어에 저장\n"
     ]
    }
   ],
   "source": [
    "print(\"==> 4. 저장 → FAISS 벡터스토어에 저장\")\n",
    "vectorstore = FAISS.from_documents(chunks, embeddings)"
   ]
  },
  {
   "cell_type": "code",
   "execution_count": 7,
   "id": "4261438b",
   "metadata": {},
   "outputs": [
    {
     "name": "stdout",
     "output_type": "stream",
     "text": [
      "===> 5. 검색 → 질문과 유사한 문서 찾기\n"
     ]
    }
   ],
   "source": [
    "print(\"===> 5. 검색 → 질문과 유사한 문서 찾기\")\n",
    "retriever = vectorstore.as_retriever(\n",
    "    search_type=\"similarity\",\n",
    "    search_kwargs={\"k\": 4}\n",
    ")"
   ]
  },
  {
   "cell_type": "code",
   "execution_count": 8,
   "id": "a2e94f1a",
   "metadata": {},
   "outputs": [
    {
     "name": "stdout",
     "output_type": "stream",
     "text": [
      "===> 6. 생성 → LLM으로 답변 생성\n"
     ]
    }
   ],
   "source": [
    "print(\"===> 6. 생성 → LLM으로 답변 생성\")\n",
    "llm = ChatOllama(\n",
    "    model=\"qwen3:1.7b\",\n",
    "    base_url=\"http://localhost:11434\",\n",
    "    temperature=0.1,\n",
    "    num_predict=1500  # max_tokens → num_predict\n",
    ")"
   ]
  },
  {
   "cell_type": "code",
   "execution_count": 9,
   "id": "0ffd63e3",
   "metadata": {},
   "outputs": [
    {
     "name": "stdout",
     "output_type": "stream",
     "text": [
      " 프롬프트 설정 완료\n"
     ]
    }
   ],
   "source": [
    "# 한국어 최적화 프롬프트\n",
    "prompt_template = \"\"\"\n",
    "당신은 BlueJ 프로그래밍 환경 전문가입니다. \n",
    "아래 문서 내용을 바탕으로 정확하고 친절한 답변을 제공해주세요.\n",
    "\n",
    "문서 내용:\n",
    "{retrieveDocuments}\n",
    "\n",
    "질문: {question}\n",
    "\n",
    "답변 규칙:\n",
    "1. 문서 내용만을 근거로 답변하세요\n",
    "2. 단계별 설명이 필요하면 순서대로 작성하세요  \n",
    "3. 구체적인 메뉴명, 버튼명을 포함하세요\n",
    "4. 문서에 없는 정보는 \"문서에서 찾을 수 없습니다\"라고 하세요\n",
    "\n",
    "답변:\"\"\"\n",
    "\n",
    "prompt = PromptTemplate(\n",
    "    template=prompt_template,\n",
    "    input_variables=[\"retrieveDocuments\", \"question\"]\n",
    ")\n",
    "print(\" 프롬프트 설정 완료\")"
   ]
  },
  {
   "cell_type": "code",
   "execution_count": 10,
   "id": "e33eb34c",
   "metadata": {},
   "outputs": [
    {
     "name": "stdout",
     "output_type": "stream",
     "text": [
      "\n",
      " ===> 7.  QA 체인 생성...\n",
      "  RAG 파이프라인 구축 완료!\n"
     ]
    }
   ],
   "source": [
    "# ===================================\n",
    "# 7. QA 체인 생성\n",
    "# ===================================\n",
    "print(\"\\n ===> 7.  QA 체인 생성...\")\n",
    "qa_chain = RetrievalQA.from_chain_type(\n",
    "    llm=llm,\n",
    "    chain_type=\"stuff\",\n",
    "    retriever=retriever,\n",
    "    chain_type_kwargs={\"prompt\": prompt, \"document_variable_name\": \"retrieveDocuments\" },\n",
    "    return_source_documents=True\n",
    ")\n",
    "print(\"  RAG 파이프라인 구축 완료!\")"
   ]
  },
  {
   "cell_type": "code",
   "execution_count": 11,
   "id": "5346568e",
   "metadata": {},
   "outputs": [
    {
     "name": "stdout",
     "output_type": "stream",
     "text": [
      "\n",
      "============================================================\n",
      " RAG 시스템 테스트\n",
      "============================================================\n"
     ]
    }
   ],
   "source": [
    "# ===================================\n",
    "# 8. 테스트 질문들\n",
    "# ===================================\n",
    "test_questions = [\n",
    "    \"BlueJ에서 객체를 생성하는 방법은 무엇인가요?\",\n",
    "    \"컴파일 오류가 발생했을 때 어떻게 확인할 수 있나요?\", \n",
    "    \"디버깅을 위해 중단점을 설정하는 방법을 알려주세요\",\n",
    "    \"코드패드는 무엇이고 어떻게 사용하나요?\",\n",
    "    \"애플릿을 만들고 실행하는 방법을 설명해주세요\"\n",
    "]\n",
    "\n",
    "print(\"\\n\" + \"=\" * 60)\n",
    "print(\" RAG 시스템 테스트\")\n",
    "print(\"=\" * 60)"
   ]
  },
  {
   "cell_type": "code",
   "execution_count": 12,
   "id": "f6ce8564",
   "metadata": {},
   "outputs": [
    {
     "name": "stdout",
     "output_type": "stream",
     "text": [
      "\n",
      "【테스트 1/5】\n",
      " 질문: BlueJ에서 객체를 생성하는 방법은 무엇인가요?\n",
      " 답변 생성 중...\n",
      "\n",
      " 답변:\n",
      "--------------------------------------------------\n",
      "<think>\n",
      "Okay, let's see. The user is asking how to create an object in BlueJ. I need to answer based on the provided document.\n",
      "\n",
      "First, I remember that in the document, there's a section about creating objects from library classes. The user mentioned that BlueJ can create objects using JDK library classes. The document mentions the Tools - Use Libraries Class menu. So, the steps would be: open the menu, enter the fully qualified class name, and then select the constructor or static method.\n",
      "\n",
      "Wait, the document says that when you select the menu, a dialog box pops up. You need to input the class name, including the package. Then, after entering the class name, the dialog shows all constructors and static methods. You can choose one to call. Also, the note says that the constructor or static method is executed first.\n",
      "\n",
      "So the answer should outline the steps: using the Tools - Use Libraries Class menu, entering the full class name, and selecting the desired constructor or static method. Also, mention that the dialog shows all available methods and you can choose the first one. Make sure to include the menu name and the button, like \"Use Libraries Class\".\n",
      "</think>\n",
      "\n",
      "BlueJ에서 객체를 생성하는 방법은 다음과 같습니다:  \n",
      "\n",
      "1. **라이브러리 클래스 선택**  \n",
      "   `Tools` 메뉴에서 `Use Libraries Class` 메뉴를 선택합니다.  \n",
      "\n",
      "2. **완전한 클래스 이름 입력**  \n",
      "   팝업 대화상자에서, `java.lang.String` 또는 `java.util.ArrayList` 같은 완전한 클래스 이름을 입력합니다.  \n",
      "   - 패키지 이름까지 포함된 클래스 이름을 입력해야 합니다.  \n",
      "\n",
      "3. **객체 생성**  \n",
      "   입력된 클래스 이름을 확인 후, `Enter` 버튼을 누르면, 해당 클래스의 모든 생성자 함수와 정적 메소드 목록이 표시됩니다.  \n",
      "   - 선택한 생성자 함수나 정적 메소드를 호출하면, 해당 객체가 생성됩니다.  \n",
      "\n",
      "4. **실행**  \n",
      "   선택한 메소드를 호출하면, 해당 클래스의 객체가 생성되어 프로젝트 디렉토리에 저장됩니다.  \n",
      "\n",
      "**참고**:  \n",
      "- `Tools - Use Libraries Class` 메뉴는 JDK 라이브러리 클래스로부터 객체를 생성하는 데 사용됩니다.  \n",
      "- 생성된 객체는 `Class Diagram` 영역에 표시됩니다.  \n",
      "\n",
      "문서에서 찾을 수 없습니다.\n",
      "\n",
      " 참조 문서:\n",
      "   1. 페이지 3: 4 1. 서문 1.1. BlueJ의 소개 본 튜토리얼은 BlueJ 프로그래밍 환경을 사용하는 방법을 설명하고 있습니다. BlueJ는 초급  자바...\n",
      "   2. 페이지 33: 34 10.기타 기능들 10.1. BlueJ로 만들지 않은 패키지 오픈하기   BlueJ는 BlueJ외부에서 만들어진 패키지들도 오픈할 수 있게...\n",
      "   3. 페이지 6: 7 3. 시작하기 - 편집/컴파일/실행  3.1. BlueJ 시작하기 Windows와 MacOS에서는 인스톨된 BlueJ 프로그램을 실행하십시오...\n",
      "\n",
      "----------------------------------------\n",
      "\n",
      "【테스트 2/5】\n",
      " 질문: 컴파일 오류가 발생했을 때 어떻게 확인할 수 있나요?\n",
      " 답변 생성 중...\n",
      "\n",
      " 답변:\n",
      "--------------------------------------------------\n",
      "<think>\n",
      "Okay, let's see. The user is asking how to check for a compilation error using BlueJ. The document provided talks about debugging, setting breakpoints, stepping through code, and other features. But the question is specifically about compilation errors.\n",
      "\n",
      "First, I need to check if the document mentions anything about compilation errors. The given text is about debugging steps, like setting breakpoints, stepping through code, and using the Step Into button. It doesn't mention anything about compilation errors. The sections talk about running code, debugging in the editor, and different buttons like Step, Step Into, Halt, etc. \n",
      "\n",
      "So, the user's question is about compilation errors, but the document doesn't cover that. The answer should state that the document doesn't provide information on compilation errors. The user might be expecting steps related to compilation, but since the document doesn't mention it, I need to follow the rules strictly.\n",
      "\n",
      "The answer should mention that the document doesn't have information on compilation errors. The user might need to refer to the BlueJ documentation for that. But according to the rules, I can't include any external information. So the answer should be that the document doesn't cover compilation errors and suggest checking the error messages in the IDE or the compiler output.\n",
      "</think>\n",
      "\n",
      "문서에서 컴파일 오류를 확인하는 방법은 언급되지 않았습니다. BlueJ는 컴파일 오류를 직접 확인하지 않지만, 다음과 같은 방법을 통해 오류를 확인할 수 있습니다:\n",
      "\n",
      "1. **컴파일 오류 메시지 확인**:  \n",
      "   - 프로그램 실행 시 오류 메시지가 나타나면, 에디터 윈도우에서 오류 내용을 확인할 수 있습니다.  \n",
      "   - **Error** 메시지가 표시될 경우, 해당 오류를 해결하는 데 도움이 됩니다.\n",
      "\n",
      "2. **소스코드 검사**:  \n",
      "   - 컴파일 오류가 발생한 라인을 찾아 소스코드를 확인하여 문제 원인을 파악할 수 있습니다.  \n",
      "   - **Step** 버튼을 사용해 오류 라인을 단계별로 실행하여 문제를 더 구체적으로 분석할 수 있습니다.\n",
      "\n",
      "3. **디버깅 기능 활용**:  \n",
      "   - 컴파일 오류가 발생한 라인을 중단점으로 설정해 실행 중단을 시도하면, 오류 메시지와 관련된 코드를 확인할 수 있습니다.  \n",
      "   - **Breakpoint**를 설정하고 **Step** 버튼을 클릭해 오류 라인을 실행하면, 에디터 윈도우에서 오류 내용을 확인할 수 있습니다.\n",
      "\n",
      "4. **프로젝트 설정 확인**:  \n",
      "   - 프로젝트 설정에서 **Export...**를 통해 컴파일 설정을 확인해 오류 원인을 분석할 수 있습니다.\n",
      "\n",
      "**문서에서 찾을 수 없습니다**.  \n",
      "BlueJ는 컴파일 오류 자체를 확인하지 않지만, 오류 메시지와 소스코드를 통해 문제를 분석할 수 있습니다.\n",
      "\n",
      " 참조 문서:\n",
      "   1. 페이지 25: 프로그램 실행이 일시 중단 되면, 프로그램 실행에 의해 생성되어 실행중인 객체들의 현재  상태를 조사할 수 있습니다. 따라서, 프로그램 소스코드...\n",
      "   2. 페이지 27: 28 7.2. 코드의 단계별 실행 현재 실행을 일시 중지한 상태이며(메소드는 실제로 실행이 되었고 중단점까지 도달했음을  확인할 수 있습니다),...\n",
      "   3. 페이지 37: 38 디버깅 21. 중단점( breakpoint)을 설정하기 위해서는, 편집기에서 소스코드의 왼쪽부분에 위치한    중단점(breakpoint)...\n",
      "\n",
      "----------------------------------------\n",
      "\n",
      "【테스트 3/5】\n",
      " 질문: 디버깅을 위해 중단점을 설정하는 방법을 알려주세요\n",
      " 답변 생성 중...\n",
      "\n",
      " 답변:\n",
      "--------------------------------------------------\n",
      "<think>\n",
      "Okay, let's tackle this question. The user wants to know how to set a breakpoint for debugging. From the provided document, I need to look at sections related to debugging. \n",
      "\n",
      "Looking at the document, section 7.1 is titled \"중단점 설정하기\" which translates to \"Setting Breakpoints.\" The document mentions setting breakpoints in the context of debugging. The steps would involve opening the editor, navigating to the line of code where they want to pause, and then setting a breakpoint. \n",
      "\n",
      "The user might be looking for a step-by-step guide. The document doesn't mention specific tools or menus, but it does mention the editor and the line of code. So, the answer should guide the user through the process of selecting the line, clicking the breakpoint button, and saving it. \n",
      "\n",
      "I need to make sure I don't add any information not in the document. The answer should mention the editor and the line of code, as per the document. Also, since the document doesn't specify the exact menu names or buttons, I should use the terms provided, like \"편집기\" (editor) and \"중단점\" (breakpoint). \n",
      "\n",
      "So, the answer should outline the steps: open the editor, select the line, click the breakpoint button, and save. That's it. No other details since the document doesn't go into specifics about the interface or other tools.\n",
      "</think>\n",
      "\n",
      "디버깅을 위해 중단점을 설정하는 방법은 다음과 같습니다:  \n",
      "\n",
      "1. **편집기**에서 코드의 특정 줄을 선택합니다.  \n",
      "2. 선택한 줄의 왼쪽에 **중단점** 버튼(이미지 또는 텍스트로 표시)을 클릭합니다.  \n",
      "3. 중단점을 설정한 줄이 **컴파일러**에 저장됩니다.  \n",
      "\n",
      "**문서에서 찾을 수 없습니다**.  \n",
      "이 과정은 디버깅을 위한 코드의 실행 중단을 설정하는 기본적인 방법입니다.\n",
      "\n",
      " 참조 문서:\n",
      "   1. 페이지 2: 7.4. 중지와 종료 ····································································...\n",
      "   2. 페이지 2: 3 7. 디버깅 ·······································································...\n",
      "   3. 페이지 1: 3.4. 실행하기 ······································································...\n",
      "\n",
      "----------------------------------------\n",
      "\n",
      "【테스트 4/5】\n",
      " 질문: 코드패드는 무엇이고 어떻게 사용하나요?\n",
      " 답변 생성 중...\n",
      "\n",
      " 답변:\n",
      "--------------------------------------------------\n",
      "<think>\n",
      "Okay, let's tackle this question about BlueJ's code pad. The user wants to know what the code pad is and how to use it. Let me start by recalling the information provided in the document.\n",
      "\n",
      "First, the code pad is mentioned as a part of BlueJ that allows evaluating parts of Java code, like expressions and commands. It's not visible by default, so you need to use the View menu to show it. The code pad is located on the right side of the main screen, next to the object bench. You can adjust the size by adjusting the grid lines. \n",
      "\n",
      "The user can input expressions or commands into the code pad. Pressing Enter evaluates the input line by line, showing the result. For multi-line commands, Shift-Enter is used. The code pad can also execute commands, and variables created in the code pad are considered instance fields in the object bench. \n",
      "\n",
      "If you drag an object from the code pad to the object bench, you can inspect it. The code pad also has a history feature using up and down arrows to revisit previous inputs. The results show object references with their types and a small icon indicating the object.\n",
      "\n",
      "Now, the user's question is about what the code pad is and how to use it. I need to structure the answer based on the document. Let me outline the steps:\n",
      "\n",
      "1. Explain what the code pad is.\n",
      "2. Mention how to show it (using View menu).\n",
      "3. Describe the location (right side of the main screen, next to object bench).\n",
      "4. Talk about adjusting size with grid lines.\n",
      "5. How to input expressions and commands, using Enter and Shift-Enter.\n",
      "6. The history feature with up/down arrows.\n",
      "7. The result display with object references and icons.\n",
      "\n",
      "I need to make sure each point is covered step by step, using the exact menu names and buttons mentioned in the document. Also, any information not in the document should be marked as \"문서에서 찾을 수 없습니다\". \n",
      "\n",
      "Let me check if all these points are covered in the document. Yes, the document details each part. Now, structure the answer accordingly.\n",
      "</think>\n",
      "\n",
      "코드패드는 BlueJ에서 자바 코드(표현식과 명령문)을 간단히 평가하고 시험하는 도구입니다. 아래 단계별 설명을 통해 어떻게 사용할 수 있는지 자세히 안내합니다:\n",
      "\n",
      "---\n",
      "\n",
      "### **1. 코드패드를 나타내기**  \n",
      "- **메뉴**: 보기메뉴 > 코드패드보기(Show Code Pad)를 선택합니다.  \n",
      "- **위치**: BlueJ 메인화면 오른쪽 아랫편(오브젝트 벤치의 오른쪽)에 나타납니다.  \n",
      "- **크기 조절**: 코드패드 영역과 오브젝트 벤치 사이의 가로선과 세로선을 조절하여 크기를 변경할 수 있습니다.\n",
      "\n",
      "---\n",
      "\n",
      "### **2. 코드패드의 기본 기능**  \n",
      "- **표현식 입력**: 키보드의 Enter 키를 누르면 입력된 표현식 또는 문장이 라인단위로 평가됩니다.  \n",
      "- **명령문 입력**:  \n",
      "  - 단일라인 명령문: 키보드의 Enter 키를 누르면 실행됩니다.  \n",
      "  - 멀티라인 명령문: 라인의 끝 부분에서 **Shift-Enter**를 누르면 여러 줄로 분리할 수 있습니다.  \n",
      "- **지역변수 사용**: 멀티라인 명령문에서 지역변수를 사용할 수 있습니다.  \n",
      "- **결과 표시**: 평가 결과는 화면에 표시되며, 결과값이 표시되는 라인의 선두부분에는 작은 **객체 아이콘**이 나타납니다.  \n",
      "\n",
      "---\n",
      "\n",
      "### **3. 코드패드에서의 객체 이동**  \n",
      "- **객체 이동**: 코드패드에 생성된 객체를 오브젝트 벤치로 이동하려면 **객체 아이콘**을 드래그하여 옮깁니다.  \n",
      "- **객체 검사**: 객체 아이콘을 **더블클릭**하면 객체의 정보를 검사할 수 있습니다.  \n",
      "\n",
      "---\n",
      "\n",
      "### **4. 사용자 입력 이력 기능**  \n",
      "- **이력 저장**: 코드패드에서 입력한 내용은 이력에 저장됩니다.  \n",
      "- **이력 재입력**: 상하 화살표를 사용하여 이전 입력을 손쉽게 재입력하거나 수정하여 재입력할 수 있습니다.  \n",
      "\n",
      "---\n",
      "\n",
      "### **5. 결과값의 표시**  \n",
      "- **결과값**: 평가 결과는 `<object reference>`로 시작하며, 객체의 타입(클래스)이 표시됩니다.  \n",
      "- **아이콘**: 결과값이 표시되는 라인의 선두부분에 작은 **객체 아이콘**이 나타납니다.  \n",
      "\n",
      "---\n",
      "\n",
      "### **6. 주의 사항**  \n",
      "- **지역변수 문제**: 멀티라인 명령문에서 사용한 지역변수는 각 라인별로 기억되지 않기 때문에, 여러 라인의 결과가 서로 연결되지 않을 수 있습니다.  \n",
      "- **메소드 범위**: 사용자가 입력한 내용이 서로 다른 메소드의 일부분인 경우, 변수 참조가 실패할 수 있습니다.  \n",
      "\n",
      "---\n",
      "\n",
      "### **7. 요약**  \n",
      "- 코드패드는 자바 코드의 의미를 조사하거나 구문을 예증하는 데 사용됩니다.  \n",
      "- 코드패드를 사용하려면 **보기메뉴 > 코드패드보기**를 선택하고, **객체 아이콘**을 드래그하여 객체를 이동하거나 검사할 수 있습니다.  \n",
      "- 입력 이력을 관리할 수 있으며, 결과값은 객체의 타입과 아이콘으로 표시됩니다.  \n",
      "\n",
      "문서에서 찾을 수 없습니다.\n",
      "\n",
      " 참조 문서:\n",
      "   1. 페이지 36: 하거나 에디터를 이용하여 소스코드를 작성합니다. 12. 클래스 또는 화살표를 삭제하려면, 팝업메뉴에서 삭제 기능을 선택합니다. 코드패드 사용하기...\n",
      "   2. 페이지 20: 21 6. 코드패드의 사용 BlueJ 코드패드는 자바 코드(표현식과 명령문)의 일부분을 쉽고 빠르게 평가할 수 있는 기능을  제공합니다. 따라서...\n",
      "   3. 페이지 24: 25 한편, 위의 명령어들을 개별적인 라인입력 방식으로 코드패드에 입력할 경우, 실행결과는 실패합니다.  왜냐하면, 지역변수 sum은 각 라인을...\n",
      "\n",
      "----------------------------------------\n",
      "\n",
      "【테스트 5/5】\n",
      " 질문: 애플릿을 만들고 실행하는 방법을 설명해주세요\n",
      " 답변 생성 중...\n",
      "\n",
      " 답변:\n",
      "--------------------------------------------------\n",
      "<think>\n",
      "Okay, let's see. The user is asking how to create and run an applet using BlueJ. I need to base my answer strictly on the provided document.\n",
      "\n",
      "First, I'll check the document sections. The relevant parts are under \"9.2. 애플릿 만들기\" and \"9.3. 애플릿 테스트하기\" in section 9. Also, there's a mention of \"9.1. 애플릿 실행하기\" in section 9. \n",
      "\n",
      "So, the steps would be: creating the applet, testing it, and running it. The document mentions opening existing packages, adding classes, and calling main methods. \n",
      "\n",
      "I need to outline the steps in order. Start with creating the applet by opening an existing package, adding classes, and writing the code. Then, test it using the test button. Finally, run it via the run button. \n",
      "\n",
      "I should mention specific menu items like \"Open Package,\" \"Add Class,\" \"Write Code,\" \"Test,\" and \"Run.\" Also, note that the user should have the applet ready before running it. \n",
      "\n",
      "Make sure not to include any external information not in the document. Check for any missing steps or sections. The answer should be clear, step-by-step, using the document's terms.\n",
      "</think>\n",
      "\n",
      "애플릿을 만들고 실행하는 방법은 다음과 같이 진행합니다:\n",
      "\n",
      "### 1. **애플릿 만들기**\n",
      "   - **1.1. 기존 패키지 오픈**  \n",
      "     \"Open Package\" 메뉴를 통해 이미 만들어진 패키지를 선택합니다.  \n",
      "   - **1.2. 클래스 추가**  \n",
      "     \"Add Class\" 메뉴를 통해 새로운 클래스를 추가합니다.  \n",
      "   - **1.3. 코드 작성**  \n",
      "     \"Write Code\" 메뉴를 통해 애플릿의 로직을 작성합니다.  \n",
      "     예: `public class MyApplet extends Applet`을 작성합니다.  \n",
      "\n",
      "### 2. **애플릿 테스트하기**\n",
      "   - **2.1. 테스트 버튼 클릭**  \n",
      "     \"Test\" 버튼을 클릭하여 애플릿을 테스트합니다.  \n",
      "   - **2.2. 테스트 결과 확인**  \n",
      "     테스트 결과 창에서 애플릿의 동작 여부를 확인합니다.  \n",
      "\n",
      "### 3. **애플릿 실행하기**\n",
      "   - **3.1. 실행 버튼 클릭**  \n",
      "     \"Run\" 버튼을 클릭하여 애플릿을 실행합니다.  \n",
      "   - **3.2. 실행 결과 확인**  \n",
      "     실행 창에서 애플릿의 출력 또는 에러 메시지를 확인합니다.  \n",
      "\n",
      "### 주의 사항\n",
      "- 애플릿은 BlueJ 내부에서 실행되며, 외부 라이브러리 사용 시 추가 설정이 필요할 수 있습니다.  \n",
      "- \"Run\" 버튼 클릭 시 애플릿이 자동으로 컴파일 및 실행됩니다.  \n",
      "\n",
      "문서에서 찾을 수 없습니다.\n",
      "\n",
      " 참조 문서:\n",
      "   1. 페이지 1: 2. 설치 ··········································································...\n",
      "   2. 페이지 1: 3.4. 실행하기 ······································································...\n",
      "   3. 페이지 2: 7.4. 중지와 종료 ····································································...\n",
      "\n",
      "----------------------------------------\n"
     ]
    }
   ],
   "source": [
    "# ===================================\n",
    "# 9. 질문 및 답변 실행\n",
    "# ===================================\n",
    "for i, question in enumerate(test_questions, 1):\n",
    "    print(f\"\\n【테스트 {i}/5】\")\n",
    "    print(f\" 질문: {question}\")\n",
    "    print(\" 답변 생성 중...\")\n",
    "    \n",
    "    # RAG 실행\n",
    "    result = qa_chain.invoke({\"query\": question})\n",
    "    answer = result[\"result\"]\n",
    "    source_docs = result[\"source_documents\"]\n",
    "    \n",
    "    print(f\"\\n 답변:\")\n",
    "    print(\"-\" * 50)\n",
    "    print(answer)\n",
    "    \n",
    "    # 참조 문서 정보\n",
    "    print(f\"\\n 참조 문서:\")\n",
    "    for j, doc in enumerate(source_docs[:3], 1):\n",
    "        page = doc.metadata.get('page', 'N/A')\n",
    "        preview = doc.page_content[:80].replace('\\n', ' ')\n",
    "        print(f\"   {j}. 페이지 {page}: {preview}...\")\n",
    "    \n",
    "    print(\"\\n\" + \"-\" * 40)"
   ]
  }
 ],
 "metadata": {
  "kernelspec": {
   "display_name": "langchain-basic-kGdHTiMZ-py3.12",
   "language": "python",
   "name": "python3"
  },
  "language_info": {
   "codemirror_mode": {
    "name": "ipython",
    "version": 3
   },
   "file_extension": ".py",
   "mimetype": "text/x-python",
   "name": "python",
   "nbconvert_exporter": "python",
   "pygments_lexer": "ipython3",
   "version": "3.12.7"
  }
 },
 "nbformat": 4,
 "nbformat_minor": 5
}
