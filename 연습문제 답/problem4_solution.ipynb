{
 "cells": [
  {
   "cell_type": "code",
   "execution_count": 1,
   "id": "4a4628d4",
   "metadata": {},
   "outputs": [],
   "source": [
    "from langchain_ollama import ChatOllama\n",
    "from langchain_community.document_loaders import PyPDFLoader\n",
    "from langchain.text_splitter import RecursiveCharacterTextSplitter\n",
    "from langchain_community.vectorstores import FAISS\n",
    "from langchain_huggingface import HuggingFaceEmbeddings\n",
    "from langchain.chains import RetrievalQA\n",
    "from langchain.prompts import PromptTemplate\n",
    "import time\n",
    "\n",
    "# 모델 일관성을 위한 상수 정의\n",
    "MODEL_NAME = \"qwen3:1.7b\"\n",
    "BASE_URL = \"http://localhost:11434\"\n",
    "EMBEDDING_MODEL_NAME = \"sentence-transformers/paraphrase-multilingual-MiniLM-L12-v2\""
   ]
  },
  {
   "cell_type": "code",
   "execution_count": 2,
   "id": "aa5c6905",
   "metadata": {},
   "outputs": [
    {
     "name": "stdout",
     "output_type": "stream",
     "text": [
      "============================================================\n",
      " 로컬 RAG 시스템 초기화\n",
      "============================================================\n",
      "==> 1. 문서 로딩 → PDF 읽기...\n",
      "총 39페이지 로드 완료\n"
     ]
    }
   ],
   "source": [
    "print(\"=\" * 60)\n",
    "print(\" 로컬 RAG 시스템 초기화\")\n",
    "print(\"=\" * 60)\n",
    "\n",
    "# 1. 문서 로딩\n",
    "print(\"==> 1. 문서 로딩 → PDF 읽기...\")\n",
    "try:\n",
    "    loader = PyPDFLoader('../data/tutorial-korean.pdf')\n",
    "    documents = loader.load()\n",
    "    print(f\"총 {len(documents)}페이지 로드 완료\")\n",
    "except Exception as e:\n",
    "    print(f\"PDF 로딩 실패: {e}\")\n",
    "    print(\"'../data/tutorial-korean.pdf' 파일이 존재하는지 확인해주세요.\")\n",
    "    exit(1)\n"
   ]
  },
  {
   "cell_type": "code",
   "execution_count": 3,
   "id": "72adcdcc",
   "metadata": {},
   "outputs": [
    {
     "name": "stdout",
     "output_type": "stream",
     "text": [
      "==> 2. 문서 분할 → 작은 청크로 나누기\n",
      "76개 청크 생성 완료\n",
      "평균 청크 길이: 605자\n",
      "==> 3. 임베딩 설정...\n",
      "임베딩 모델 다운로드 중... (최초 실행 시 시간이 소요됩니다)\n"
     ]
    },
    {
     "name": "stderr",
     "output_type": "stream",
     "text": [
      "c:\\Users\\user\\AppData\\Local\\pypoetry\\Cache\\virtualenvs\\langchain-basic-kGdHTiMZ-py3.12\\Lib\\site-packages\\tqdm\\auto.py:21: TqdmWarning: IProgress not found. Please update jupyter and ipywidgets. See https://ipywidgets.readthedocs.io/en/stable/user_install.html\n",
      "  from .autonotebook import tqdm as notebook_tqdm\n"
     ]
    },
    {
     "name": "stdout",
     "output_type": "stream",
     "text": [
      "HuggingFace 임베딩 모델 설정 완료\n"
     ]
    }
   ],
   "source": [
    "\n",
    "# 2. 문서 분할\n",
    "print(\"==> 2. 문서 분할 → 작은 청크로 나누기\")\n",
    "text_splitter = RecursiveCharacterTextSplitter(\n",
    "    chunk_size=800,\n",
    "    chunk_overlap=150,\n",
    "    separators=[\"\\n\\n\", \"\\n\", \".\", \" \", \"\"]\n",
    ")\n",
    "\n",
    "chunks = text_splitter.split_documents(documents)\n",
    "print(f\"{len(chunks)}개 청크 생성 완료\")\n",
    "print(f\"평균 청크 길이: {sum(len(chunk.page_content) for chunk in chunks) / len(chunks):.0f}자\")\n",
    "\n",
    "# 3. 임베딩 설정\n",
    "print(\"==> 3. 임베딩 설정...\")\n",
    "print(\"임베딩 모델 다운로드 중... (최초 실행 시 시간이 소요됩니다)\")\n",
    "try:\n",
    "    embeddings = HuggingFaceEmbeddings(\n",
    "        model_name=EMBEDDING_MODEL_NAME,\n",
    "        model_kwargs={'device': 'cpu'},\n",
    "        encode_kwargs={'normalize_embeddings': True}\n",
    "    )\n",
    "    print(\"HuggingFace 임베딩 모델 설정 완료\")\n",
    "except Exception as e:\n",
    "    print(f\"임베딩 모델 설정 실패: {e}\")\n",
    "    print(\"인터넷 연결을 확인하거나 다음 패키지를 설치해주세요:\")\n",
    "    print(\"pip install sentence-transformers\")\n",
    "    exit(1)"
   ]
  },
  {
   "cell_type": "code",
   "execution_count": 4,
   "id": "5d4b16f1",
   "metadata": {},
   "outputs": [
    {
     "name": "stdout",
     "output_type": "stream",
     "text": [
      "==> 4. 벡터스토어 생성...\n",
      "임베딩 생성 중... (시간이 소요됩니다)\n",
      "FAISS 벡터스토어 생성 완료 (76개 벡터)\n",
      "임베딩 소요 시간: 1.8초\n"
     ]
    }
   ],
   "source": [
    "\n",
    "# 4. 벡터스토어 생성\n",
    "print(\"==> 4. 벡터스토어 생성...\")\n",
    "print(\"임베딩 생성 중... (시간이 소요됩니다)\")\n",
    "\n",
    "start_time = time.time()\n",
    "try:\n",
    "    vectorstore = FAISS.from_documents(chunks, embeddings)\n",
    "    embedding_time = time.time() - start_time\n",
    "    print(f\"FAISS 벡터스토어 생성 완료 ({len(chunks)}개 벡터)\")\n",
    "    print(f\"임베딩 소요 시간: {embedding_time:.1f}초\")\n",
    "except Exception as e:\n",
    "    print(f\"벡터스토어 생성 실패: {e}\")\n",
    "    print(\"모델이 설치되어 있는지 확인해주세요: ollama pull qwen2.5:latest\")\n",
    "    exit(1)\n"
   ]
  },
  {
   "cell_type": "code",
   "execution_count": 5,
   "id": "dbe3f76e",
   "metadata": {},
   "outputs": [
    {
     "name": "stdout",
     "output_type": "stream",
     "text": [
      "==> 5. 검색기 설정...\n",
      "검색기 설정 완료\n",
      "==> 6. LLM 설정...\n",
      "LLM 설정 완료\n"
     ]
    }
   ],
   "source": [
    "\n",
    "# 5. 검색기 설정\n",
    "print(\"==> 5. 검색기 설정...\")\n",
    "retriever = vectorstore.as_retriever(\n",
    "    search_type=\"similarity\",\n",
    "    search_kwargs={\"k\": 3}\n",
    ")\n",
    "print(\"검색기 설정 완료\")\n",
    "\n",
    "# 6. LLM 설정\n",
    "print(\"==> 6. LLM 설정...\")\n",
    "try:\n",
    "    llm = ChatOllama(\n",
    "        model=MODEL_NAME,\n",
    "        temperature=0.1,\n",
    "        num_predict=800\n",
    "    )\n",
    "    print(\"LLM 설정 완료\")\n",
    "except Exception as e:\n",
    "    print(f\"LLM 설정 실패: {e}\")\n",
    "    exit(1)\n"
   ]
  },
  {
   "cell_type": "code",
   "execution_count": 6,
   "id": "bc1c79cb",
   "metadata": {},
   "outputs": [
    {
     "name": "stdout",
     "output_type": "stream",
     "text": [
      "==> 7. 프롬프트 설정...\n",
      "프롬프트 설정 완료\n"
     ]
    }
   ],
   "source": [
    "\n",
    "# 7. 프롬프트 설정\n",
    "print(\"==> 7. 프롬프트 설정...\")\n",
    "prompt_template = \"\"\"당신은 BlueJ 프로그래밍 환경 전문가입니다.\n",
    "아래 문서 내용을 바탕으로 정확하고 친절한 답변을 제공해주세요.\n",
    "\n",
    "문서 내용:\n",
    "{context}\n",
    "\n",
    "질문: {question}\n",
    "\n",
    "답변 규칙:\n",
    "1. 문서 내용만을 근거로 답변하세요\n",
    "2. 단계별로 설명하세요  \n",
    "3. 구체적인 메뉴명, 버튼명을 포함하세요\n",
    "4. 문서에 없는 정보는 \"문서에서 찾을 수 없습니다\"라고 하세요\n",
    "\n",
    "답변:\"\"\"\n",
    "\n",
    "prompt = PromptTemplate(\n",
    "    template=prompt_template,\n",
    "    input_variables=[\"context\", \"question\"]\n",
    ")\n",
    "print(\"프롬프트 설정 완료\")\n"
   ]
  },
  {
   "cell_type": "code",
   "execution_count": 7,
   "id": "ac8f2fc5",
   "metadata": {},
   "outputs": [
    {
     "name": "stdout",
     "output_type": "stream",
     "text": [
      "==> 8. QA 체인 생성...\n",
      "RAG 파이프라인 구축 완료\n"
     ]
    }
   ],
   "source": [
    "\n",
    "# 8. QA 체인 생성\n",
    "print(\"==> 8. QA 체인 생성...\")\n",
    "try:\n",
    "    qa_chain = RetrievalQA.from_chain_type(\n",
    "        llm=llm,\n",
    "        chain_type=\"stuff\",\n",
    "        retriever=retriever,\n",
    "        chain_type_kwargs={\"prompt\": prompt},\n",
    "        return_source_documents=True\n",
    "    )\n",
    "    print(\"RAG 파이프라인 구축 완료\")\n",
    "except Exception as e:\n",
    "    print(f\"QA 체인 생성 실패: {e}\")\n",
    "    exit(1)\n"
   ]
  },
  {
   "cell_type": "code",
   "execution_count": 8,
   "id": "44969472",
   "metadata": {},
   "outputs": [
    {
     "name": "stdout",
     "output_type": "stream",
     "text": [
      "\n",
      "============================================================\n",
      " 로컬 RAG 시스템 테스트\n",
      "============================================================\n",
      "\n",
      "【테스트 1/2】\n",
      "질문: BlueJ에서 객체를 생성하는 방법은 무엇인가요?\n",
      "답변 생성 중...\n",
      "\n",
      "답변: (응답시간: 9.0초)\n",
      "--------------------------------------------------\n",
      "<think>\n",
      "Okay, let's see. The user is asking how to create an object in BlueJ. I need to base the answer strictly on the provided document. Let me check the document again.\n",
      "\n",
      "The document mentions that BlueJ is a Java development environment, and it talks about opening non-BlueJ packages, adding classes from files, and other features. But there's no direct instruction on creating objects. The sections 1.1 and 1.2 discuss the environment, features, and usage, but not object creation.\n",
      "\n",
      "Wait, maybe the user is assuming that creating objects is part of the environment, but according to the document, the main features are about opening packages, adding classes, and project management. There's no mention of object creation in the given text. So the answer should state that the document doesn't cover object creation and list the available features instead.\n",
      "\n",
      "I need to make sure not to include any information not in the document. The answer should mention that the document doesn't explain object creation and list the steps related to the features mentioned, like opening non-BlueJ packages or adding classes. Also, the user might be confused because they think creating objects is part of BlueJ, but the document doesn't cover that.\n",
      "</think>\n",
      "\n",
      "문서에서 BlueJ에서 객체를 생성하는 방법에 대한 구체적인 설명은 없으며, 제공된 내용은 BlueJ의 프로젝트 관리, 패키지 오픈, 클래스 추가 등 기능에 대한 설명만 포함되어 있습니다. 따라서 객체 생성에 대한 방법은 문서에서 찾을 수 없습니다.  \n",
      "\n",
      "만약 BlueJ를 사용하여 프로젝트를 시작하거나 클래스를 추가하는 방법을 알고 싶다면 다음과 같은 단계를 참고할 수 있습니다:  \n",
      "1. **프로젝트 오픈**: `Project - Open Project...` 메뉴를 선택하여 프로젝트를 열고 있습니다.  \n",
      "2. **클래스 추가**: `Edit - Add Class from File...` 메뉴를 선택하여 외부에서 생성된 Java 클래스를 프로젝트에 추가할 수 있습니다.  \n",
      "3. **소스파일 추가**: 프로젝트 디렉토리에 새로운 Java 소스파일을 추가하고, 프로젝트를 다시 오픈하면 해당 클래스는 클래스 다이어그램 영역에 자동으로 생성됩니다.  \n",
      "\n",
      "문서에서는 객체 생성 자체에 대한 설명이 없으므로, 위의 단계를 참고하여 프로젝트를 구성해보세요.\n",
      "\n",
      "참조 문서:\n",
      "   1. 페이지 3: 4 1. 서문 1.1. BlueJ의 소개 본 튜토리얼은 BlueJ 프로그래밍 환경을 사용하...\n",
      "   2. 페이지 33: 34 10.기타 기능들 10.1. BlueJ로 만들지 않은 패키지 오픈하기   BlueJ는...\n",
      "\n",
      "----------------------------------------\n",
      "\n",
      "【테스트 2/2】\n",
      "질문: 컴파일 오류가 발생했을 때 어떻게 확인할 수 있나요?\n",
      "답변 생성 중...\n",
      "\n",
      "답변: (응답시간: 6.7초)\n",
      "--------------------------------------------------\n",
      "<think>\n",
      "Okay, let's tackle this question. The user is asking how to check for a compilation error using BlueJ. From the provided document, I need to outline the steps based on the content given.\n",
      "\n",
      "First, the document mentions that when a compilation error occurs, you can use the debugger to inspect the code. But the specific steps aren't detailed in the text. Wait, the user's question is about compilation errors, but the original document talks about debugging during runtime execution. Hmm, maybe the user is confused between compilation and runtime errors. The document doesn't mention compilation errors directly. Let me check again.\n",
      "\n",
      "The document discusses debugging during runtime, like setting breakpoints, stepping through code, and using the Step Into button. It doesn't mention compilation errors. So, the answer should note that the document doesn't cover compilation errors. But the user wants to know how to check a compilation error. Since the document doesn't provide instructions for that, I need to inform them that the information isn't available in the given text.\n",
      "\n",
      "But the user might be expecting a general approach. However, based on the provided content, there's no mention of compilation errors. So the answer should state that the document doesn't cover compilation errors and list the steps related to runtime debugging instead.\n",
      "</think>\n",
      "\n",
      "문서에서 컴파일 오류를 확인하는 방법은 언급되지 않았습니다. 그러나 BlueJ를 사용하여 실행 중단과 디버깅 기능을 통해 소스코드의 실행 상황을 확인할 수 있습니다. 아래 단계별 설명을 제공합니다:\n",
      "\n",
      "1. **소스코드에서 중단점을 설정**  \n",
      "   - 편집기에서 소스코드의 왼쪽 부분(중단점 영역)에 마우스 왼쪽 버튼을 클릭하여 중단점을 설정합니다.  \n",
      "   - 예: `places = myCar.seats();` 라인에 중단점을 설정합니다.\n",
      "\n",
      "2. **컴파일 오류 확인**  \n",
      "   - 컴파일 오류는 소스코드의 형식 또는 구조 문제로 발생합니다.  \n",
      "   - 디버거 윈도우에서 소스코드가 실행 중단되며, 에러 메시지가 자동으로 표시되지 않을 수 있습니다.  \n",
      "   - 오류 메시지가 나타나면, 해당 라인의 코드를 확인하여 형식 오류나 런타임 오류를 확인할 수 있습니다.\n",
      "\n",
      "3. **디버깅 기능 활용**  \n",
      "   - **Step 버튼**을 클릭하여 코드를 단계별로 실행합니다.  \n",
      "   - **Step Into 버튼**을 클릭하여 메소드 호출 시 단계별 실행을 자동으로 시작합니다.  \n",
      "   - **Continue 버튼**을 클릭하여 실행을 이어갑니다.\n",
      "\n",
      "4. **중단점 제거**  \n",
      "   - 오류가 해결된 후에는 중단점을 다시 클릭하여 `Stop` 표시를 제거합니다.\n",
      "\n",
      "**문서에서 찾을 수 없습니다**  \n",
      "- 컴파일 오류의 확인 방법은 BlueJ 문서에서 직접 언급되지 않았습니다. 위의 단계는 실행 중단과 디버깅 기능을 활용한 소스코드 분석 방법입니다.\n",
      "\n",
      "참조 문서:\n",
      "   1. 페이지 25: 프로그램 실행이 일시 중단 되면, 프로그램 실행에 의해 생성되어 실행중인 객체들의 현재  ...\n",
      "   2. 페이지 27: 28 7.2. 코드의 단계별 실행 현재 실행을 일시 중지한 상태이며(메소드는 실제로 실행이...\n",
      "\n",
      "----------------------------------------\n",
      "\n",
      "테스트 완료! (총 소요시간: 15.7초)\n"
     ]
    }
   ],
   "source": [
    "\n",
    "# 9. 테스트 실행\n",
    "print(\"\\n\" + \"=\" * 60)\n",
    "print(\" 로컬 RAG 시스템 테스트\")\n",
    "print(\"=\" * 60)\n",
    "\n",
    "test_questions = [\n",
    "    \"BlueJ에서 객체를 생성하는 방법은 무엇인가요?\",\n",
    "    \"컴파일 오류가 발생했을 때 어떻게 확인할 수 있나요?\"\n",
    "]\n",
    "\n",
    "total_start_time = time.time()\n",
    "\n",
    "for i, question in enumerate(test_questions, 1):\n",
    "    print(f\"\\n【테스트 {i}/{len(test_questions)}】\")\n",
    "    print(f\"질문: {question}\")\n",
    "    print(\"답변 생성 중...\")\n",
    "    \n",
    "    question_start_time = time.time()\n",
    "    \n",
    "    try:\n",
    "        result = qa_chain.invoke({\"query\": question})\n",
    "        answer = result[\"result\"]\n",
    "        source_docs = result[\"source_documents\"]\n",
    "        \n",
    "        question_time = time.time() - question_start_time\n",
    "        \n",
    "        print(f\"\\n답변: (응답시간: {question_time:.1f}초)\")\n",
    "        print(\"-\" * 50)\n",
    "        print(answer)\n",
    "        \n",
    "        print(f\"\\n참조 문서:\")\n",
    "        for j, doc in enumerate(source_docs[:2], 1):\n",
    "            page = doc.metadata.get('page', 'N/A')\n",
    "            preview = doc.page_content[:50].replace('\\n', ' ')\n",
    "            print(f\"   {j}. 페이지 {page}: {preview}...\")\n",
    "            \n",
    "    except Exception as e:\n",
    "        print(f\"답변 생성 실패: {e}\")\n",
    "    \n",
    "    print(\"\\n\" + \"-\" * 40)\n",
    "\n",
    "total_time = time.time() - total_start_time\n",
    "print(f\"\\n테스트 완료! (총 소요시간: {total_time:.1f}초)\")\n"
   ]
  },
  {
   "cell_type": "code",
   "execution_count": 9,
   "id": "225ae017",
   "metadata": {},
   "outputs": [
    {
     "name": "stdout",
     "output_type": "stream",
     "text": [
      "\n",
      "============================================================\n",
      " 대화형 모드 (종료: 'quit' 입력)\n",
      "============================================================\n",
      "RAG 시스템을 종료합니다.\n",
      "\n",
      "로컬 RAG 시스템 세션 종료!\n"
     ]
    }
   ],
   "source": [
    "\n",
    "# 10. 대화형 모드\n",
    "print(\"\\n\" + \"=\" * 60)\n",
    "print(\" 대화형 모드 (종료: 'quit' 입력)\")\n",
    "print(\"=\" * 60)\n",
    "\n",
    "while True:\n",
    "    try:\n",
    "        user_question = input(\"\\n질문을 입력하세요: \").strip()\n",
    "        \n",
    "        if user_question.lower() in ['quit', 'exit', '종료', 'q']:\n",
    "            print(\"RAG 시스템을 종료합니다.\")\n",
    "            break\n",
    "            \n",
    "        if not user_question:\n",
    "            continue\n",
    "            \n",
    "        print(\"답변 생성 중...\")\n",
    "        start_time = time.time()\n",
    "        \n",
    "        result = qa_chain.invoke({\"query\": user_question})\n",
    "        answer = result[\"result\"]\n",
    "        response_time = time.time() - start_time\n",
    "        \n",
    "        print(f\"\\n답변: (응답시간: {response_time:.1f}초)\")\n",
    "        print(\"-\" * 50)\n",
    "        print(answer)\n",
    "        \n",
    "    except KeyboardInterrupt:\n",
    "        print(\"\\nRAG 시스템을 종료합니다.\")\n",
    "        break\n",
    "    except Exception as e:\n",
    "        print(f\"오류 발생: {e}\")\n",
    "\n",
    "print(\"\\n로컬 RAG 시스템 세션 종료!\")"
   ]
  }
 ],
 "metadata": {
  "kernelspec": {
   "display_name": "langchain-basic-kGdHTiMZ-py3.12",
   "language": "python",
   "name": "python3"
  },
  "language_info": {
   "codemirror_mode": {
    "name": "ipython",
    "version": 3
   },
   "file_extension": ".py",
   "mimetype": "text/x-python",
   "name": "python",
   "nbconvert_exporter": "python",
   "pygments_lexer": "ipython3",
   "version": "3.12.7"
  }
 },
 "nbformat": 4,
 "nbformat_minor": 5
}
