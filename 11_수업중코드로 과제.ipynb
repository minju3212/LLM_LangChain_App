{
 "cells": [
  {
   "cell_type": "markdown",
   "id": "bf1cf819",
   "metadata": {},
   "source": [
    "## 1. 환경 설정"
   ]
  },
  {
   "cell_type": "markdown",
   "id": "bc0cb932",
   "metadata": {},
   "source": [
    "`(1) Env 환경변수`"
   ]
  },
  {
   "cell_type": "code",
   "execution_count": 1,
   "id": "423dec5b",
   "metadata": {},
   "outputs": [
    {
     "data": {
      "text/plain": [
       "True"
      ]
     },
     "execution_count": 1,
     "metadata": {},
     "output_type": "execute_result"
    }
   ],
   "source": [
    "from dotenv import load_dotenv\n",
    "load_dotenv()"
   ]
  },
  {
   "cell_type": "markdown",
   "id": "b00b09cb",
   "metadata": {},
   "source": [
    "`(2) 라이브러리`"
   ]
  },
  {
   "cell_type": "code",
   "execution_count": 2,
   "id": "54412ba6",
   "metadata": {},
   "outputs": [],
   "source": [
    "import re\n",
    "import os, json\n",
    "\n",
    "from textwrap import dedent\n",
    "from pprint import pprint\n",
    "\n",
    "import warnings\n",
    "warnings.filterwarnings(\"ignore\")"
   ]
  },
  {
   "cell_type": "markdown",
   "id": "50e67655",
   "metadata": {},
   "source": [
    "## 2. 도구 호출 (Tool Calling)\n",
    "- 도구 호출은 LLM이 특정 작업을 수행하기 위해 외부 기능을 호출하는 기능\n",
    "- 이를 통해 LLM은 외부 API 통합 등 더 복잡한 작업을 수행할 수 있음 "
   ]
  },
  {
   "cell_type": "markdown",
   "id": "7bdccc6b",
   "metadata": {},
   "source": [
    "### 2-1. 랭체인 내장 도구\n",
    "- Tavily 웹 검색 도구 (예시)"
   ]
  },
  {
   "cell_type": "markdown",
   "id": "a6f7e257",
   "metadata": {},
   "source": [
    "`(1) 도구(tool) 정의하기`"
   ]
  },
  {
   "cell_type": "code",
   "execution_count": 3,
   "id": "7c85ed38",
   "metadata": {},
   "outputs": [
    {
     "name": "stdout",
     "output_type": "stream",
     "text": [
      "<class 'dict'>\n",
      "<class 'dict'>\n",
      "{'content': '아메리카노의 유래에는 다양한 기원이 있는데요, 그 중 대표적인 두가지를 알려드릴게요. 1. 홍차와 최대한 비슷한 '\n",
      "            '농도로! ... 커피를 최대한 홍차와',\n",
      " 'raw_content': None,\n",
      " 'score': 0.51091194,\n",
      " 'title': '아메리카노(Americano) 이름의 유래, 어원, 역사, 뜻! - Naver Blog',\n",
      " 'url': 'http://blog.naver.com/danubecafe/220838475735'}\n",
      "----------------------------------------------------------------------------------------------------\n",
      "<class 'dict'>\n",
      "{'content': '일단 가장 유력한 가설은 제2차 세계 대전 당시 이탈리아에 점령군으로 진주한 미군들에게에서 유래했다는 설이다. 당시 '\n",
      "            '지금도 그렇지만 이탈리아는 커피',\n",
      " 'raw_content': None,\n",
      " 'score': 0.46147847,\n",
      " 'title': '카페 아메리카노 - 나무위키',\n",
      " 'url': 'https://namu.wiki/w/%EC%B9%B4%ED%8E%98%20%EC%95%84%EB%A9%94%EB%A6%AC%EC%B9%B4%EB%85%B8'}\n",
      "----------------------------------------------------------------------------------------------------\n",
      "<class 'dict'>\n",
      "{'content': '아메리카노의 유래는 이탈리아의 에스프레소에서 비롯되었습니다. 이탈리아에서는 에스프레소를 그대로 마시는 것이 '\n",
      "            '일반적이었는데, 이탈리아 외국인들은',\n",
      " 'raw_content': None,\n",
      " 'score': 0.40782914,\n",
      " 'title': '아메리카노의 유래와 전파/만드는 방법에 대해 알아보자 - 네이버 블로그',\n",
      " 'url': 'https://m.blog.naver.com/coffeequality/223054490615'}\n",
      "----------------------------------------------------------------------------------------------------\n"
     ]
    }
   ],
   "source": [
    "# poetry add langchain-tavily\n",
    "# 최신 langchain 0.3.25 최신버전 기준  langchain-tavily 포함된 클래스를 사용\n",
    "from langchain_tavily.tavily_search import TavilySearch\n",
    "\n",
    "# 검색할 쿼리 설정\n",
    "query = \"아메리카노 정보와 커피 역사를 알려주세요.\"\n",
    "\n",
    "# Tavily 검색 도구 초기화 (최대 2개의 결과 반환)\n",
    "web_search = TavilySearch(max_results=3)\n",
    "\n",
    "# 웹 검색 실행\n",
    "search_results = web_search.invoke(query)\n",
    "print(type(search_results))\n",
    "#pprint(search_results)\n",
    "\n",
    "# 검색 결과 출력\n",
    "for result in search_results['results']:\n",
    "    print(type(result))\n",
    "    pprint(result)  \n",
    "    print(\"-\" * 100)  "
   ]
  },
  {
   "cell_type": "code",
   "execution_count": 4,
   "id": "82fcd7e4",
   "metadata": {},
   "outputs": [
    {
     "name": "stderr",
     "output_type": "stream",
     "text": [
      "C:\\Users\\user\\AppData\\Local\\Temp\\ipykernel_19984\\1913865668.py:8: LangChainDeprecationWarning: The class `TavilySearchResults` was deprecated in LangChain 0.3.25 and will be removed in 1.0. An updated version of the class exists in the :class:`~langchain-tavily package and should be used instead. To use it run `pip install -U :class:`~langchain-tavily` and import as `from :class:`~langchain_tavily import TavilySearch``.\n",
      "  web_search = TavilySearchResults(max_results=3)\n"
     ]
    },
    {
     "name": "stdout",
     "output_type": "stream",
     "text": [
      "<class 'list'>\n",
      "<class 'dict'>\n",
      "{'content': '[1](https://namu.wiki/w/%EC%B9%B4%ED%8E%98%20%EC%95%84%EB%A9%94%EB%A6%AC%EC%B9%B4%EB%85%B8#s-1). '\n",
      "            '개요[2](https://namu.wiki/w/%EC%B9%B4%ED%8E%98%20%EC%95%84%EB%A9%94%EB%A6%AC%EC%B9%B4%EB%85%B8#s-2). '\n",
      "            '맛[3](https://namu.wiki/w/%EC%B9%B4%ED%8E%98%20%EC%95%84%EB%A9%94%EB%A6%AC%EC%B9%B4%EB%85%B8#s-3). '\n",
      "            '가격[4](https://namu.wiki/w/%EC%B9%B4%ED%8E%98%20%EC%95%84%EB%A9%94%EB%A6%AC%EC%B9%B4%EB%85%B8#s-4). '\n",
      "            '유래 및 '\n",
      "            '명칭[5](https://namu.wiki/w/%EC%B9%B4%ED%8E%98%20%EC%95%84%EB%A9%94%EB%A6%AC%EC%B9%B4%EB%85%B8#s-5). '\n",
      "            '[...] '\n",
      "            '커피](https://namu.wiki/w/%EB%93%9C%EB%A6%BD%20%EC%BB%A4%ED%94%BC '\n",
      "            '\"드립 커피\") 수준으로 에스프레소를 물에 희석해서 마셨는데, 이 커피를 '\n",
      "            '[이탈리아인](https://namu.wiki/w/%EC%9D%B4%ED%83%88%EB%A6%AC%EC%95%84%EC%9D%B8 '\n",
      "            '\"이탈리아인\")들이 \"커피맛도 모르는 양키놈들\" 이라며 반쯤 경멸의 의미를 담아 아메리카노라고 불렀다는 '\n",
      "            '설이다.[[5]](https://namu.wiki/w/%EC%B9%B4%ED%8E%98%20%EC%95%84%EB%A9%94%EB%A6%AC%EC%B9%B4%EB%85%B8#fn-5 '\n",
      "            '\"이 유래와는 별개로 지금도 이탈리아인들은 요리에 매우 엄격한 편이며, 여전히 아메리카노를 커피가 아닌 \\'커피를 '\n",
      "            \"베이스로 사용한 가공 음료'정도로 여긴다. 그들은 커피에 다른 것을 첨가한다는 것 자체를 좋아하지 않으며, 심지어 \"\n",
      "            '우유를 넣은 라떼류도 선호도가 낮다. 현재는 개인의 [...] 이후 이 '\n",
      "            \"'[에스프레소](https://namu.wiki/w/%EC%97%90%EC%8A%A4%ED%94%84%EB%A0%88%EC%86%8C \"\n",
      "            '\"에스프레소\")에 [물](https://namu.wiki/w/%EB%AC%BC \"물\")을 타 먹는 문화\\'는 마이너한 '\n",
      "            '커피 문화로 남아있다가 1980년대 '\n",
      "            '[스타벅스](https://namu.wiki/w/%EC%8A%A4%ED%83%80%EB%B2%85%EC%8A%A4 '\n",
      "            '\"스타벅스\")가 주력 메뉴로 채택하면서 \\'아메리카노\\'라는 이름을 붙였고 전 세계로 전파되기에 이른다. 유래는 설이 '\n",
      "            '분분하지만 아메리카노의 전파에 스타벅스가 큰 역할을 했다는 것은 이견 없이 인정받는다.',\n",
      " 'score': 0.6675167,\n",
      " 'title': '카페 아메리카노 - 나무위키',\n",
      " 'url': 'https://namu.wiki/w/%EC%B9%B4%ED%8E%98%20%EC%95%84%EB%A9%94%EB%A6%AC%EC%B9%B4%EB%85%B8'}\n",
      "----------------------------------------------------------------------------------------------------\n",
      "<class 'dict'>\n",
      "{'content': '[© nate\\\\_dumlao, 출처 '\n",
      "            'Unsplash](https://unsplash.com/photos/nBJHO6wmRWw?utm_source=naversmarteditor&utm_medium=referral&utm_campaign=api-credit)\\n'\n",
      "            '\\n'\n",
      "            '**아메리카노의 탄생과 유래**\\n'\n",
      "            '\\n'\n",
      "            '아메리카노의 유래는 이탈리아의 에스프레소에서 비롯되었습니다. 이탈리아에서는 에스프레소를 그대로 마시는 것이 '\n",
      "            '일반적이었는데, 이탈리아 외국인들은 에스프레소의 맛이 너무 진해서 물을 추가해주는 방식으로 커피를 마시게 되었습니다. '\n",
      "            '이런 방식으로 만들어진 커피를 \"아메리카노\"라고 불렀습니다. 이유는 물을 추가한 커피가 미국에서 일반적으로 마시는 '\n",
      "            '커피 스타일이기 때문입니다. [...] 아메리카노는 우리나라 사람들이 가장 많이 마시는 커피 중 하나입니다. 특히나 '\n",
      "            '대학생과 직장인에게 인기가 많은 음료입니다. 이 아메리카노라는 단어 자체가 이탈리아어로 ‘쓰다’라는 뜻이라는 거 알고 '\n",
      "            '계셨나요? 처음엔 쓴 맛밖에 나지 않던 에스프레소였지만 시간이 지나면서 설탕 등 다양한 재료들을 첨가하게 되었고 '\n",
      "            '지금처럼 대중적인 음료가 되었다고 합니다. 이번에는 아메리카노의 유래와 전파에 대해서 알아보도록 하겠습니다.\\n'\n",
      "            '\\n'\n",
      "            '\\u200b\\n'\n",
      "            '\\n'\n",
      "            '![](https://mblogthumb-phinf.pstatic.net/MjAyMzAzMjRfMjgw/MDAxNjc5NjM5Mzk3NjM3.8yXA5OqCAgs5TDFH61J1GHVYS66GjzDkJrfjCMIWbq8g.rOiFu2wUTtCBvnpJ4Gse8lrgtCXaZy4g0YxH7iSJqi4g.JPEG.estroad/photo-1514432324607-a09d9b4aefdd.jpg?type=w80_blur) '\n",
      "            '[...] 사실 아메리카노는 이탈리아어인 `acqua melo`(진한) + `americano`(미국인) = 진한 '\n",
      "            '아메리카 (커피) 라는 뜻입니다. 하지만 현재 한국에서는 에스프레소에 물을 탄 형태의 커피를 모두 아메리카노라고 '\n",
      "            '부르고 있습니다. 그래서 지금은 영어권 국가에서도 그냥 American coffee 라고 부른다고 합니다.\\n'\n",
      "            '\\n'\n",
      "            '![](https://mblogthumb-phinf.pstatic.net/MjAyMzAzMjRfNiAg/MDAxNjc5NjQwNTg1Mzk5.09Cq1gKqrvyBJerhKhrE-U9IK8hjlDlGvTupo-WpgYsg.Fxlu4kl0QIsFRUtEYvomuRjBHG1uT9jW6PsTXKbWmqEg.JPEG.estroad/photo-1533007716222-4b465613a984.jpg?type=w80_blur)',\n",
      " 'score': 0.6609831,\n",
      " 'title': '아메리카노의 유래와 전파/만드는 방법에 대해 알아보자 - 네이버 블로그',\n",
      " 'url': 'https://m.blog.naver.com/coffeequality/223054490615'}\n",
      "----------------------------------------------------------------------------------------------------\n",
      "<class 'dict'>\n",
      "{'content': '아메리카노의 유래에는 다양한 기원이 있는데요, 그 중 대표적인 두가지를 알려드릴게요. 1. 홍차와 최대한 비슷한 '\n",
      "            '농도로! ... 커피를 최대한 홍차와',\n",
      " 'score': 0.61834323,\n",
      " 'title': '아메리카노(Americano) 이름의 유래, 어원, 역사, 뜻! - Naver Blog',\n",
      " 'url': 'http://blog.naver.com/danubecafe/220838475735'}\n",
      "----------------------------------------------------------------------------------------------------\n"
     ]
    }
   ],
   "source": [
    "# 최신 langchain 0.3.25 이전 버전 langchain community 에 포함된 클래스를 사용\n",
    "from langchain_community.tools import TavilySearchResults\n",
    "\n",
    "# 검색할 쿼리 설정\n",
    "query = \"아메리카노 정보와 커피 역사를 알려주세요.\"\n",
    "\n",
    "# Tavily 검색 도구 초기화 (최대 2개의 결과 반환)\n",
    "web_search = TavilySearchResults(max_results=3)\n",
    "\n",
    "# 웹 검색 실행\n",
    "search_results = web_search.invoke(query)\n",
    "print(type(search_results))\n",
    "#pprint(search_results)\n",
    "\n",
    "# 검색 결과 출력\n",
    "for result in search_results:\n",
    "    print(type(result))\n",
    "    pprint(result)  \n",
    "    print(\"-\" * 100)  "
   ]
  },
  {
   "cell_type": "code",
   "execution_count": 5,
   "id": "b6791575",
   "metadata": {},
   "outputs": [
    {
     "name": "stdout",
     "output_type": "stream",
     "text": [
      "자료형: \n",
      "<class 'langchain_community.tools.tavily_search.tool.TavilySearchResults'>\n",
      "----------------------------------------------------------------------------------------------------\n",
      "name: \n",
      "tavily_search_results_json\n",
      "----------------------------------------------------------------------------------------------------\n",
      "description: \n",
      "('A search engine optimized for comprehensive, accurate, and trusted results. '\n",
      " 'Useful for when you need to answer questions about current events. Input '\n",
      " 'should be a search query.')\n",
      "----------------------------------------------------------------------------------------------------\n",
      "schema: \n",
      "{'description': 'Input for the Tavily tool.',\n",
      " 'properties': {'query': {'description': 'search query to look up',\n",
      "                          'title': 'Query',\n",
      "                          'type': 'string'}},\n",
      " 'required': ['query'],\n",
      " 'title': 'TavilyInput',\n",
      " 'type': 'object'}\n",
      "----------------------------------------------------------------------------------------------------\n"
     ]
    }
   ],
   "source": [
    "# 도구 속성\n",
    "print(\"자료형: \")\n",
    "print(type(web_search))\n",
    "print(\"-\"*100)\n",
    "\n",
    "print(\"name: \")\n",
    "print(web_search.name)\n",
    "print(\"-\"*100)\n",
    "\n",
    "print(\"description: \")\n",
    "pprint(web_search.description)\n",
    "print(\"-\"*100)\n",
    "\n",
    "print(\"schema: \")\n",
    "pprint(web_search.args_schema.schema())\n",
    "print(\"-\"*100)"
   ]
  },
  {
   "cell_type": "markdown",
   "id": "88b600d9",
   "metadata": {},
   "source": [
    "`(2) 도구(tool) 호출하기`"
   ]
  },
  {
   "cell_type": "code",
   "execution_count": 6,
   "id": "51a3633c",
   "metadata": {},
   "outputs": [],
   "source": [
    "from langchain_openai import ChatOpenAI\n",
    "\n",
    "# ChatOpenAI 모델 초기화\n",
    "#llm = ChatOpenAI(model=\"gpt-3.5-turbo-0125\")\n",
    "llm = ChatOpenAI(model=\"gpt-4o-mini\")\n",
    "\n",
    "# 웹 검색 도구를 직접 LLM에 바인딩 가능\n",
    "llm_with_tools = llm.bind_tools(tools=[web_search])"
   ]
  },
  {
   "cell_type": "code",
   "execution_count": 7,
   "id": "17d2468d",
   "metadata": {},
   "outputs": [
    {
     "name": "stdout",
     "output_type": "stream",
     "text": [
      "<class 'langchain_core.messages.ai.AIMessage'>\n",
      "AIMessage(content='안녕하세요! 어떻게 도와드릴까요?', additional_kwargs={'refusal': None}, response_metadata={'token_usage': {'completion_tokens': 11, 'prompt_tokens': 82, 'total_tokens': 93, 'completion_tokens_details': {'accepted_prediction_tokens': 0, 'audio_tokens': 0, 'reasoning_tokens': 0, 'rejected_prediction_tokens': 0}, 'prompt_tokens_details': {'audio_tokens': 0, 'cached_tokens': 0}}, 'model_name': 'gpt-4o-mini-2024-07-18', 'system_fingerprint': 'fp_34a54ae93c', 'id': 'chatcmpl-Bj4P7F4eieEpb6Sgey1hv7dchW8M1', 'service_tier': 'default', 'finish_reason': 'stop', 'logprobs': None}, id='run--54b30d7c-294a-4d8f-bb18-111c5e7f82aa-0', usage_metadata={'input_tokens': 82, 'output_tokens': 11, 'total_tokens': 93, 'input_token_details': {'audio': 0, 'cache_read': 0}, 'output_token_details': {'audio': 0, 'reasoning': 0}})\n",
      "----------------------------------------------------------------------------------------------------\n",
      "'안녕하세요! 어떻게 도와드릴까요?'\n",
      "----------------------------------------------------------------------------------------------------\n",
      "[]\n",
      "----------------------------------------------------------------------------------------------------\n"
     ]
    }
   ],
   "source": [
    "# 도구 호출이 필요 없는 LLM 호출을 수행\n",
    "query = \"안녕하세요.\"\n",
    "ai_msg = llm_with_tools.invoke(query)\n",
    "print(type(ai_msg))\n",
    "\n",
    "# LLM의 전체 출력 결과 출력\n",
    "pprint(ai_msg)\n",
    "print(\"-\" * 100)\n",
    "\n",
    "# 메시지 content 속성 (텍스트 출력)\n",
    "pprint(ai_msg.content)\n",
    "print(\"-\" * 100)\n",
    "\n",
    "# LLM이 호출한 도구 정보 출력\n",
    "pprint(ai_msg.tool_calls)\n",
    "print(\"-\" * 100)"
   ]
  },
  {
   "cell_type": "code",
   "execution_count": 8,
   "id": "dd8df009",
   "metadata": {},
   "outputs": [],
   "source": [
    "from pprint import pprint\n",
    "\n",
    "# 도구 호출이 필요한 LLM 호출을 수행\n",
    "query = \"아메리카노 정보와 커피 역사를 알려주세요.\"\n",
    "ai_msg = llm_with_tools.invoke(query)\n",
    "\n",
    "# AIMessage의 속성 확인\n",
    "#pprint(dir(ai_msg))"
   ]
  },
  {
   "cell_type": "code",
   "execution_count": 9,
   "id": "c0c5daa3",
   "metadata": {},
   "outputs": [
    {
     "name": "stdout",
     "output_type": "stream",
     "text": [
      "{'additional_kwargs': {'refusal': None,\n",
      "                       'tool_calls': [{'function': {'arguments': '{\"query\": '\n",
      "                                                                 '\"Americano '\n",
      "                                                                 'coffee '\n",
      "                                                                 'information\"}',\n",
      "                                                    'name': 'tavily_search_results_json'},\n",
      "                                       'id': 'call_29BEAOq3Sq331rtW7nhlXam0',\n",
      "                                       'type': 'function'},\n",
      "                                      {'function': {'arguments': '{\"query\": '\n",
      "                                                                 '\"history of '\n",
      "                                                                 'coffee\"}',\n",
      "                                                    'name': 'tavily_search_results_json'},\n",
      "                                       'id': 'call_Ev0TEitugxJ6CmORuhsljyz7',\n",
      "                                       'type': 'function'}]},\n",
      " 'content': '',\n",
      " 'example': False,\n",
      " 'id': 'run--11c8fc2e-7a80-44cc-852b-f8d5acb1e6e9-0',\n",
      " 'invalid_tool_calls': [],\n",
      " 'name': None,\n",
      " 'response_metadata': {'finish_reason': 'tool_calls',\n",
      "                       'id': 'chatcmpl-Bj4PWnGUZck2xiegI66K8eVhLagkI',\n",
      "                       'logprobs': None,\n",
      "                       'model_name': 'gpt-4o-mini-2024-07-18',\n",
      "                       'service_tier': 'default',\n",
      "                       'system_fingerprint': 'fp_34a54ae93c',\n",
      "                       'token_usage': {'completion_tokens': 57,\n",
      "                                       'completion_tokens_details': {'accepted_prediction_tokens': 0,\n",
      "                                                                     'audio_tokens': 0,\n",
      "                                                                     'reasoning_tokens': 0,\n",
      "                                                                     'rejected_prediction_tokens': 0},\n",
      "                                       'prompt_tokens': 93,\n",
      "                                       'prompt_tokens_details': {'audio_tokens': 0,\n",
      "                                                                 'cached_tokens': 0},\n",
      "                                       'total_tokens': 150}},\n",
      " 'tool_calls': [{'args': {'query': 'Americano coffee information'},\n",
      "                 'id': 'call_29BEAOq3Sq331rtW7nhlXam0',\n",
      "                 'name': 'tavily_search_results_json',\n",
      "                 'type': 'tool_call'},\n",
      "                {'args': {'query': 'history of coffee'},\n",
      "                 'id': 'call_Ev0TEitugxJ6CmORuhsljyz7',\n",
      "                 'name': 'tavily_search_results_json',\n",
      "                 'type': 'tool_call'}],\n",
      " 'type': 'ai',\n",
      " 'usage_metadata': {'input_token_details': {'audio': 0, 'cache_read': 0},\n",
      "                    'input_tokens': 93,\n",
      "                    'output_token_details': {'audio': 0, 'reasoning': 0},\n",
      "                    'output_tokens': 57,\n",
      "                    'total_tokens': 150}}\n"
     ]
    }
   ],
   "source": [
    "\n",
    "pprint(vars(ai_msg))"
   ]
  },
  {
   "cell_type": "code",
   "execution_count": 10,
   "id": "2dcc0f63",
   "metadata": {},
   "outputs": [
    {
     "name": "stdout",
     "output_type": "stream",
     "text": [
      "AIMessage(content='', additional_kwargs={'tool_calls': [{'id': 'call_29BEAOq3Sq331rtW7nhlXam0', 'function': {'arguments': '{\"query\": \"Americano coffee information\"}', 'name': 'tavily_search_results_json'}, 'type': 'function'}, {'id': 'call_Ev0TEitugxJ6CmORuhsljyz7', 'function': {'arguments': '{\"query\": \"history of coffee\"}', 'name': 'tavily_search_results_json'}, 'type': 'function'}], 'refusal': None}, response_metadata={'token_usage': {'completion_tokens': 57, 'prompt_tokens': 93, 'total_tokens': 150, 'completion_tokens_details': {'accepted_prediction_tokens': 0, 'audio_tokens': 0, 'reasoning_tokens': 0, 'rejected_prediction_tokens': 0}, 'prompt_tokens_details': {'audio_tokens': 0, 'cached_tokens': 0}}, 'model_name': 'gpt-4o-mini-2024-07-18', 'system_fingerprint': 'fp_34a54ae93c', 'id': 'chatcmpl-Bj4PWnGUZck2xiegI66K8eVhLagkI', 'service_tier': 'default', 'finish_reason': 'tool_calls', 'logprobs': None}, id='run--11c8fc2e-7a80-44cc-852b-f8d5acb1e6e9-0', tool_calls=[{'name': 'tavily_search_results_json', 'args': {'query': 'Americano coffee information'}, 'id': 'call_29BEAOq3Sq331rtW7nhlXam0', 'type': 'tool_call'}, {'name': 'tavily_search_results_json', 'args': {'query': 'history of coffee'}, 'id': 'call_Ev0TEitugxJ6CmORuhsljyz7', 'type': 'tool_call'}], usage_metadata={'input_tokens': 93, 'output_tokens': 57, 'total_tokens': 150, 'input_token_details': {'audio': 0, 'cache_read': 0}, 'output_token_details': {'audio': 0, 'reasoning': 0}})\n",
      "####################################################################################################\n",
      "''\n",
      "****************************************************************************************************\n",
      "[{'args': {'query': 'Americano coffee information'},\n",
      "  'id': 'call_29BEAOq3Sq331rtW7nhlXam0',\n",
      "  'name': 'tavily_search_results_json',\n",
      "  'type': 'tool_call'},\n",
      " {'args': {'query': 'history of coffee'},\n",
      "  'id': 'call_Ev0TEitugxJ6CmORuhsljyz7',\n",
      "  'name': 'tavily_search_results_json',\n",
      "  'type': 'tool_call'}]\n",
      "----------------------------------------------------------------------------------------------------\n"
     ]
    }
   ],
   "source": [
    "\n",
    "pprint(ai_msg)\n",
    "print(\"#\" * 100)\n",
    "\n",
    "# 메시지 content 속성 (텍스트 출력)\n",
    "pprint(ai_msg.content)\n",
    "print(\"*\" * 100)\n",
    "\n",
    "# LLM이 호출한 도구 정보 출력\n",
    "pprint(ai_msg.tool_calls)\n",
    "print(\"-\" * 100)"
   ]
  },
  {
   "cell_type": "code",
   "execution_count": 11,
   "id": "84d0d45d",
   "metadata": {},
   "outputs": [
    {
     "name": "stdout",
     "output_type": "stream",
     "text": [
      "{'args': {'query': 'Americano coffee information'},\n",
      " 'id': 'call_29BEAOq3Sq331rtW7nhlXam0',\n",
      " 'name': 'tavily_search_results_json',\n",
      " 'type': 'tool_call'}\n"
     ]
    }
   ],
   "source": [
    "# AIMessage 객체에 포함된 \n",
    "tool_call = ai_msg.tool_calls[0]\n",
    "\n",
    "pprint(tool_call)"
   ]
  },
  {
   "cell_type": "markdown",
   "id": "86835305",
   "metadata": {},
   "source": [
    "`(3) 도구(tool) 실행하기`\n",
    "\n",
    "#### 방법 1: 직접 도구 호출 처리한 결과로 ToolMessage 객체 생성\n",
    "\n",
    "* 이 방법은 AI 메시지에서 첫 번째 도구 호출을 가져와 직접 처리한다.\n",
    "* 'args' 속성을 사용하여 TavilySearch 객체의 invoke() 호출하여 결과를 얻는다.\n"
   ]
  },
  {
   "cell_type": "code",
   "execution_count": 12,
   "id": "a3eb0c7e",
   "metadata": {},
   "outputs": [
    {
     "name": "stdout",
     "output_type": "stream",
     "text": [
      "tavily_search_results_json 호출 결과:\n",
      "----------------------------------------------------------------------------------------------------\n",
      "[{'content': 'The Americano, or Caffè Americano, is a coffee drink made by '\n",
      "             'adding hot water to a shot of espresso. The drink was created '\n",
      "             'during World War II when American soldiers stationed in Italy '\n",
      "             'wanted a coffee that was less strong than traditional Italian '\n",
      "             'espresso, similar to the drip coffee they were used to at home. '\n",
      "             'The resulting drink was named after its intended audience and '\n",
      "             'has since become a popular coffee drink worldwide. While coffee '\n",
      "             'was introduced to the new world in the 17th century, it only '\n",
      "             '[...] **Grind**: Fine\\n'\n",
      "             '\\n'\n",
      "             '**Brew time**: 25 – 30 seconds\\n'\n",
      "             '\\n'\n",
      "             '**Temperature**: 90 – 94 degrees Celsius (depends on the roast '\n",
      "             'color)\\n'\n",
      "             '\\n'\n",
      "             '**Final beverage size**: 7.5 ounces\\n'\n",
      "             '\\n'\n",
      "             'Double shot Americano Recipe:\\n'\n",
      "             '\\n'\n",
      "             'Using a 1:4 ratio, pour 6 ounces of hot water (use the same '\n",
      "             'temperature you brewed your espresso with) into your cup for a '\n",
      "             'final beverage size of 7.5 ounces.\\n'\n",
      "             '\\n'\n",
      "             '**How do you make an 8-ounce Americano?**\\n'\n",
      "             '\\n'\n",
      "             '**Dose**: 20 grams of coffee to 40 grams or 1.5 ounces of brewed '\n",
      "             'espresso by pulling a 1:2 “normale” shot. [...] **Dose**: 14 '\n",
      "             'grams of coffee to 28 grams or 1 ounce of brewed espresso\\n'\n",
      "             '\\n'\n",
      "             '**Grind**: Fine\\n'\n",
      "             '\\n'\n",
      "             '**Brew time**: 25 – 30 seconds\\n'\n",
      "             '\\n'\n",
      "             '**Temperature**: 90 – 94 degrees Celsius (depends on the roast '\n",
      "             'color)\\n'\n",
      "             '\\n'\n",
      "             '**Final beverage size**: 5 ounces\\n'\n",
      "             '\\n'\n",
      "             'Single shot Americano Recipe:\\n'\n",
      "             '\\n'\n",
      "             '**How do you make an Americano with a Double Shot of '\n",
      "             'espresso?**\\n'\n",
      "             '\\n'\n",
      "             '**Dose**: 20 grams of coffee to 40 grams or 1.5 ounces of brewed '\n",
      "             'espresso. You can also pull a “lungo” shot at 1:3 and end with '\n",
      "             '60 grams or 2 ounces of brewed espresso.',\n",
      "  'score': 0.8576849,\n",
      "  'title': 'All Things Americano: Definition, History, and Recipes - Coffee '\n",
      "           'Bros.',\n",
      "  'url': 'https://coffeebros.com/blogs/coffee/what-is-an-americano-definition-history-and-recipes?srsltid=AfmBOoqr2fbnqXkMEkKR2i5tpbJ3z1E9BWJQjvSyNmL_AAoSKgpmam1w'},\n",
      " {'content': '***Caffè americano*** (Italian: [[kafˈfɛ '\n",
      "             'ameriˈkaːno]](/wiki/Help:IPA/Italian \"Help:IPA/Italian\"); '\n",
      "             \"Spanish: *café americano*; lit.\\u2009'American coffee'), also \"\n",
      "             'known as **americano** or **American**, is a type of '\n",
      "             '[coffee](/wiki/Coffee \"Coffee\") drink prepared by diluting an '\n",
      "             '[espresso](/wiki/Espresso \"Espresso\") shot with hot water at a '\n",
      "             '1:3 to 1:4 ratio, resulting in a drink that retains the complex '\n",
      "             'flavors of espresso, but in a lighter way.[[1]](#cite_note-1) '\n",
      "             'Its strength varies with the number of [...] |  |  |\\n'\n",
      "             '| --- | --- |\\n'\n",
      "             '| *Caffè americano* served in [Bengaluru](/wiki/Bengaluru '\n",
      "             '\"Bengaluru\") | |\\n'\n",
      "             '| Alternative names | [Long black](/wiki/Long_black \"Long '\n",
      "             'black\") |\\n'\n",
      "             '| Region or state | * [Italy](/wiki/Italy \"Italy\") * [United '\n",
      "             'States](/wiki/United_States \"United States\") |\\n'\n",
      "             '| Main ingredients | Steaming hot water and '\n",
      "             '[espresso](/wiki/Espresso \"Espresso\") |\\n'\n",
      "             '| * [Media: *Caffè '\n",
      "             'americano*](https://commons.wikimedia.org/wiki/Category:Caff%C3%A8_americano '\n",
      "             '\"commons:Category:Caffè americano\") | |',\n",
      "  'score': 0.8361405,\n",
      "  'title': 'Caffè americano - Wikipedia',\n",
      "  'url': 'https://en.wikipedia.org/wiki/Caff%C3%A8_americano'},\n",
      " {'content': 'An Americano is an espresso diluted with hot water, resulting in '\n",
      "             'a smoother, less intense flavor compared to a straight shot.',\n",
      "  'score': 0.8058924,\n",
      "  'title': 'What Is an Americano Coffee?',\n",
      "  'url': 'https://www.mysticmonkcoffee.com/blogs/news/what-is-an-americano-coffee?srsltid=AfmBOopr7hCtlCj9KzUNf8Km3ew3JDU2GtGW_vEk2HoIvsbqCBP17nuI'}]\n"
     ]
    }
   ],
   "source": [
    "tool_output = web_search.invoke(tool_call[\"args\"])\n",
    "print(f\"{tool_call['name']} 호출 결과:\")\n",
    "print(\"-\" * 100)\n",
    "\n",
    "pprint(tool_output)"
   ]
  },
  {
   "cell_type": "code",
   "execution_count": 13,
   "id": "df88bfcb",
   "metadata": {},
   "outputs": [
    {
     "name": "stdout",
     "output_type": "stream",
     "text": [
      "[{'content': 'The Americano, or Caffè Americano, is a coffee drink made by '\n",
      "             'adding hot water to a shot of espresso. The drink was created '\n",
      "             'during World War II when American soldiers stationed in Italy '\n",
      "             'wanted a coffee that was less strong than traditional Italian '\n",
      "             'espresso, similar to the drip coffee they were used to at home. '\n",
      "             'The resulting drink was named after its intended audience and '\n",
      "             'has since become a popular coffee drink worldwide. While coffee '\n",
      "             'was introduced to the new world in the 17th century, it only '\n",
      "             '[...] **Grind**: Fine\\n'\n",
      "             '\\n'\n",
      "             '**Brew time**: 25 – 30 seconds\\n'\n",
      "             '\\n'\n",
      "             '**Temperature**: 90 – 94 degrees Celsius (depends on the roast '\n",
      "             'color)\\n'\n",
      "             '\\n'\n",
      "             '**Final beverage size**: 7.5 ounces\\n'\n",
      "             '\\n'\n",
      "             'Double shot Americano Recipe:\\n'\n",
      "             '\\n'\n",
      "             'Using a 1:4 ratio, pour 6 ounces of hot water (use the same '\n",
      "             'temperature you brewed your espresso with) into your cup for a '\n",
      "             'final beverage size of 7.5 ounces.\\n'\n",
      "             '\\n'\n",
      "             '**How do you make an 8-ounce Americano?**\\n'\n",
      "             '\\n'\n",
      "             '**Dose**: 20 grams of coffee to 40 grams or 1.5 ounces of brewed '\n",
      "             'espresso by pulling a 1:2 “normale” shot. [...] **Dose**: 14 '\n",
      "             'grams of coffee to 28 grams or 1 ounce of brewed espresso\\n'\n",
      "             '\\n'\n",
      "             '**Grind**: Fine\\n'\n",
      "             '\\n'\n",
      "             '**Brew time**: 25 – 30 seconds\\n'\n",
      "             '\\n'\n",
      "             '**Temperature**: 90 – 94 degrees Celsius (depends on the roast '\n",
      "             'color)\\n'\n",
      "             '\\n'\n",
      "             '**Final beverage size**: 5 ounces\\n'\n",
      "             '\\n'\n",
      "             'Single shot Americano Recipe:\\n'\n",
      "             '\\n'\n",
      "             '**How do you make an Americano with a Double Shot of '\n",
      "             'espresso?**\\n'\n",
      "             '\\n'\n",
      "             '**Dose**: 20 grams of coffee to 40 grams or 1.5 ounces of brewed '\n",
      "             'espresso. You can also pull a “lungo” shot at 1:3 and end with '\n",
      "             '60 grams or 2 ounces of brewed espresso.',\n",
      "  'score': 0.8576849,\n",
      "  'title': 'All Things Americano: Definition, History, and Recipes - Coffee '\n",
      "           'Bros.',\n",
      "  'url': 'https://coffeebros.com/blogs/coffee/what-is-an-americano-definition-history-and-recipes?srsltid=AfmBOoqr2fbnqXkMEkKR2i5tpbJ3z1E9BWJQjvSyNmL_AAoSKgpmam1w'},\n",
      " {'content': '***Caffè americano*** (Italian: [[kafˈfɛ '\n",
      "             'ameriˈkaːno]](/wiki/Help:IPA/Italian \"Help:IPA/Italian\"); '\n",
      "             \"Spanish: *café americano*; lit.\\u2009'American coffee'), also \"\n",
      "             'known as **americano** or **American**, is a type of '\n",
      "             '[coffee](/wiki/Coffee \"Coffee\") drink prepared by diluting an '\n",
      "             '[espresso](/wiki/Espresso \"Espresso\") shot with hot water at a '\n",
      "             '1:3 to 1:4 ratio, resulting in a drink that retains the complex '\n",
      "             'flavors of espresso, but in a lighter way.[[1]](#cite_note-1) '\n",
      "             'Its strength varies with the number of [...] |  |  |\\n'\n",
      "             '| --- | --- |\\n'\n",
      "             '| *Caffè americano* served in [Bengaluru](/wiki/Bengaluru '\n",
      "             '\"Bengaluru\") | |\\n'\n",
      "             '| Alternative names | [Long black](/wiki/Long_black \"Long '\n",
      "             'black\") |\\n'\n",
      "             '| Region or state | * [Italy](/wiki/Italy \"Italy\") * [United '\n",
      "             'States](/wiki/United_States \"United States\") |\\n'\n",
      "             '| Main ingredients | Steaming hot water and '\n",
      "             '[espresso](/wiki/Espresso \"Espresso\") |\\n'\n",
      "             '| * [Media: *Caffè '\n",
      "             'americano*](https://commons.wikimedia.org/wiki/Category:Caff%C3%A8_americano '\n",
      "             '\"commons:Category:Caffè americano\") | |',\n",
      "  'score': 0.8361405,\n",
      "  'title': 'Caffè americano - Wikipedia',\n",
      "  'url': 'https://en.wikipedia.org/wiki/Caff%C3%A8_americano'},\n",
      " {'content': 'An Americano is an espresso diluted with hot water, resulting in '\n",
      "             'a smoother, less intense flavor compared to a straight shot.',\n",
      "  'score': 0.8058924,\n",
      "  'title': 'What Is an Americano Coffee?',\n",
      "  'url': 'https://www.mysticmonkcoffee.com/blogs/news/what-is-an-americano-coffee?srsltid=AfmBOopr7hCtlCj9KzUNf8Km3ew3JDU2GtGW_vEk2HoIvsbqCBP17nuI'}]\n"
     ]
    }
   ],
   "source": [
    "\n",
    "from langchain_core.messages import ToolMessage\n",
    "\n",
    "tool_message = ToolMessage(\n",
    "    content=tool_output,\n",
    "    tool_call_id=tool_call[\"id\"],\n",
    "    name=tool_call[\"name\"]\n",
    ")\n",
    "\n",
    "pprint(tool_message.content)"
   ]
  },
  {
   "cell_type": "markdown",
   "id": "50bf8eae",
   "metadata": {},
   "source": [
    "#### 방법 2: 도구 직접 호출하여 바로 ToolMessage 객체 생성\n",
    "```\n",
    " 'tool_calls': [{'args': {'query': '스테이크와 어울리는 와인 추천'},\n",
    "                 'id': 'call_cq9eeVKHJm7wMokA3u3krlPc',\n",
    "                 'name': 'tavily_search_results_json',\n",
    "                 'type': 'tool_call'}],\n",
    "```\n",
    "* tool_call 변수는 AIMessage 객체 포함된 tool을 호출한 결과 tool_call의 첫번째 dict 객체\n",
    "* TavilySearch 객체를 invoke(tool_call) 하면 결과 객체의 타입이 ToolMessage 이다.\n",
    "* 이 방법은 도구를 직접 호출하여 ToolMessage 객체를 생성한다.\n",
    "* 가장 간단하고 직관적인 방법으로, LangChain의 추상화를 활용한다.\n",
    "* 도구 호출의 ID와 이름을 포함하여 더 구조화된 ToolMessage 메시지를 만든다."
   ]
  },
  {
   "cell_type": "code",
   "execution_count": 14,
   "id": "0f39f32b",
   "metadata": {},
   "outputs": [
    {
     "name": "stdout",
     "output_type": "stream",
     "text": [
      "<class 'langchain_core.messages.tool.ToolMessage'>\n",
      "\n",
      "=== 주요 속성들 ===\n",
      "content: [{\"title\": \"All Things Americano: Definition, History, and Recipes - Coffee Bros.\", \"url\": \"https://coffeebros.com/blogs/coffee/what-is-an-americano-definition-history-and-recipes?srsltid=AfmBOoqr2fbnqXkMEkKR2i5tpbJ3z1E9BWJQjvSyNmL_AAoSKgpmam1w\", \"content\": \"The Americano, or Caffè Americano, is a coffee drink made by adding hot water to a shot of espresso. The drink was created during World War II when American soldiers stationed in Italy wanted a coffee that was less strong than traditional Italian espresso, similar to the drip coffee they were used to at home. The resulting drink was named after its intended audience and has since become a popular coffee drink worldwide. While coffee was introduced to the new world in the 17th century, it only [...] **Grind**: Fine\\n\\n**Brew time**: 25 – 30 seconds\\n\\n**Temperature**: 90 – 94 degrees Celsius (depends on the roast color)\\n\\n**Final beverage size**: 7.5 ounces\\n\\nDouble shot Americano Recipe:\\n\\nUsing a 1:4 ratio, pour 6 ounces of hot water (use the same temperature you brewed your espresso with) into your cup for a final beverage size of 7.5 ounces.\\n\\n**How do you make an 8-ounce Americano?**\\n\\n**Dose**: 20 grams of coffee to 40 grams or 1.5 ounces of brewed espresso by pulling a 1:2 “normale” shot. [...] **Dose**: 14 grams of coffee to 28 grams or 1 ounce of brewed espresso\\n\\n**Grind**: Fine\\n\\n**Brew time**: 25 – 30 seconds\\n\\n**Temperature**: 90 – 94 degrees Celsius (depends on the roast color)\\n\\n**Final beverage size**: 5 ounces\\n\\nSingle shot Americano Recipe:\\n\\n**How do you make an Americano with a Double Shot of espresso?**\\n\\n**Dose**: 20 grams of coffee to 40 grams or 1.5 ounces of brewed espresso. You can also pull a “lungo” shot at 1:3 and end with 60 grams or 2 ounces of brewed espresso.\", \"score\": 0.8576849}, {\"title\": \"Caffè americano - Wikipedia\", \"url\": \"https://en.wikipedia.org/wiki/Caff%C3%A8_americano\", \"content\": \"***Caffè americano*** (Italian: [[kafˈfɛ ameriˈkaːno]](/wiki/Help:IPA/Italian \\\"Help:IPA/Italian\\\"); Spanish: *café americano*; lit. 'American coffee'), also known as **americano** or **American**, is a type of [coffee](/wiki/Coffee \\\"Coffee\\\") drink prepared by diluting an [espresso](/wiki/Espresso \\\"Espresso\\\") shot with hot water at a 1:3 to 1:4 ratio, resulting in a drink that retains the complex flavors of espresso, but in a lighter way.[[1]](#cite_note-1) Its strength varies with the number of [...] |  |  |\\n| --- | --- |\\n| *Caffè americano* served in [Bengaluru](/wiki/Bengaluru \\\"Bengaluru\\\") | |\\n| Alternative names | [Long black](/wiki/Long_black \\\"Long black\\\") |\\n| Region or state | * [Italy](/wiki/Italy \\\"Italy\\\") * [United States](/wiki/United_States \\\"United States\\\") |\\n| Main ingredients | Steaming hot water and [espresso](/wiki/Espresso \\\"Espresso\\\") |\\n| * [Media: *Caffè americano*](https://commons.wikimedia.org/wiki/Category:Caff%C3%A8_americano \\\"commons:Category:Caffè americano\\\") | |\", \"score\": 0.8361405}, {\"title\": \"What Is an Americano Coffee?\", \"url\": \"https://www.mysticmonkcoffee.com/blogs/news/what-is-an-americano-coffee?srsltid=AfmBOopr7hCtlCj9KzUNf8Km3ew3JDU2GtGW_vEk2HoIvsbqCBP17nuI\", \"content\": \"An Americano is an espresso diluted with hot water, resulting in a smoother, less intense flavor compared to a straight shot.\", \"score\": 0.8058924}]\n",
      "tool_call_id: call_29BEAOq3Sq331rtW7nhlXam0\n",
      "name: tavily_search_results_json\n",
      "type: tool\n",
      "additional_kwargs: {}\n"
     ]
    }
   ],
   "source": [
    "# tool_call  {'name': 'tavily_search_results_json', 'args': {'query': 'wine pairing with steak'}, 'id': 'call_LrHyxTadqHDjW7J6LOWEaoSi', 'type': 'tool_call'}\n",
    "tool_message = web_search.invoke(tool_call)\n",
    "print(type(tool_message))\n",
    "\n",
    "# 특정 속성들만 확인\n",
    "print(\"\\n=== 주요 속성들 ===\")\n",
    "attributes = ['content', 'tool_call_id', 'name', 'type', 'additional_kwargs']\n",
    "for attr in attributes:\n",
    "    if hasattr(tool_message, attr):\n",
    "        print(f\"{attr}: {getattr(tool_message, attr)}\")\n"
   ]
  },
  {
   "cell_type": "code",
   "execution_count": 15,
   "id": "03d47ea5",
   "metadata": {},
   "outputs": [
    {
     "name": "stdout",
     "output_type": "stream",
     "text": [
      "('[{\"title\": \"All Things Americano: Definition, History, and Recipes - Coffee '\n",
      " 'Bros.\", \"url\": '\n",
      " '\"https://coffeebros.com/blogs/coffee/what-is-an-americano-definition-history-and-recipes?srsltid=AfmBOoqr2fbnqXkMEkKR2i5tpbJ3z1E9BWJQjvSyNmL_AAoSKgpmam1w\", '\n",
      " '\"content\": \"The Americano, or Caffè Americano, is a coffee drink made by '\n",
      " 'adding hot water to a shot of espresso. The drink was created during World '\n",
      " 'War II when American soldiers stationed in Italy wanted a coffee that was '\n",
      " 'less strong than traditional Italian espresso, similar to the drip coffee '\n",
      " 'they were used to at home. The resulting drink was named after its intended '\n",
      " 'audience and has since become a popular coffee drink worldwide. While coffee '\n",
      " 'was introduced to the new world in the 17th century, it only [...] '\n",
      " '**Grind**: Fine\\\\n\\\\n**Brew time**: 25 – 30 seconds\\\\n\\\\n**Temperature**: 90 '\n",
      " '– 94 degrees Celsius (depends on the roast color)\\\\n\\\\n**Final beverage '\n",
      " 'size**: 7.5 ounces\\\\n\\\\nDouble shot Americano Recipe:\\\\n\\\\nUsing a 1:4 '\n",
      " 'ratio, pour 6 ounces of hot water (use the same temperature you brewed your '\n",
      " 'espresso with) into your cup for a final beverage size of 7.5 '\n",
      " 'ounces.\\\\n\\\\n**How do you make an 8-ounce Americano?**\\\\n\\\\n**Dose**: 20 '\n",
      " 'grams of coffee to 40 grams or 1.5 ounces of brewed espresso by pulling a '\n",
      " '1:2 “normale” shot. [...] **Dose**: 14 grams of coffee to 28 grams or 1 '\n",
      " 'ounce of brewed espresso\\\\n\\\\n**Grind**: Fine\\\\n\\\\n**Brew time**: 25 – 30 '\n",
      " 'seconds\\\\n\\\\n**Temperature**: 90 – 94 degrees Celsius (depends on the roast '\n",
      " 'color)\\\\n\\\\n**Final beverage size**: 5 ounces\\\\n\\\\nSingle shot Americano '\n",
      " 'Recipe:\\\\n\\\\n**How do you make an Americano with a Double Shot of '\n",
      " 'espresso?**\\\\n\\\\n**Dose**: 20 grams of coffee to 40 grams or 1.5 ounces of '\n",
      " 'brewed espresso. You can also pull a “lungo” shot at 1:3 and end with 60 '\n",
      " 'grams or 2 ounces of brewed espresso.\", \"score\": 0.8576849}, {\"title\": '\n",
      " '\"Caffè americano - Wikipedia\", \"url\": '\n",
      " '\"https://en.wikipedia.org/wiki/Caff%C3%A8_americano\", \"content\": \"***Caffè '\n",
      " 'americano*** (Italian: [[kafˈfɛ ameriˈkaːno]](/wiki/Help:IPA/Italian '\n",
      " '\\\\\"Help:IPA/Italian\\\\\"); Spanish: *café americano*; lit.\\u2009\\'American '\n",
      " \"coffee'), also known as **americano** or **American**, is a type of \"\n",
      " '[coffee](/wiki/Coffee \\\\\"Coffee\\\\\") drink prepared by diluting an '\n",
      " '[espresso](/wiki/Espresso \\\\\"Espresso\\\\\") shot with hot water at a 1:3 to '\n",
      " '1:4 ratio, resulting in a drink that retains the complex flavors of '\n",
      " 'espresso, but in a lighter way.[[1]](#cite_note-1) Its strength varies with '\n",
      " 'the number of [...] |  |  |\\\\n| --- | --- |\\\\n| *Caffè americano* served in '\n",
      " '[Bengaluru](/wiki/Bengaluru \\\\\"Bengaluru\\\\\") | |\\\\n| Alternative names | '\n",
      " '[Long black](/wiki/Long_black \\\\\"Long black\\\\\") |\\\\n| Region or state | * '\n",
      " '[Italy](/wiki/Italy \\\\\"Italy\\\\\") * [United States](/wiki/United_States '\n",
      " '\\\\\"United States\\\\\") |\\\\n| Main ingredients | Steaming hot water and '\n",
      " '[espresso](/wiki/Espresso \\\\\"Espresso\\\\\") |\\\\n| * [Media: *Caffè '\n",
      " 'americano*](https://commons.wikimedia.org/wiki/Category:Caff%C3%A8_americano '\n",
      " '\\\\\"commons:Category:Caffè americano\\\\\") | |\", \"score\": 0.8361405}, {\"title\": '\n",
      " '\"What Is an Americano Coffee?\", \"url\": '\n",
      " '\"https://www.mysticmonkcoffee.com/blogs/news/what-is-an-americano-coffee?srsltid=AfmBOopr7hCtlCj9KzUNf8Km3ew3JDU2GtGW_vEk2HoIvsbqCBP17nuI\", '\n",
      " '\"content\": \"An Americano is an espresso diluted with hot water, resulting in '\n",
      " 'a smoother, less intense flavor compared to a straight shot.\", \"score\": '\n",
      " '0.8058924}]')\n"
     ]
    }
   ],
   "source": [
    "pprint(tool_message.content)\n"
   ]
  },
  {
   "cell_type": "code",
   "execution_count": 16,
   "id": "aeeb5890",
   "metadata": {},
   "outputs": [
    {
     "name": "stdout",
     "output_type": "stream",
     "text": [
      "'call_29BEAOq3Sq331rtW7nhlXam0'\n"
     ]
    }
   ],
   "source": [
    "pprint(tool_message.tool_call_id)"
   ]
  },
  {
   "cell_type": "code",
   "execution_count": 17,
   "id": "01309400",
   "metadata": {},
   "outputs": [
    {
     "name": "stdout",
     "output_type": "stream",
     "text": [
      "'tavily_search_results_json'\n"
     ]
    }
   ],
   "source": [
    "pprint(tool_message.name)"
   ]
  },
  {
   "cell_type": "code",
   "execution_count": 18,
   "id": "f3e71c37",
   "metadata": {},
   "outputs": [
    {
     "data": {
      "text/plain": [
       "[{'name': 'tavily_search_results_json',\n",
       "  'args': {'query': 'Americano coffee information'},\n",
       "  'id': 'call_29BEAOq3Sq331rtW7nhlXam0',\n",
       "  'type': 'tool_call'},\n",
       " {'name': 'tavily_search_results_json',\n",
       "  'args': {'query': 'history of coffee'},\n",
       "  'id': 'call_Ev0TEitugxJ6CmORuhsljyz7',\n",
       "  'type': 'tool_call'}]"
      ]
     },
     "execution_count": 18,
     "metadata": {},
     "output_type": "execute_result"
    }
   ],
   "source": [
    "ai_msg.tool_calls"
   ]
  },
  {
   "cell_type": "code",
   "execution_count": 19,
   "id": "35a3ad18",
   "metadata": {},
   "outputs": [
    {
     "name": "stdout",
     "output_type": "stream",
     "text": [
      "[ToolMessage(content='[{\"title\": \"All Things Americano: Definition, History, and Recipes - Coffee Bros.\", \"url\": \"https://coffeebros.com/blogs/coffee/what-is-an-americano-definition-history-and-recipes?srsltid=AfmBOoqr2fbnqXkMEkKR2i5tpbJ3z1E9BWJQjvSyNmL_AAoSKgpmam1w\", \"content\": \"The Americano, or Caffè Americano, is a coffee drink made by adding hot water to a shot of espresso. The drink was created during World War II when American soldiers stationed in Italy wanted a coffee that was less strong than traditional Italian espresso, similar to the drip coffee they were used to at home. The resulting drink was named after its intended audience and has since become a popular coffee drink worldwide. While coffee was introduced to the new world in the 17th century, it only [...] **Grind**: Fine\\\\n\\\\n**Brew time**: 25 – 30 seconds\\\\n\\\\n**Temperature**: 90 – 94 degrees Celsius (depends on the roast color)\\\\n\\\\n**Final beverage size**: 7.5 ounces\\\\n\\\\nDouble shot Americano Recipe:\\\\n\\\\nUsing a 1:4 ratio, pour 6 ounces of hot water (use the same temperature you brewed your espresso with) into your cup for a final beverage size of 7.5 ounces.\\\\n\\\\n**How do you make an 8-ounce Americano?**\\\\n\\\\n**Dose**: 20 grams of coffee to 40 grams or 1.5 ounces of brewed espresso by pulling a 1:2 “normale” shot. [...] **Dose**: 14 grams of coffee to 28 grams or 1 ounce of brewed espresso\\\\n\\\\n**Grind**: Fine\\\\n\\\\n**Brew time**: 25 – 30 seconds\\\\n\\\\n**Temperature**: 90 – 94 degrees Celsius (depends on the roast color)\\\\n\\\\n**Final beverage size**: 5 ounces\\\\n\\\\nSingle shot Americano Recipe:\\\\n\\\\n**How do you make an Americano with a Double Shot of espresso?**\\\\n\\\\n**Dose**: 20 grams of coffee to 40 grams or 1.5 ounces of brewed espresso. You can also pull a “lungo” shot at 1:3 and end with 60 grams or 2 ounces of brewed espresso.\", \"score\": 0.8576849}, {\"title\": \"Caffè americano - Wikipedia\", \"url\": \"https://en.wikipedia.org/wiki/Caff%C3%A8_americano\", \"content\": \"***Caffè americano*** (Italian: [[kafˈfɛ ameriˈkaːno]](/wiki/Help:IPA/Italian \\\\\"Help:IPA/Italian\\\\\"); Spanish: *café americano*; lit.\\u2009\\'American coffee\\'), also known as **americano** or **American**, is a type of [coffee](/wiki/Coffee \\\\\"Coffee\\\\\") drink prepared by diluting an [espresso](/wiki/Espresso \\\\\"Espresso\\\\\") shot with hot water at a 1:3 to 1:4 ratio, resulting in a drink that retains the complex flavors of espresso, but in a lighter way.[[1]](#cite_note-1) Its strength varies with the number of [...] |  |  |\\\\n| --- | --- |\\\\n| *Caffè americano* served in [Bengaluru](/wiki/Bengaluru \\\\\"Bengaluru\\\\\") | |\\\\n| Alternative names | [Long black](/wiki/Long_black \\\\\"Long black\\\\\") |\\\\n| Region or state | * [Italy](/wiki/Italy \\\\\"Italy\\\\\") * [United States](/wiki/United_States \\\\\"United States\\\\\") |\\\\n| Main ingredients | Steaming hot water and [espresso](/wiki/Espresso \\\\\"Espresso\\\\\") |\\\\n| * [Media: *Caffè americano*](https://commons.wikimedia.org/wiki/Category:Caff%C3%A8_americano \\\\\"commons:Category:Caffè americano\\\\\") | |\", \"score\": 0.8361405}, {\"title\": \"What Is an Americano Coffee?\", \"url\": \"https://www.mysticmonkcoffee.com/blogs/news/what-is-an-americano-coffee?srsltid=AfmBOopr7hCtlCj9KzUNf8Km3ew3JDU2GtGW_vEk2HoIvsbqCBP17nuI\", \"content\": \"An Americano is an espresso diluted with hot water, resulting in a smoother, less intense flavor compared to a straight shot.\", \"score\": 0.8058924}]', name='tavily_search_results_json', tool_call_id='call_29BEAOq3Sq331rtW7nhlXam0', artifact={'query': 'Americano coffee information', 'follow_up_questions': None, 'answer': None, 'images': [], 'results': [{'url': 'https://coffeebros.com/blogs/coffee/what-is-an-americano-definition-history-and-recipes?srsltid=AfmBOoqr2fbnqXkMEkKR2i5tpbJ3z1E9BWJQjvSyNmL_AAoSKgpmam1w', 'title': 'All Things Americano: Definition, History, and Recipes - Coffee Bros.', 'content': 'The Americano, or Caffè Americano, is a coffee drink made by adding hot water to a shot of espresso. The drink was created during World War II when American soldiers stationed in Italy wanted a coffee that was less strong than traditional Italian espresso, similar to the drip coffee they were used to at home. The resulting drink was named after its intended audience and has since become a popular coffee drink worldwide. While coffee was introduced to the new world in the 17th century, it only [...] **Grind**: Fine\\n\\n**Brew time**: 25 – 30 seconds\\n\\n**Temperature**: 90 – 94 degrees Celsius (depends on the roast color)\\n\\n**Final beverage size**: 7.5 ounces\\n\\nDouble shot Americano Recipe:\\n\\nUsing a 1:4 ratio, pour 6 ounces of hot water (use the same temperature you brewed your espresso with) into your cup for a final beverage size of 7.5 ounces.\\n\\n**How do you make an 8-ounce Americano?**\\n\\n**Dose**: 20 grams of coffee to 40 grams or 1.5 ounces of brewed espresso by pulling a 1:2 “normale” shot. [...] **Dose**: 14 grams of coffee to 28 grams or 1 ounce of brewed espresso\\n\\n**Grind**: Fine\\n\\n**Brew time**: 25 – 30 seconds\\n\\n**Temperature**: 90 – 94 degrees Celsius (depends on the roast color)\\n\\n**Final beverage size**: 5 ounces\\n\\nSingle shot Americano Recipe:\\n\\n**How do you make an Americano with a Double Shot of espresso?**\\n\\n**Dose**: 20 grams of coffee to 40 grams or 1.5 ounces of brewed espresso. You can also pull a “lungo” shot at 1:3 and end with 60 grams or 2 ounces of brewed espresso.', 'score': 0.8576849, 'raw_content': None}, {'url': 'https://en.wikipedia.org/wiki/Caff%C3%A8_americano', 'title': 'Caffè americano - Wikipedia', 'content': '***Caffè americano*** (Italian: [[kafˈfɛ ameriˈkaːno]](/wiki/Help:IPA/Italian \"Help:IPA/Italian\"); Spanish: *café americano*; lit.\\u2009\\'American coffee\\'), also known as **americano** or **American**, is a type of [coffee](/wiki/Coffee \"Coffee\") drink prepared by diluting an [espresso](/wiki/Espresso \"Espresso\") shot with hot water at a 1:3 to 1:4 ratio, resulting in a drink that retains the complex flavors of espresso, but in a lighter way.[[1]](#cite_note-1) Its strength varies with the number of [...] |  |  |\\n| --- | --- |\\n| *Caffè americano* served in [Bengaluru](/wiki/Bengaluru \"Bengaluru\") | |\\n| Alternative names | [Long black](/wiki/Long_black \"Long black\") |\\n| Region or state | * [Italy](/wiki/Italy \"Italy\") * [United States](/wiki/United_States \"United States\") |\\n| Main ingredients | Steaming hot water and [espresso](/wiki/Espresso \"Espresso\") |\\n| * [Media: *Caffè americano*](https://commons.wikimedia.org/wiki/Category:Caff%C3%A8_americano \"commons:Category:Caffè americano\") | |', 'score': 0.8361405, 'raw_content': None}, {'url': 'https://www.mysticmonkcoffee.com/blogs/news/what-is-an-americano-coffee?srsltid=AfmBOopr7hCtlCj9KzUNf8Km3ew3JDU2GtGW_vEk2HoIvsbqCBP17nuI', 'title': 'What Is an Americano Coffee?', 'content': 'An Americano is an espresso diluted with hot water, resulting in a smoother, less intense flavor compared to a straight shot.', 'score': 0.8058924, 'raw_content': None}], 'response_time': 1.27}), ToolMessage(content='[{\"title\": \"History of coffee - Wikipedia\", \"url\": \"https://en.wikipedia.org/wiki/History_of_coffee\", \"content\": \"The **history of [coffee](/wiki/Coffee \\\\\"Coffee\\\\\")** dates back centuries, first from its origin in [Ethiopia](/wiki/Ethiopia \\\\\"Ethiopia\\\\\") and later in [Yemen](/wiki/Yemen \\\\\"Yemen\\\\\"). It was already known in [Mecca](/wiki/Mecca \\\\\"Mecca\\\\\") in the 15th century. Also, in the 15th century, [Sufi Muslim monasteries (khanqahs)](/wiki/Zawiya_(institution) \\\\\"Zawiya (institution)\\\\\") in Yemen employed coffee as an aid to concentration during prayers.[[1]](#cite_note-Weinberg-Bealer_2001-1) [Coffee](/wiki/Coffee [...] There are several legendary accounts of the origin of the consumption of coffee. According to one legend, ancestors of today\\'s [Kafficho people](/wiki/Kafficho_people \\\\\"Kafficho people\\\\\") in the [Kingdom of Kaffa](/wiki/Kingdom_of_Kaffa \\\\\"Kingdom of Kaffa\\\\\") were the first to recognize the energizing effect of the coffee plant.[[1]](#cite_note-Weinberg-Bealer_2001-1) One account involves a 9th-century Ethiopian [goatherder](/wiki/Goatherd \\\\\"Goatherd\\\\\"), [Kaldi](/wiki/Kaldi \\\\\"Kaldi\\\\\"), who, noticing the [...] The race among Europeans to obtain live coffee trees or beans was eventually won by the [Dutch](/wiki/Dutch_(ethnic_group) \\\\\"Dutch (ethnic group)\\\\\") in 1616. [Pieter van den Broecke](/wiki/Pieter_van_den_Broecke \\\\\"Pieter van den Broecke\\\\\"), a Dutch merchant, obtained some of the closely guarded coffee bushes from Mocha, Yemen, in 1616. He took them back to Amsterdam and found a home for them in the Botanical gardens, where they began to thrive. This apparently minor event received little publicity\", \"score\": 0.890761}, {\"title\": \"History of coffee - NCA\", \"url\": \"https://www.aboutcoffee.org/origins/history-of-coffee/\", \"content\": \"Coffee continued its march around the world as missionaries, traders, colonists, and other travelers carried coffee seeds—and a taste for the beverage. During this time, the history of coffee paints a picture that is sweeping and dramatic. People planted coffee in the soils of magnificent tropical forests and rugged mountain highlands. Some crops thrived, while others withered. Fortunes were made and lost. New nations were founded on coffee economies alone. So much rested on such small, yet [...] The business edition of coffee history began on the Arabian Peninsula, where people cultivated and traded coffee for the first time.\\xa0By the 15th century, coffee was being grown in what is now Yemen, and by the 16th century it gained popularity in what we now know as Iran, Egypt, Syria, and Turkey.\\\\n\\\\n### Wisdom in a cup [...] In 1714, the Mayor of Amsterdam presented a gift of a young coffee tree to King Louis XIV of France. The King ordered it to be planted in the Royal Botanical Garden in Paris, and in 1723, Gabriel de Clieu, a young naval officer, obtained a seedling from the king’s tree. Despite a challenging voyage featuring horrific weather, a pirate attack, and even a saboteur who tried to destroy the seedling, he managed to transport it safely to Martinique.\\\\n\\\\n### Small seedling, enormous impact\", \"score\": 0.8252664}, {\"title\": \"History of Coffee - Melitta\", \"url\": \"https://www.melitta.com/en/History-of-Coffee-629.html\", \"content\": \"Historians are quite certain that coffee beans (actually \\\\\"pits\\\\\") were first eaten, not drunk, in Ethiopia,East Africa, around 575 A.D. There are several legends on how coffee was actually first discovered. [...] In the 11th century in Mecca, a Muslim ruler, Sheik Abdul Hasan Schadhedi, boiled his Ethiopian coffee in magic water from a free-flowing well, separated the brew from the pit, roasted the pit, crushed it, mixed it with some boiled water, and gave it to townspeople who were sick with an unknown illness. The people were cured, and Sheik Schadhedi became a well-known physician. [...] Jacob, a Jewish immigrant, founded the first coffee house in Oxford, England, in 1637. The young thinkers of the university crowded in each night for this exotic beverage. Thus was launched the Royal Society. Three years later, the coffee house came to London. A Greek Egyptian named Pasqua Rossee, with funding from a merchant named Daniel Edwards, opened the Jamaica Coffee House around St. Michael\\'s Church in Cornwall, near today\\'s Thread Needle Street.\", \"score\": 0.7817479}]', name='tavily_search_results_json', tool_call_id='call_Ev0TEitugxJ6CmORuhsljyz7', artifact={'query': 'history of coffee', 'follow_up_questions': None, 'answer': None, 'images': [], 'results': [{'url': 'https://en.wikipedia.org/wiki/History_of_coffee', 'title': 'History of coffee - Wikipedia', 'content': 'The **history of [coffee](/wiki/Coffee \"Coffee\")** dates back centuries, first from its origin in [Ethiopia](/wiki/Ethiopia \"Ethiopia\") and later in [Yemen](/wiki/Yemen \"Yemen\"). It was already known in [Mecca](/wiki/Mecca \"Mecca\") in the 15th century. Also, in the 15th century, [Sufi Muslim monasteries (khanqahs)](/wiki/Zawiya_(institution) \"Zawiya (institution)\") in Yemen employed coffee as an aid to concentration during prayers.[[1]](#cite_note-Weinberg-Bealer_2001-1) [Coffee](/wiki/Coffee [...] There are several legendary accounts of the origin of the consumption of coffee. According to one legend, ancestors of today\\'s [Kafficho people](/wiki/Kafficho_people \"Kafficho people\") in the [Kingdom of Kaffa](/wiki/Kingdom_of_Kaffa \"Kingdom of Kaffa\") were the first to recognize the energizing effect of the coffee plant.[[1]](#cite_note-Weinberg-Bealer_2001-1) One account involves a 9th-century Ethiopian [goatherder](/wiki/Goatherd \"Goatherd\"), [Kaldi](/wiki/Kaldi \"Kaldi\"), who, noticing the [...] The race among Europeans to obtain live coffee trees or beans was eventually won by the [Dutch](/wiki/Dutch_(ethnic_group) \"Dutch (ethnic group)\") in 1616. [Pieter van den Broecke](/wiki/Pieter_van_den_Broecke \"Pieter van den Broecke\"), a Dutch merchant, obtained some of the closely guarded coffee bushes from Mocha, Yemen, in 1616. He took them back to Amsterdam and found a home for them in the Botanical gardens, where they began to thrive. This apparently minor event received little publicity', 'score': 0.890761, 'raw_content': None}, {'url': 'https://www.aboutcoffee.org/origins/history-of-coffee/', 'title': 'History of coffee - NCA', 'content': 'Coffee continued its march around the world as missionaries, traders, colonists, and other travelers carried coffee seeds—and a taste for the beverage. During this time, the history of coffee paints a picture that is sweeping and dramatic. People planted coffee in the soils of magnificent tropical forests and rugged mountain highlands. Some crops thrived, while others withered. Fortunes were made and lost. New nations were founded on coffee economies alone. So much rested on such small, yet [...] The business edition of coffee history began on the Arabian Peninsula, where people cultivated and traded coffee for the first time.\\xa0By the 15th century, coffee was being grown in what is now Yemen, and by the 16th century it gained popularity in what we now know as Iran, Egypt, Syria, and Turkey.\\n\\n### Wisdom in a cup [...] In 1714, the Mayor of Amsterdam presented a gift of a young coffee tree to King Louis XIV of France. The King ordered it to be planted in the Royal Botanical Garden in Paris, and in 1723, Gabriel de Clieu, a young naval officer, obtained a seedling from the king’s tree. Despite a challenging voyage featuring horrific weather, a pirate attack, and even a saboteur who tried to destroy the seedling, he managed to transport it safely to Martinique.\\n\\n### Small seedling, enormous impact', 'score': 0.8252664, 'raw_content': None}, {'url': 'https://www.melitta.com/en/History-of-Coffee-629.html', 'title': 'History of Coffee - Melitta', 'content': 'Historians are quite certain that coffee beans (actually \"pits\") were first eaten, not drunk, in Ethiopia,East Africa, around 575 A.D. There are several legends on how coffee was actually first discovered. [...] In the 11th century in Mecca, a Muslim ruler, Sheik Abdul Hasan Schadhedi, boiled his Ethiopian coffee in magic water from a free-flowing well, separated the brew from the pit, roasted the pit, crushed it, mixed it with some boiled water, and gave it to townspeople who were sick with an unknown illness. The people were cured, and Sheik Schadhedi became a well-known physician. [...] Jacob, a Jewish immigrant, founded the first coffee house in Oxford, England, in 1637. The young thinkers of the university crowded in each night for this exotic beverage. Thus was launched the Royal Society. Three years later, the coffee house came to London. A Greek Egyptian named Pasqua Rossee, with funding from a merchant named Daniel Edwards, opened the Jamaica Coffee House around St. Michael\\'s Church in Cornwall, near today\\'s Thread Needle Street.', 'score': 0.7817479, 'raw_content': None}], 'response_time': 2.72})]\n",
      "----------------------------------------------------------------------------------------------------\n",
      "('[{\"title\": \"All Things Americano: Definition, History, and Recipes - Coffee '\n",
      " 'Bros.\", \"url\": '\n",
      " '\"https://coffeebros.com/blogs/coffee/what-is-an-americano-definition-history-and-recipes?srsltid=AfmBOoqr2fbnqXkMEkKR2i5tpbJ3z1E9BWJQjvSyNmL_AAoSKgpmam1w\", '\n",
      " '\"content\": \"The Americano, or Caffè Americano, is a coffee drink made by '\n",
      " 'adding hot water to a shot of espresso. The drink was created during World '\n",
      " 'War II when American soldiers stationed in Italy wanted a coffee that was '\n",
      " 'less strong than traditional Italian espresso, similar to the drip coffee '\n",
      " 'they were used to at home. The resulting drink was named after its intended '\n",
      " 'audience and has since become a popular coffee drink worldwide. While coffee '\n",
      " 'was introduced to the new world in the 17th century, it only [...] '\n",
      " '**Grind**: Fine\\\\n\\\\n**Brew time**: 25 – 30 seconds\\\\n\\\\n**Temperature**: 90 '\n",
      " '– 94 degrees Celsius (depends on the roast color)\\\\n\\\\n**Final beverage '\n",
      " 'size**: 7.5 ounces\\\\n\\\\nDouble shot Americano Recipe:\\\\n\\\\nUsing a 1:4 '\n",
      " 'ratio, pour 6 ounces of hot water (use the same temperature you brewed your '\n",
      " 'espresso with) into your cup for a final beverage size of 7.5 '\n",
      " 'ounces.\\\\n\\\\n**How do you make an 8-ounce Americano?**\\\\n\\\\n**Dose**: 20 '\n",
      " 'grams of coffee to 40 grams or 1.5 ounces of brewed espresso by pulling a '\n",
      " '1:2 “normale” shot. [...] **Dose**: 14 grams of coffee to 28 grams or 1 '\n",
      " 'ounce of brewed espresso\\\\n\\\\n**Grind**: Fine\\\\n\\\\n**Brew time**: 25 – 30 '\n",
      " 'seconds\\\\n\\\\n**Temperature**: 90 – 94 degrees Celsius (depends on the roast '\n",
      " 'color)\\\\n\\\\n**Final beverage size**: 5 ounces\\\\n\\\\nSingle shot Americano '\n",
      " 'Recipe:\\\\n\\\\n**How do you make an Americano with a Double Shot of '\n",
      " 'espresso?**\\\\n\\\\n**Dose**: 20 grams of coffee to 40 grams or 1.5 ounces of '\n",
      " 'brewed espresso. You can also pull a “lungo” shot at 1:3 and end with 60 '\n",
      " 'grams or 2 ounces of brewed espresso.\", \"score\": 0.8576849}, {\"title\": '\n",
      " '\"Caffè americano - Wikipedia\", \"url\": '\n",
      " '\"https://en.wikipedia.org/wiki/Caff%C3%A8_americano\", \"content\": \"***Caffè '\n",
      " 'americano*** (Italian: [[kafˈfɛ ameriˈkaːno]](/wiki/Help:IPA/Italian '\n",
      " '\\\\\"Help:IPA/Italian\\\\\"); Spanish: *café americano*; lit.\\u2009\\'American '\n",
      " \"coffee'), also known as **americano** or **American**, is a type of \"\n",
      " '[coffee](/wiki/Coffee \\\\\"Coffee\\\\\") drink prepared by diluting an '\n",
      " '[espresso](/wiki/Espresso \\\\\"Espresso\\\\\") shot with hot water at a 1:3 to '\n",
      " '1:4 ratio, resulting in a drink that retains the complex flavors of '\n",
      " 'espresso, but in a lighter way.[[1]](#cite_note-1) Its strength varies with '\n",
      " 'the number of [...] |  |  |\\\\n| --- | --- |\\\\n| *Caffè americano* served in '\n",
      " '[Bengaluru](/wiki/Bengaluru \\\\\"Bengaluru\\\\\") | |\\\\n| Alternative names | '\n",
      " '[Long black](/wiki/Long_black \\\\\"Long black\\\\\") |\\\\n| Region or state | * '\n",
      " '[Italy](/wiki/Italy \\\\\"Italy\\\\\") * [United States](/wiki/United_States '\n",
      " '\\\\\"United States\\\\\") |\\\\n| Main ingredients | Steaming hot water and '\n",
      " '[espresso](/wiki/Espresso \\\\\"Espresso\\\\\") |\\\\n| * [Media: *Caffè '\n",
      " 'americano*](https://commons.wikimedia.org/wiki/Category:Caff%C3%A8_americano '\n",
      " '\\\\\"commons:Category:Caffè americano\\\\\") | |\", \"score\": 0.8361405}, {\"title\": '\n",
      " '\"What Is an Americano Coffee?\", \"url\": '\n",
      " '\"https://www.mysticmonkcoffee.com/blogs/news/what-is-an-americano-coffee?srsltid=AfmBOopr7hCtlCj9KzUNf8Km3ew3JDU2GtGW_vEk2HoIvsbqCBP17nuI\", '\n",
      " '\"content\": \"An Americano is an espresso diluted with hot water, resulting in '\n",
      " 'a smoother, less intense flavor compared to a straight shot.\", \"score\": '\n",
      " '0.8058924}]')\n"
     ]
    }
   ],
   "source": [
    "# batch 실행 - 도구 호출이 여러 개인 경우\n",
    "\n",
    "# tool_messages = web_search.batch([tool_call])\n",
    "\n",
    "tool_messages = web_search.batch(ai_msg.tool_calls)\n",
    "\n",
    "print(tool_messages)\n",
    "print(\"-\" * 100)\n",
    "pprint(tool_messages[0].content)"
   ]
  },
  {
   "cell_type": "markdown",
   "id": "a20257ba",
   "metadata": {},
   "source": [
    "`(4) ToolMessage를 LLM에 전달하여 답변을 생성하기`\n",
    "\n",
    "* 파라미터 이름이 config여야 하는 이유: @chain 데코레이터가 config라는 이름만 특별히 인식하도록 설계되었습니다.\n",
    "* config 생략 가능한 이유: @chain이 자동으로 기본 RunnableConfig()를 생성해서 전달하기 때문입니다."
   ]
  },
  {
   "cell_type": "code",
   "execution_count": 20,
   "id": "1c5de654",
   "metadata": {},
   "outputs": [
    {
     "name": "stdout",
     "output_type": "stream",
     "text": [
      "<class 'langchain_openai.chat_models.base.ChatOpenAI'>\n",
      "<class 'langchain_community.tools.tavily_search.tool.TavilySearchResults'>\n",
      "<class 'langchain_core.runnables.base.RunnableBinding'>\n",
      "<class 'langchain_core.runnables.base.RunnableSequence'>\n"
     ]
    }
   ],
   "source": [
    "from datetime import datetime\n",
    "from langchain_core.prompts import ChatPromptTemplate\n",
    "from langchain_core.runnables import RunnableConfig, chain\n",
    "\n",
    "# 오늘 날짜 설정\n",
    "today = datetime.today().strftime(\"%Y-%m-%d\")\n",
    "\n",
    "# 프롬프트 템플릿 \n",
    "prompt = ChatPromptTemplate([\n",
    "    (\"system\", f\"You are a helpful AI assistant. Today's date is {today}.\"),\n",
    "    (\"human\", \"{user_input}\"),\n",
    "    (\"placeholder\", \"{messages}\"),\n",
    "])\n",
    "\n",
    "# ChatOpenAI 모델 초기화 \n",
    "llm = ChatOpenAI(model=\"gpt-4o-mini\")\n",
    "print(type(llm))\n",
    "\n",
    "# Tavily 검색 도구 초기화 (최대 2개의 결과 반환)\n",
    "tavily_tool = TavilySearchResults(max_results=2)\n",
    "print(type(tavily_tool))\n",
    "\n",
    "# LLM에 도구를 바인딩\n",
    "llm_with_tools = llm.bind_tools(tools=[tavily_tool])\n",
    "print(type(llm_with_tools))\n",
    "# <class 'langchain_core.runnables.base.RunnableBinding'>\n",
    "\n",
    "# LLM 체인 생성\n",
    "llm_chain = prompt | llm_with_tools\n",
    "print(type(llm_chain))"
   ]
  },
  {
   "cell_type": "code",
   "execution_count": 21,
   "id": "22a504f5",
   "metadata": {},
   "outputs": [
    {
     "name": "stdout",
     "output_type": "stream",
     "text": [
      "<class 'langchain_core.messages.ai.AIMessage'>\n",
      "ai_msg: \n",
      " content='' additional_kwargs={'tool_calls': [{'id': 'call_CXj919Gybg3AuSXPUdqjdXFY', 'function': {'arguments': '{\"query\": \"Americano coffee information\"}', 'name': 'tavily_search_results_json'}, 'type': 'function'}, {'id': 'call_BQcmc6VpnxRNLRFX9yMSTUjJ', 'function': {'arguments': '{\"query\": \"history of coffee\"}', 'name': 'tavily_search_results_json'}, 'type': 'function'}], 'refusal': None} response_metadata={'token_usage': {'completion_tokens': 57, 'prompt_tokens': 111, 'total_tokens': 168, 'completion_tokens_details': {'accepted_prediction_tokens': 0, 'audio_tokens': 0, 'reasoning_tokens': 0, 'rejected_prediction_tokens': 0}, 'prompt_tokens_details': {'audio_tokens': 0, 'cached_tokens': 0}}, 'model_name': 'gpt-4o-mini-2024-07-18', 'system_fingerprint': 'fp_34a54ae93c', 'id': 'chatcmpl-Bj4SO1AHpHcUuIGcSO0HfnEsVr9uS', 'service_tier': 'default', 'finish_reason': 'tool_calls', 'logprobs': None} id='run--a6829cc1-dff0-423d-81cf-36137985f963-0' tool_calls=[{'name': 'tavily_search_results_json', 'args': {'query': 'Americano coffee information'}, 'id': 'call_CXj919Gybg3AuSXPUdqjdXFY', 'type': 'tool_call'}, {'name': 'tavily_search_results_json', 'args': {'query': 'history of coffee'}, 'id': 'call_BQcmc6VpnxRNLRFX9yMSTUjJ', 'type': 'tool_call'}] usage_metadata={'input_tokens': 111, 'output_tokens': 57, 'total_tokens': 168, 'input_token_details': {'audio': 0, 'cache_read': 0}, 'output_token_details': {'audio': 0, 'reasoning': 0}}\n",
      "----------------------------------------------------------------------------------------------------\n",
      "<class 'list'>\n",
      "tool_msgs: \n",
      " [ToolMessage(content='[{\"title\": \"Caffè americano - Wikipedia\", \"url\": \"https://en.wikipedia.org/wiki/Caff%C3%A8_americano\", \"content\": \"_**Caffè americano**_ (Italian:[[kafˈfɛ ameriˈkaːno]](https://en.wikipedia.org/wiki/Help:IPA/Italian \\\\\"Help:IPA/Italian\\\\\"); Spanish: _café americano_; lit.\\'American coffee\\'), also known as **americano** or **American**, is a type of [coffee](https://en.wikipedia.org/wiki/Coffee \\\\\"Coffee\\\\\") drink prepared by diluting an [espresso](https://en.wikipedia.org/wiki/Espresso \\\\\"Espresso\\\\\") shot with hot water at a 1:3 to 1:4 ratio, resulting in a drink that retains the complex flavors of espresso, but in a [...] (identifier)\\\\\")[9781101151143](https://en.wikipedia.org/wiki/Special:BookSources/9781101151143 \\\\\"Special:BookSources/9781101151143\\\\\"). Retrieved November 2, 2016. _Caffè americano_, americano—The Italian answer to American-style drip coffee. An espresso diluted with hot water. It has a similar strength to drip coffee but a different flavor. The drink\\'s origin dates back to World War II when American GIs stationed in Italy added hot water to their espressos to create a drink closer to the type of [...] *   [Permanent link](https://en.wikipedia.org/w/index.php?title=Caff%C3%A8_americano&oldid=1289540045 \\\\\"Permanent link to this revision of this page\\\\\")\\\\n*   [Page information](https://en.wikipedia.org/w/index.php?title=Caff%C3%A8_americano&action=info \\\\\"More information about this page\\\\\")\\\\n*   [Cite this page](https://en.wikipedia.org/w/index.php?title=Special:CiteThisPage&page=Caff%C3%A8_americano&id=1289540045&wpFormIdentifier=titleform \\\\\"Information on how to cite this page\\\\\")\", \"score\": 0.8335554}, {\"title\": \"All Things Americano: Definition, History, and Recipes - Coffee Bros.\", \"url\": \"https://coffeebros.com/blogs/coffee/what-is-an-americano-definition-history-and-recipes?srsltid=AfmBOooyDb2Moqh90cfUiGka9oD98VXhpAujd_5RFMygvq7fps34XAuL\", \"content\": \"The Americano, or Caffè Americano, is a coffee drink made by adding hot water to a shot of espresso. The drink was created during World War II.\", \"score\": 0.8286204}]', name='tavily_search_results_json', tool_call_id='call_CXj919Gybg3AuSXPUdqjdXFY', artifact={'query': 'Americano coffee information', 'follow_up_questions': None, 'answer': None, 'images': [], 'results': [{'url': 'https://en.wikipedia.org/wiki/Caff%C3%A8_americano', 'title': 'Caffè americano - Wikipedia', 'content': '_**Caffè americano**_ (Italian:[[kafˈfɛ ameriˈkaːno]](https://en.wikipedia.org/wiki/Help:IPA/Italian \"Help:IPA/Italian\"); Spanish: _café americano_; lit.\\'American coffee\\'), also known as **americano** or **American**, is a type of [coffee](https://en.wikipedia.org/wiki/Coffee \"Coffee\") drink prepared by diluting an [espresso](https://en.wikipedia.org/wiki/Espresso \"Espresso\") shot with hot water at a 1:3 to 1:4 ratio, resulting in a drink that retains the complex flavors of espresso, but in a [...] (identifier)\")[9781101151143](https://en.wikipedia.org/wiki/Special:BookSources/9781101151143 \"Special:BookSources/9781101151143\"). Retrieved November 2, 2016. _Caffè americano_, americano—The Italian answer to American-style drip coffee. An espresso diluted with hot water. It has a similar strength to drip coffee but a different flavor. The drink\\'s origin dates back to World War II when American GIs stationed in Italy added hot water to their espressos to create a drink closer to the type of [...] *   [Permanent link](https://en.wikipedia.org/w/index.php?title=Caff%C3%A8_americano&oldid=1289540045 \"Permanent link to this revision of this page\")\\n*   [Page information](https://en.wikipedia.org/w/index.php?title=Caff%C3%A8_americano&action=info \"More information about this page\")\\n*   [Cite this page](https://en.wikipedia.org/w/index.php?title=Special:CiteThisPage&page=Caff%C3%A8_americano&id=1289540045&wpFormIdentifier=titleform \"Information on how to cite this page\")', 'score': 0.8335554, 'raw_content': None}, {'url': 'https://coffeebros.com/blogs/coffee/what-is-an-americano-definition-history-and-recipes?srsltid=AfmBOooyDb2Moqh90cfUiGka9oD98VXhpAujd_5RFMygvq7fps34XAuL', 'title': 'All Things Americano: Definition, History, and Recipes - Coffee Bros.', 'content': 'The Americano, or Caffè Americano, is a coffee drink made by adding hot water to a shot of espresso. The drink was created during World War II.', 'score': 0.8286204, 'raw_content': None}], 'response_time': 2.65}), ToolMessage(content='[{\"title\": \"History of coffee - Wikipedia\", \"url\": \"https://en.wikipedia.org/wiki/History_of_coffee\", \"content\": \"The **history of [coffee](/wiki/Coffee \\\\\"Coffee\\\\\")** dates back centuries, first from its origin in [Ethiopia](/wiki/Ethiopia \\\\\"Ethiopia\\\\\") and later in [Yemen](/wiki/Yemen \\\\\"Yemen\\\\\"). It was already known in [Mecca](/wiki/Mecca \\\\\"Mecca\\\\\") in the 15th century. Also, in the 15th century, [Sufi Muslim monasteries (khanqahs)](/wiki/Zawiya_(institution) \\\\\"Zawiya (institution)\\\\\") in Yemen employed coffee as an aid to concentration during prayers.[[1]](#cite_note-Weinberg-Bealer_2001-1) [Coffee](/wiki/Coffee [...] There are several legendary accounts of the origin of the consumption of coffee. According to one legend, ancestors of today\\'s [Kafficho people](/wiki/Kafficho_people \\\\\"Kafficho people\\\\\") in the [Kingdom of Kaffa](/wiki/Kingdom_of_Kaffa \\\\\"Kingdom of Kaffa\\\\\") were the first to recognize the energizing effect of the coffee plant.[[1]](#cite_note-Weinberg-Bealer_2001-1) One account involves a 9th-century Ethiopian [goatherder](/wiki/Goatherd \\\\\"Goatherd\\\\\"), [Kaldi](/wiki/Kaldi \\\\\"Kaldi\\\\\"), who, noticing the [...] The race among Europeans to obtain live coffee trees or beans was eventually won by the [Dutch](/wiki/Dutch_(ethnic_group) \\\\\"Dutch (ethnic group)\\\\\") in 1616. [Pieter van den Broecke](/wiki/Pieter_van_den_Broecke \\\\\"Pieter van den Broecke\\\\\"), a Dutch merchant, obtained some of the closely guarded coffee bushes from Mocha, Yemen, in 1616. He took them back to Amsterdam and found a home for them in the Botanical gardens, where they began to thrive. This apparently minor event received little publicity\", \"score\": 0.890761}, {\"title\": \"History of coffee - NCA\", \"url\": \"https://www.aboutcoffee.org/origins/history-of-coffee/\", \"content\": \"Coffee continued its march around the world as missionaries, traders, colonists, and other travelers carried coffee seeds—and a taste for the beverage. During this time, the history of coffee paints a picture that is sweeping and dramatic. People planted coffee in the soils of magnificent tropical forests and rugged mountain highlands. Some crops thrived, while others withered. Fortunes were made and lost. New nations were founded on coffee economies alone. So much rested on such small, yet [...] The business edition of coffee history began on the Arabian Peninsula, where people cultivated and traded coffee for the first time.\\xa0By the 15th century, coffee was being grown in what is now Yemen, and by the 16th century it gained popularity in what we now know as Iran, Egypt, Syria, and Turkey.\\\\n\\\\n### Wisdom in a cup\", \"score\": 0.8252664}]', name='tavily_search_results_json', tool_call_id='call_BQcmc6VpnxRNLRFX9yMSTUjJ', artifact={'query': 'history of coffee', 'follow_up_questions': None, 'answer': None, 'images': [], 'results': [{'url': 'https://en.wikipedia.org/wiki/History_of_coffee', 'title': 'History of coffee - Wikipedia', 'content': 'The **history of [coffee](/wiki/Coffee \"Coffee\")** dates back centuries, first from its origin in [Ethiopia](/wiki/Ethiopia \"Ethiopia\") and later in [Yemen](/wiki/Yemen \"Yemen\"). It was already known in [Mecca](/wiki/Mecca \"Mecca\") in the 15th century. Also, in the 15th century, [Sufi Muslim monasteries (khanqahs)](/wiki/Zawiya_(institution) \"Zawiya (institution)\") in Yemen employed coffee as an aid to concentration during prayers.[[1]](#cite_note-Weinberg-Bealer_2001-1) [Coffee](/wiki/Coffee [...] There are several legendary accounts of the origin of the consumption of coffee. According to one legend, ancestors of today\\'s [Kafficho people](/wiki/Kafficho_people \"Kafficho people\") in the [Kingdom of Kaffa](/wiki/Kingdom_of_Kaffa \"Kingdom of Kaffa\") were the first to recognize the energizing effect of the coffee plant.[[1]](#cite_note-Weinberg-Bealer_2001-1) One account involves a 9th-century Ethiopian [goatherder](/wiki/Goatherd \"Goatherd\"), [Kaldi](/wiki/Kaldi \"Kaldi\"), who, noticing the [...] The race among Europeans to obtain live coffee trees or beans was eventually won by the [Dutch](/wiki/Dutch_(ethnic_group) \"Dutch (ethnic group)\") in 1616. [Pieter van den Broecke](/wiki/Pieter_van_den_Broecke \"Pieter van den Broecke\"), a Dutch merchant, obtained some of the closely guarded coffee bushes from Mocha, Yemen, in 1616. He took them back to Amsterdam and found a home for them in the Botanical gardens, where they began to thrive. This apparently minor event received little publicity', 'score': 0.890761, 'raw_content': None}, {'url': 'https://www.aboutcoffee.org/origins/history-of-coffee/', 'title': 'History of coffee - NCA', 'content': 'Coffee continued its march around the world as missionaries, traders, colonists, and other travelers carried coffee seeds—and a taste for the beverage. During this time, the history of coffee paints a picture that is sweeping and dramatic. People planted coffee in the soils of magnificent tropical forests and rugged mountain highlands. Some crops thrived, while others withered. Fortunes were made and lost. New nations were founded on coffee economies alone. So much rested on such small, yet [...] The business edition of coffee history began on the Arabian Peninsula, where people cultivated and traded coffee for the first time.\\xa0By the 15th century, coffee was being grown in what is now Yemen, and by the 16th century it gained popularity in what we now know as Iran, Egypt, Syria, and Turkey.\\n\\n### Wisdom in a cup', 'score': 0.8252664, 'raw_content': None}], 'response_time': 2.25})]\n",
      "----------------------------------------------------------------------------------------------------\n",
      "('### 아메리카노 정보\\n'\n",
      " '\\n'\n",
      " '**아메리카노 (Caffè Americano)**는 이탈리아식 커피 음료로, 에스프레소에 뜨거운 물을 추가하여 만드는 방식입니다. '\n",
      " '일반적으로 에스프레소와 물의 비율은 1:3에서 1:4 정도입니다. 이를 통해 에스프레소의 복잡한 풍미를 유지하면서도 느낌은 드립 커피와 '\n",
      " '비슷한 맛을 느낄 수 있습니다. 아메리카노의 유래는 제2차 세계 대전 중 미군 병사들이 이탈리아에서 에스프레소에 뜨거운 물을 추가하여 '\n",
      " '만든 것에서 비롯되었습니다. 이는 그들이 고향에서 마시던 드립 커피와 비슷한 맛을 원했기 때문입니다.\\n'\n",
      " '\\n'\n",
      " '- 더 알아보기: [위키백과 아메리카노](https://en.wikipedia.org/wiki/Caff%C3%A8_americano)\\n'\n",
      " '- [Coffee Bros. '\n",
      " '블로그](https://coffeebros.com/blogs/coffee/what-is-an-americano-definition-history-and-recipes?srsltid=AfmBOooyDb2Moqh90cfUiGka9oD98VXhpAujd_5RFMygvq7fps34XAuL)\\n'\n",
      " '\\n'\n",
      " '### 커피 역사\\n'\n",
      " '\\n'\n",
      " '커피의 역사는 수세기에 걸쳐 있으며, 처음에는 에티오피아에서 시작되었습니다. 15세기에는 예멘에서 알려졌으며, 메카에서 커피가 소비되기 '\n",
      " '시작했습니다. 예멘의 수피 파도리들은 기도 중 집중을 돕기 위해 커피를 사용했습니다. 커피를 최초로 소비한 것은 오늘날의 카피치오족의 '\n",
      " '조상이었으며, 한 전설에 따르면 9세기 에티오피아의 양치기 칼디가 커피의 활력 효과를 알아차렸다고 합니다.\\n'\n",
      " '\\n'\n",
      " '커피는 유럽으로 건너가 다양한 지역에서 재배되기 시작했고, 16세기에는 이란, 이집트, 시리아, 터키에서 인기를 끌게 되었습니다. '\n",
      " '네덜란드 상인들이 1616년에 모카의 커피 나무를 유럽에 가져오면서 커피의 세계화가 가속화되었습니다.\\n'\n",
      " '\\n'\n",
      " '- 더 알아보기: [위키백과 커피 역사](https://en.wikipedia.org/wiki/History_of_coffee)\\n'\n",
      " '- [NCA 커피 역사](https://www.aboutcoffee.org/origins/history-of-coffee/)')\n"
     ]
    }
   ],
   "source": [
    "\n",
    "# 도구 실행 체인 정의\n",
    "# @chain은 일반 함수를 Runnable 객체로 만들어주는 데코레이터\n",
    "@chain\n",
    "def web_search_chain(user_input: str, config: RunnableConfig):\n",
    "    input_ = {\"user_input\": user_input}\n",
    "    ai_msg = llm_chain.invoke(input_, config=config)\n",
    "    print(type(ai_msg))\n",
    "    print(\"ai_msg: \\n\", ai_msg)\n",
    "    print(\"-\"*100)\n",
    "\n",
    "    tool_msgs = tavily_tool.batch(ai_msg.tool_calls, config=config)\n",
    "    print(type(tool_msgs))\n",
    "    print(\"tool_msgs: \\n\", tool_msgs)\n",
    "    \n",
    "    print(\"-\"*100)\n",
    "    return llm_chain.invoke({**input_, \"messages\": [ai_msg, *tool_msgs]}, config=config)\n",
    "\n",
    "# 체인 실행\n",
    "query = \"아메리카노 정보와 커피 역사를 알려주세요.\"\n",
    "response = web_search_chain.invoke(query)\n",
    "\n",
    "# 응답 출력 \n",
    "pprint(response.content)"
   ]
  },
  {
   "cell_type": "markdown",
   "id": "60f49a9f",
   "metadata": {},
   "source": [
    "### 2-2. 사용자 정의 도구\n",
    "- @tool decorator를 통해 사용자 정의 도구를 정의할 수 있음"
   ]
  },
  {
   "cell_type": "markdown",
   "id": "5c058ff5",
   "metadata": {},
   "source": [
    "`(1) 도구(tool) 정의하기`"
   ]
  },
  {
   "cell_type": "code",
   "execution_count": 22,
   "id": "2647393d",
   "metadata": {},
   "outputs": [],
   "source": [
    "from langchain_community.tools import TavilySearchResults\n",
    "from langchain_core.tools import tool\n",
    "\n",
    "# Tool 정의 \n",
    "@tool\n",
    "def tavily_search_func(query: str) -> str:\n",
    "    \"\"\"Searches the internet for information that does not exist in the database or for the latest information.\"\"\"\n",
    "\n",
    "    tavily_search = TavilySearchResults(max_results=2)\n",
    "    docs = tavily_search.invoke(query)\n",
    "\n",
    "    formatted_docs = \"\\n---\\n\".join([\n",
    "        f'<Document href=\"{doc[\"url\"]}\"/>\\n{doc[\"content\"]}\\n</Document>'\n",
    "        for doc in docs\n",
    "        ])\n",
    "\n",
    "    if len(formatted_docs) > 0:\n",
    "        return formatted_docs\n",
    "    \n",
    "    return \"관련 정보를 찾을 수 없습니다.\""
   ]
  },
  {
   "cell_type": "markdown",
   "id": "7b2d5144",
   "metadata": {},
   "source": [
    "### 2-3. Runnable 객체를 도구(tool) 변환\n",
    "- 문자열이나 dict 입력을 받는 Runnable을 도구로 변환\n",
    "- as_tool 메서드를 사용\n",
    "\n",
    "- wikipedia 설치\n",
    "```\n",
    "    poetry add wikipedia\n",
    "```\n",
    "- [WikipediaLoader](https://python.langchain.com/api_reference/community/document_loaders/langchain_community.document_loaders.wikipedia.WikipediaLoader.html) 사용\n"
   ]
  },
  {
   "cell_type": "code",
   "execution_count": 23,
   "id": "933f7aa5",
   "metadata": {},
   "outputs": [
    {
     "name": "stderr",
     "output_type": "stream",
     "text": [
      "C:\\Users\\user\\AppData\\Local\\Temp\\ipykernel_19984\\2894064045.py:24: LangChainBetaWarning: This API is in beta and may change in the future.\n",
      "  wiki_search = runnable.as_tool(\n"
     ]
    }
   ],
   "source": [
    "from langchain_community.document_loaders import WikipediaLoader\n",
    "from langchain_core.documents import Document\n",
    "from langchain_core.runnables import RunnableLambda\n",
    "from pydantic import BaseModel, Field\n",
    "from typing import List\n",
    "\n",
    "# WikipediaLoader를 사용하여 위키피디아 문서를 검색하는 함수 \n",
    "def search_wiki(input_data: dict) -> List[Document]:\n",
    "    \"\"\"Search Wikipedia documents based on user input (query) and return k documents\"\"\"\n",
    "    query = input_data[\"query\"]\n",
    "    k = input_data.get(\"k\", 2)  \n",
    "    wiki_loader = WikipediaLoader(query=query, load_max_docs=k, lang=\"ko\")\n",
    "    wiki_docs = wiki_loader.load()\n",
    "    return wiki_docs\n",
    "\n",
    "# 도구 호출에 사용할 입력 스키마 정의 \n",
    "class WikiSearchSchema(BaseModel):\n",
    "    \"\"\"Input schema for Wikipedia search.\"\"\"\n",
    "    query: str = Field(..., description=\"The query to search for in Wikipedia\")\n",
    "    k: int = Field(2, description=\"The number of documents to return (default is 2)\")\n",
    "\n",
    "# RunnableLambda 함수를 사용하여 위키피디아 문서 로더를 Runnable로 변환 \n",
    "runnable = RunnableLambda(search_wiki)\n",
    "wiki_search = runnable.as_tool(\n",
    "    name=\"wiki_search\",\n",
    "    description=dedent(\"\"\"\n",
    "        Use this tool when you need to search for information on Wikipedia.\n",
    "        It searches for Wikipedia articles related to the user's query and returns\n",
    "        a specified number of documents. This tool is useful when general knowledge\n",
    "        or background information is required.\n",
    "    \"\"\"),\n",
    "    args_schema=WikiSearchSchema\n",
    ")"
   ]
  },
  {
   "cell_type": "code",
   "execution_count": 24,
   "id": "ff26347a",
   "metadata": {},
   "outputs": [
    {
     "name": "stdout",
     "output_type": "stream",
     "text": [
      "자료형: \n",
      "<class 'langchain_core.tools.structured.StructuredTool'>\n",
      "----------------------------------------------------------------------------------------------------\n",
      "name: \n",
      "wiki_search\n",
      "----------------------------------------------------------------------------------------------------\n",
      "description: \n",
      "('Use this tool when you need to search for information on Wikipedia.\\n'\n",
      " \"It searches for Wikipedia articles related to the user's query and returns\\n\"\n",
      " 'a specified number of documents. This tool is useful when general knowledge\\n'\n",
      " 'or background information is required.')\n",
      "----------------------------------------------------------------------------------------------------\n",
      "schema: \n",
      "{'description': 'Input schema for Wikipedia search.',\n",
      " 'properties': {'k': {'default': 2,\n",
      "                      'description': 'The number of documents to return '\n",
      "                                     '(default is 2)',\n",
      "                      'title': 'K',\n",
      "                      'type': 'integer'},\n",
      "                'query': {'description': 'The query to search for in Wikipedia',\n",
      "                          'title': 'Query',\n",
      "                          'type': 'string'}},\n",
      " 'required': ['query'],\n",
      " 'title': 'WikiSearchSchema',\n",
      " 'type': 'object'}\n",
      "----------------------------------------------------------------------------------------------------\n"
     ]
    }
   ],
   "source": [
    "# 도구 속성\n",
    "print(\"자료형: \")\n",
    "print(type(wiki_search))\n",
    "print(\"-\"*100)\n",
    "\n",
    "print(\"name: \")\n",
    "print(wiki_search.name)\n",
    "print(\"-\"*100)\n",
    "\n",
    "print(\"description: \")\n",
    "pprint(wiki_search.description)\n",
    "print(\"-\"*100)\n",
    "\n",
    "print(\"schema: \")\n",
    "pprint(wiki_search.args_schema.schema())\n",
    "print(\"-\"*100)"
   ]
  },
  {
   "cell_type": "code",
   "execution_count": 25,
   "id": "ed7ff3c4",
   "metadata": {},
   "outputs": [
    {
     "name": "stdout",
     "output_type": "stream",
     "text": [
      "page_content='커피의 역사는 동아프리카로서부터 시작해, 중동, 유럽, 인도등으로 퍼지면서 오늘날 전 세계적으로 커피가 퍼진 기록을 가리킨다.\n",
      "\n",
      "\n",
      "== 어원 ==\n",
      "커피(coffee)라는 말은 아랍어 카흐와(قهوة)에서 오스만 터키어 카흐베(kahve)로, 여기서 다시 네덜란드어로 코피(koffie)로 간 것이 1582년에 영어로 들어간 것이다.\n",
      "아랍어 '카흐와'는 원래 포도주의 한 종류를 가리키는 용어로, 식욕을 억제하는 까닭에 '배고픔을 덜다'는 의미의 '카하'(قها)에서 유래한 것이라고 받아들여진다. 다른 견해로는 '힘', '에너지'를 의미하는 '쿠으와'에서 왔다거나, 중세 에티오피아에 위치했던 카파 왕국이 커피를 아랍 세계에 전해주었기 때문에 거기에서 유래했다는 의견이 있다.\n",
      "\n",
      "\n",
      "== 커피의 시작 ==\n",
      "커피가 확실하게 어디에서 유래되었는지에 대해서는 기록이 없다. 그러나 커피나무는 동아프리카의 에티오피아의 카파 주에서 발견되었고 서기 850년쯤에 시작된 것으로 증명되었으나, 어떤 사람들은 중동의 예멘에서 서기 575년경에 시작되었다고 주장한다. 에티오피아의 산 속에 있던 유목민족들이 커피 음료 대신 커피 열매를 통째로 먹었을거라고 하며, 에티오피아의 갈라 족(오늘날 오로모 족)은 이 커피 나무 열매와 동물 비계를 섞어 먹었는데 커피를 이런 방식으로 섭취하는 문화는 에티오피아에서 시작되었던 것이 확실하다고 볼 수 있다. 에티오피아에서 처음 커피를 발견했을 때 '번' (ቡና)이라고 불렀으며, 커피 열매를 다양하기 섭취하기 위해 퀴시르(قشر)라는 달콤한 커피 와인이나 돼지 비계와 커피를 섞은 간식처럼 커피를 이용한 요리를 많이 만들었다.\n",
      "\n",
      "\n",
      "=== 기원에 대한 다양한 설 ===\n",
      "\n",
      "커피의 기원에 대해 가장 인정받고 있으며 가장 오래된 이야기는 11세기에 아비시니아 제국(현재 에티오피아)에서 유래했다는 설이다 (어떤 설은 서기 850년이라고도 주장한다.). 에티오피아의 고지대에서 염소떼를 방목하는 칼디라는 목동이 있었는데, 저녁때가 되면 돌아오는 염소들이 그날은 돌아오지 않았다. 이에 칼디가 찾으러 갔는데, 염소들이 관목에 열린 붉은 열매를 따먹고 활기차게 뛰어다니고 있었다. 그 열매를 먹은 염소들은 그날 밤까지도 계속 활발한 상태로 잠도 자지 않았다. 칼디는 이 열매의 효능을 확인하기 위해 직접 섭취해 보았는데 실제로 기분이 각성되고 정력적이 되는 효과가 있었다. 따라서 이를 '천국에서 온 열매' 라고 확신한 칼디는 마을의 수도원장에게 이 열매를 소개했는데, 칼디의 성급하고 변덕이 심한 성격으로 인하여 수도원장은 그 열매는 신의 저주라며 화로불에 던져버렸다. 그런데 불에 타고 있었던 그 열매는 커피콩으로 볶아지면서 커피향 냄새가 수도원에 퍼졌고, 수도원에 있던 사람들은 커피콩에서 흘려 나오는 카페인으로 인해 활발해지며 그 효능을 느끼게 되었다.\n",
      "\n",
      "며칠 후 한 수도자가 칼디가 소개한 열매가 자기의 기도와 예배에 도움을 줄 수 있다고 생각하여 화로불에 남아있던 볶아진 커피콩을 집어내어 물이랑 섞어 마셨는데 효과가 좋았다. 이후 다른 수도자들도 피곤함을 없애려고 직접 커피 열매를 재배하기 시작했으며, 볶은 커피콩에 물을 섞어 마시기 시작하여 커피 음료가 탄생했다고 한다.\n",
      "\n",
      "칼디 이야기 이외에도 커피에 대한 또 다른 설들이 있다:\n",
      "\n",
      "중동에서 전해지는 설로 이슬람 종교의 어느 데르비시가 사막으로 추방당했을 때 근처에 있는 나무의 열매를 따서 먹으라는 목소리가 들렸다. 데르비시가 커피나무의 열매와 물을 섞어 마시려고 했지만 열매가 딱딱하고 물에 녹지 않아서 대신 열매를 우려낸 물을 마셨다. 그리고는 각성된 상태로 사막에서 빠져나올수 있었고 고향 마을까지 돌아갈 수 있었다. 데르비시는 이 각성 효과가 알라신의 축복으로 믿었으며, 고향에서 커피의 효능에 대한 소문이 퍼지기 시작하면서 커피가 유명해졌다고 한다.\n",
      "예멘의 모카라는 도시에서 전해지는 설로는, 기도로 아픈 사람들을 치료할 수 있는 위력을 가진 독실한 이슬람 신도 오마르가 모카에서 추방 당해 오사브 동굴 속에 죽도록 내버려졌다. 오마르는 굶어죽지 않기 위해 주변에 있던 관목의 열매를 먹으려 했는데 맛이 너무 써서 그냥은 먹지 못하고 열매를 불에 구웠는데 이번에는 너무 딱딱해져서 이를 뜨거운 물에 우려내어 먹었다고 한다. 커피의 각성력으로 오마르는 계속 동굴에서 살아 남았으며, 이 '마법의 열매' 소문이 모카에까지 퍼지게 되었다. 이로서 추방됐던 오마르는 모카로 돌아오게 되었다.\n",
      "\n",
      "\n",
      "== 확장기 ==\n",
      "\n",
      "\n",
      "=== 에티오피아 내 ===\n",
      "커피의 본고장인 에티오피아의 카프카에서 나중에 하라르로 퍼지기 시작했다. 15세기에 에티오피아에서 세계 최초의 커피농사를 짓기 시작했다.\n",
      "\n",
      "\n",
      "=== 예멘, 터키와 아라비아 반도 ===\n",
      "\n",
      "13세기때 커피는 에티오피아에서 아라비아 반도로 퍼지기 시작했다. 14-15세기에는 예멘으로 퍼졌다. 에티오피아를 방문한 수피파 무슬림 순례자들이 예멘으로 돌아갈때 예배할 때 쉽게 피곤하려 하지 않으려고 커피를 같이 들고 갔다. 수피파들이 커피를 만들떼 커피콩을 골고루 구워서 갈은 후에 끓였으며, 우리가 흔히 알고 있는 현대적인 커피의 형태랑 방식이 아마 여기서 전해졌을거다. 예멘에서는 커피를 잘 자라기에 흙이 매우 좋았다고 한며, 나중에 예멘의 커피는 너무 중요하게 여겼기 때문에 커피를 예멘 밖으로 수출했을 때 검사를 매우 깔끔하게 했다. 생 커피나무를 수출하는 건 불법이였다. 11세기때, 페르시아 (현재 이란)의 의사였던 이븐 시나는 커피를 약으로 삼았으며, 또 다른 페르시아의 의사였던 알 라지는 '번천' (مجنب)이라는 약용음료도 개발했다. 15세기 말의 무슬림 할례자들이 에티오피아의 커피를 페르시아, 이집트, 북아프리카, 터키 등으로 커피를 퍼트렸다.\n",
      "아라비아 반도뿐만 아니라 터키에서도 커피가 가난부터 귀족까지 골고루 인기가 퍼졌다. 귀족들은 커피를 위해 잔치용 다방이 따로 있는 한, 돈 덜 있는 일반 시민들은 \"카베 컨즈\" (Kaveh Kanes) 아니면 \"카베 카네\"(Qahveh Khaneh)라는 전통 커피하우스가 생겼다. 터키의 사람들은 커피하우스에서 커피를 소개 받았으며, 터키의 첫 커피하우스는 타타칼리 거리 (Tahtakale)의 키바 한 (Kiva Han)이라는 이름으로 시작했다. 사람들은 커피하우스에 체스나 백개먼 등 보드 게임 했으며, 뉴스를 소통하거나 음악연주, 연극, 대화로 시간을 떼웠다. 커피랑 커피하우스가 인기가 매우 높았으며, 터키랑 아라비아인들의 생활에 너무나 중요한 위치가 되어, \"위대한 자의 학교\"라는 명칭까지 붙어졌고, 터키의 법에서 남편을 위해 커피를 안 끓어주는 부인을 이혼하는데 합법시켰다.\n",
      "\n",
      "터키는 16세기 때 오토만 제국으로 승격했다. 1536년에 예멘을 지배했으며, 오토만 제국은 예멘에서 자라고 있던 커피농사를 매우 중요하게 생각했다. 예멘의 모카지방에서 자란 커피는 그의 독특한 맛으로 그 지역에서 만든 커피를 모카라고 불렀다. 또한 오토만 궁전 (아마 톱카프 궁전)에서 커피를 끓이는 새로운 비법을 발명했는데, 커피콩을 불에다 바로 구워서 얇게 갈은 후, 석탄가루로 불을 떼워 물이랑 같이 끓였는데, 이것은 오늘날 터키 커피의 시작으로 알려져 있다.\n",
      "\n",
      "\n",
      "=== 인사 ===\n",
      "\n",
      "\n",
      "=== 유럽 ===\n",
      "커피는 유럽 중 베니스, 이탈리아 1575년에 가장 먼저 퍼졌다. 또한 오토만 제국의 사제들이 서유럽으로 이민을 오면서 첫 커피하우스와 커피 판매 루트를 만들었다. 커피는 알콜이 아니었고, 소셜을위한  트레이딩이나 협상을 할때 알콜대신 마시는 음료였다. 그 다음 동유럽 쪽에 우선적으로 퍼졌을 것으로 예상하고, 이때까지도 현재 마시고 즐기는 커피 보다도 약으로 사용되었으나 특정한 치료 효과가 확인된바는 없었지만 광범위한 치료제로 (혹은 심리적) 사용되었다.\n",
      "영국에는 처음 커피가 발견된것과는 비교적 늦은시기에 커피하우스가 생겼다.\n",
      "커피를 즐겼던 방법\n",
      "\n",
      "커피에 대한 가장 오래된 기록은 서기575년과 850년 사이에 나타난다. 이때 커피는 음식으로 쓰였다. 분쇄된 원두를 동물의 기름과 섞고 공 모양으로 빚어 오랜 행군이나 전쟁 중에 힘을 보충하기 위한 목적으로 복용하였다. 공 형태로 만들어진 지방, 단백질, 카페인은 힘과 주의력을 복돋아 주었는데 말하자면' metadata={'title': '커피의 역사', 'summary': '커피의 역사는 동아프리카로서부터 시작해, 중동, 유럽, 인도등으로 퍼지면서 오늘날 전 세계적으로 커피가 퍼진 기록을 가리킨다.', 'source': 'https://ko.wikipedia.org/wiki/%EC%BB%A4%ED%94%BC%EC%9D%98_%EC%97%AD%EC%82%AC'}\n",
      "----------------------------------------------------------------------------------------------------\n",
      "page_content='커피(영어: coffee, 咖啡, 珈琲, 가배, 문화어: 흑차, 검은차), 커피차 또는 커피음료(영어: coffee beverage)는 커피 나무 열매의 씨(커피콩)를 볶아 가루로 낸 것을 따뜻한 물과 차가운 물 또는 증기로 우려내어 마시는, 쓴맛이 나는 짙은 갈색의 음료이다.\n",
      "색이 어둡고 쓴맛이 있으며 약산성인 커피는 주로 카페인 함량으로 인해 인간에게 자극 효과를 준다. 전세계 뜨거운 음료 시장에서 가장 높은 판매량을 기록하고 있다.\n",
      "커피나무 열매의 씨앗을 분리하여 볶지 않은 녹색 커피콩을 생산한다. 원두를 로스팅한 다음 일반적으로 뜨거운 물에 담근 후 미세한 입자로 갈아서 걸러내어 커피 한 잔을 만든다. 일반적으로 뜨겁게 제공되지만 차가운 아이스 커피가 일반적이다. 커피는 다양한 방법으로 준비되고 제공될 수 있다(예: 에스프레소, 프렌치 프레스, 카페 라떼 또는 이미 끓인 캔커피). 쓴맛을 가리거나 풍미를 강화하기 위해 설탕, 설탕 대체물, 우유, 크림을 첨가하는 경우가 많다.\n",
      "커피는 이제 세계적인 상품이 되었지만 홍해 주변의 음식 전통과 밀접하게 연관되어 있는 오랜 역사를 가지고 있다. 현대 음료로서 커피를 마시는 것에 대한 가장 신뢰할 수 있는 증거는 15세기 중반 아라비아 남부의 현대 예멘 수피 사원에서 나타난다. 그곳에서 커피 씨앗은 현재 준비되는 방식과 유사한 방식으로 처음으로 로스팅되고 양조되었다. 커피 원두는 소말리아 해안 중개인을 통해 에티오피아고원의 예멘인이 조달하여 예멘에서 재배했다. 16세기에 이 음료는 중동과 북아프리카의 나머지 지역으로 퍼져나갔고 나중에 유럽으로 퍼졌다.\n",
      "가장 일반적으로 재배되는 두 가지 커피 콩 유형은 C. 아라비카와 C. 로부스타이다. 커피나무는 70여 개국, 주로 아메리카 대륙, 동남아시아, 인도 아대륙, 아프리카의 적도 지역에서 재배된다. 2018년 기준으로 브라질은 세계 커피 원두 생산량의 35%를 생산하는 주요 커피 생산국이었다. 볶지 않은 녹색 커피는 농산물로 거래된다. 전 세계적으로 커피 판매량은 수십억 달러에 달하지만, 커피 원두를 생산하는 농부들은 불균형적으로 빈곤 속에 살고 있다. 커피 산업을 비판하는 사람들은 커피 재배와 물 사용을 위한 토지 개간과 환경에 대한 부정적인 영향도 지적했다.\n",
      "\n",
      "\n",
      "== 재배 지역 ==\n",
      "커피콩은 주로 적도지방 라틴 아메리카, 동남아시아, 남아시아 그리고 아프리카의 70여개국에서 재배 되는 커피 나무에서 얻을 수 있다. 커피콩(로스팅 전의 콩, 생두)은 세계에서 가장 많이 교역되는 농산물 중의 하나이다.\n",
      "커피는 카페인 성분으로 인해 사람을 각성시키는 효과를 가지고 있다. 커피는 세계에서 가장 많이 소비되는 음료 중의 하나이다.\n",
      "1년에 세계적으로 약 6천억 잔이 소비된다.\n",
      "커피는 많은 사회에서 중요한 역할을 해왔다. 커피의 기운을 북돋우는 효과는 에티오피아 동북부 지방에서 발견된 것으로 생각되며, 커피의 재배는 아랍으로 처음 전파되었다. 커피의 음용에 대한 최초의 믿을 수 있는 증거는 15세기 중반, 남부 아라비아의 예멘의 수피즘 사원에서 발견되었다. 커피는 무슬림 세계로부터 인도, 이탈리아, 그리고 나머지 유럽으로, 인도네시아, 미주 대륙으로 전파되었다. 남 아프리카와 예멘에서 커피는 종교의식에 사용되었고 그 결과, 에티오피아 정교회에서는 세속적인 소비를 금지하였으며, 금지령은 에티오피아 메네릭 2세 때까지 유지되었다. 커피는 오토만 제국 튀르키예에서 17세기에 정치적인 이유로 금지되었고, 유럽에서는 반체제적 정치 활동과 연관되어 있었다.\n",
      "\n",
      "\n",
      "== 어원 ==\n",
      "“커피”라는 단어는 커피의 원산지인 에티오피아의 남서부 “카파”에서 유래되었다는 설과, 커피의 아랍어 명칭 까후와(قَهْوَة)에서 유래되었다는 설이 존재한다. 아랍어의 까후와는 ‘배고픔을 줄이다’라는 의미의 ‘까히야’의 변화형으로, 원래 와인의 한 종류를 가리키는 말이었으나, 와인과 유사한 각성효과가 있는 커피에도 붙여졌다고 한다. 아랍어 까후와는 오스만 투르크어 kahve로 흘러 들어갔고, 거기서 유럽인들이 그들의 언어로 차입해 갔다(이탈리아어 caffè, 프랑스어 café, 독일어 Kaffee, 영어 coffee).\n",
      "한국어 단어 “커피”는 영어 coffee에서 온 말이다. 커피가 들어왔던 개화기 당시, 한자로 가배(珈琲), 가비, 혹은 가배다, 가배차, 가비차 등으로 사용하거나 원음을 그대로 코오피, 코피로 사용하고, 공적인 문서들에는 커피, 가배, 신문 등지에서는 코오피, 카피차, 가피차, 양차 등으로 사용한 것을 찾을 수 있다. 검은 색감과 쓴 맛이 탕약과 비슷하다고 하여, 또 서양에서 왔다고 해서 '양탕국'으로 불리기도 했다. '양탕국'은 한때 민간에서 흔히 불렸던 커피의 호칭이었으나 '가배'와 '양탕국' 모두 '커피'라는 단어에 밀려 사어가 되었다.\n",
      "한편, 커피가 발견된 에티오피아에서는 “분나”(Bunna)라고 부른다.\n",
      "커피를 내리고 남은 찌꺼기는 우리말로 커피박(-剝)이라 하고 영어권에서는 커피퍽(coffee puck)이라 한다.\n",
      "커피를 마시며 휴식을 취한다는 표현 \"coffee break\"은 1952년에 처음 발견된다. '커피포트'라는 용어는 1705년에 등장한다.\n",
      "\n",
      "\n",
      "== 역사 ==\n",
      "\n",
      "커피는 7세기 이전부터 에티오피아의 고지대에서 자생하고 있던 것으로 보인다. 전설에 따르면 염소 목동이었던 칼디(Kaldi)가 우연히 염소들이 먹던 열매를 발견했고 열매를 마을에 가져오는데, 피곤함을 덜어주는 커피의 효능을 마을의 종교 수행자들을 돕기 위해 쓰게 되었다고 전해지고 있다. 그곳에서부터 커피는 이집트와 예멘으로 전파되었다. 이집트와 예멘에서는 커피가 종교적 의식에 사용되기도 했다. 15세기 쯤에는 페르시아, 터키와 북아프리카에 이미 들어와 있었다.\n",
      "커피에 대한 처음 반응은 그다지 좋지 않았다. 1511년에는 신경을 자극하는 성질 때문에 메카의 보수적인 이맘에 의해 금지되었다. 하지만 이 음료의 인기, 특히 그리스인과 지식인 사이에서의 인기를 꺾을 수 없었고 결국 오스만 투르크 술탄 셀림 1세에 의해 커피 금지령이 폐지되었다. 카이로에서도 유사한 금지령이 1532년에 내려졌고, 커피샵과 커피 창고들이 파괴되었다. 하지만 이후 1554년 이스탄불에 세계 최초의 커피 가게인 카페 키바 한(Cafe Kiva Han)이 들어서게 된다.\n",
      "커피는 이슬람 세계에서 유럽으로 퍼졌다. 계기가 된 사건은 오스만 제국이 오스트리아의 빈을 침공하면서터부터이다(1683년 빈 전투). 전쟁중에 터키에 머물고 있던 공직자 프란츠 콜스키츠키(Franz Kolschitzky)는 검은 빛깔의 열매를 발견해 들여왔으며, 1683년에 커피 전문점을 열었다. 지금처럼 커피에 우유를 넣거나 달게 먹는 방식은 오스트리아에서 시작됐다고 한다. 커피는 후에 17세기로 접어들면서 유럽에서 큰 인기를 얻기 시작했다. 유럽으로 커피를 처음 대량 수입하기 시작한 것은 네덜란드 상인이었다. 네덜란드인들은 자와섬 지역에 커피 플랜테이션 농장을 지으면서 큰 성공을 거두기도 한다.\n",
      "10년 동안 중동을 여행한 독일의 의사 레오나르드 라우볼프는 1538년에 커피에 대해 \"잉크처럼 검은 음료, 다양한 병, 특히 위에 관련된 질환을 치료하는 데 유용하다. 이것의 섭취자들은 아침에 돌려쓰는 도자기 잔에서 한 잔씩 마심. 이것은 물과 분누라는 관목에서 나는 열매로 만들어짐\"이라고 적었다. 쉴레이만 아아(프랑스에서는 '솔리만 아가(Soliman Aga)'로 부름)가 1669년 7월 메흐메트 4세의 사절로 베르사유 궁전에서 루이 14세를 접견할 때, 투르크식 커피를 내리는 모습을 선보였고, 이것이 계기가 되어 프랑스 권력층에게는 커피를 담당하는 하인을 고용하는 것이 사회적 지위의 상징이 되었다.\n",
      "한편, 런던에서는 오스트리아보다도 먼저 커피를 마시고 있었다. 런던 사람들에게 커피샵은 Penny Universities라 불리면서 싼 값에 지식을 공유하고 토론하는 장으로 자리잡았다. 영국인들 사이에서 커피의 인기가 계속 증대됨에 따라 1690년대부터는 미국에도 본격적인 커피 가게 붐이 일어난다. 뉴욕, 보스턴, 필라델피아 등지에서 시작됐으며 1700년이 넘어가면서부터 뉴욕 시에서는 맥주보다 커피가 아침 음료로 선호받게 된다.\n",
      "사실 커피가 아메리카' metadata={'title': '커피', 'summary': '커피(영어: coffee, 咖啡, 珈琲, 가배, 문화어: 흑차, 검은차), 커피차 또는 커피음료(영어: coffee beverage)는 커피 나무 열매의 씨(커피콩)를 볶아 가루로 낸 것을 따뜻한 물과 차가운 물 또는 증기로 우려내어 마시는, 쓴맛이 나는 짙은 갈색의 음료이다.\\n색이 어둡고 쓴맛이 있으며 약산성인 커피는 주로 카페인 함량으로 인해 인간에게 자극 효과를 준다. 전세계 뜨거운 음료 시장에서 가장 높은 판매량을 기록하고 있다.\\n커피나무 열매의 씨앗을 분리하여 볶지 않은 녹색 커피콩을 생산한다. 원두를 로스팅한 다음 일반적으로 뜨거운 물에 담근 후 미세한 입자로 갈아서 걸러내어 커피 한 잔을 만든다. 일반적으로 뜨겁게 제공되지만 차가운 아이스 커피가 일반적이다. 커피는 다양한 방법으로 준비되고 제공될 수 있다(예: 에스프레소, 프렌치 프레스, 카페 라떼 또는 이미 끓인 캔커피). 쓴맛을 가리거나 풍미를 강화하기 위해 설탕, 설탕 대체물, 우유, 크림을 첨가하는 경우가 많다.\\n커피는 이제 세계적인 상품이 되었지만 홍해 주변의 음식 전통과 밀접하게 연관되어 있는 오랜 역사를 가지고 있다. 현대 음료로서 커피를 마시는 것에 대한 가장 신뢰할 수 있는 증거는 15세기 중반 아라비아 남부의 현대 예멘 수피 사원에서 나타난다. 그곳에서 커피 씨앗은 현재 준비되는 방식과 유사한 방식으로 처음으로 로스팅되고 양조되었다. 커피 원두는 소말리아 해안 중개인을 통해 에티오피아고원의 예멘인이 조달하여 예멘에서 재배했다. 16세기에 이 음료는 중동과 북아프리카의 나머지 지역으로 퍼져나갔고 나중에 유럽으로 퍼졌다.\\n가장 일반적으로 재배되는 두 가지 커피 콩 유형은 C. 아라비카와 C. 로부스타이다. 커피나무는 70여 개국, 주로 아메리카 대륙, 동남아시아, 인도 아대륙, 아프리카의 적도 지역에서 재배된다. 2018년 기준으로 브라질은 세계 커피 원두 생산량의 35%를 생산하는 주요 커피 생산국이었다. 볶지 않은 녹색 커피는 농산물로 거래된다. 전 세계적으로 커피 판매량은 수십억 달러에 달하지만, 커피 원두를 생산하는 농부들은 불균형적으로 빈곤 속에 살고 있다. 커피 산업을 비판하는 사람들은 커피 재배와 물 사용을 위한 토지 개간과 환경에 대한 부정적인 영향도 지적했다.', 'source': 'https://ko.wikipedia.org/wiki/%EC%BB%A4%ED%94%BC'}\n",
      "----------------------------------------------------------------------------------------------------\n"
     ]
    }
   ],
   "source": [
    "# 위키 검색 실행\n",
    "query = \"커피 역사\"\n",
    "wiki_results = wiki_search.invoke({\"query\":query})\n",
    "\n",
    "# 검색 결과 출력\n",
    "for result in wiki_results:\n",
    "    print(result)  \n",
    "    print(\"-\" * 100)  "
   ]
  },
  {
   "cell_type": "code",
   "execution_count": 26,
   "id": "1b812a0a",
   "metadata": {},
   "outputs": [
    {
     "name": "stdout",
     "output_type": "stream",
     "text": [
      "<class 'langchain_core.tools.structured.StructuredTool'>\n",
      "<class 'langchain_core.tools.structured.StructuredTool'>\n",
      "AIMessage(content='', additional_kwargs={'tool_calls': [{'id': 'call_rEdPLhild1LWrSkchmbGkA7T', 'function': {'arguments': '{\"query\": \"카페라떼와 어울리는 디저트\"}', 'name': 'tavily_search_func'}, 'type': 'function'}, {'id': 'call_l0KPwLs7scqYiSHI74qX0sJP', 'function': {'arguments': '{\"query\": \"라떼의 유래\"}', 'name': 'wiki_search'}, 'type': 'function'}], 'refusal': None}, response_metadata={'token_usage': {'completion_tokens': 64, 'prompt_tokens': 180, 'total_tokens': 244, 'completion_tokens_details': {'accepted_prediction_tokens': 0, 'audio_tokens': 0, 'reasoning_tokens': 0, 'rejected_prediction_tokens': 0}, 'prompt_tokens_details': {'audio_tokens': 0, 'cached_tokens': 0}}, 'model_name': 'gpt-4o-mini-2024-07-18', 'system_fingerprint': 'fp_34a54ae93c', 'id': 'chatcmpl-Bj4Tt3SfWp5blkmeO78O1iij8jJ5e', 'service_tier': 'default', 'finish_reason': 'tool_calls', 'logprobs': None}, id='run--a1d20646-914f-462d-974c-67c8a646d2dc-0', tool_calls=[{'name': 'tavily_search_func', 'args': {'query': '카페라떼와 어울리는 디저트'}, 'id': 'call_rEdPLhild1LWrSkchmbGkA7T', 'type': 'tool_call'}, {'name': 'wiki_search', 'args': {'query': '라떼의 유래'}, 'id': 'call_l0KPwLs7scqYiSHI74qX0sJP', 'type': 'tool_call'}], usage_metadata={'input_tokens': 180, 'output_tokens': 64, 'total_tokens': 244, 'input_token_details': {'audio': 0, 'cache_read': 0}, 'output_token_details': {'audio': 0, 'reasoning': 0}})\n",
      "----------------------------------------------------------------------------------------------------\n",
      "''\n",
      "----------------------------------------------------------------------------------------------------\n",
      "[{'args': {'query': '카페라떼와 어울리는 디저트'},\n",
      "  'id': 'call_rEdPLhild1LWrSkchmbGkA7T',\n",
      "  'name': 'tavily_search_func',\n",
      "  'type': 'tool_call'},\n",
      " {'args': {'query': '라떼의 유래'},\n",
      "  'id': 'call_l0KPwLs7scqYiSHI74qX0sJP',\n",
      "  'name': 'wiki_search',\n",
      "  'type': 'tool_call'}]\n",
      "----------------------------------------------------------------------------------------------------\n"
     ]
    }
   ],
   "source": [
    "# LLM에 도구를 바인딩 (2개의 도구 바인딩)\n",
    "print(type(tavily_search_func))\n",
    "print(type(wiki_search))\n",
    "llm_with_tools = llm.bind_tools(tools=[tavily_search_func, wiki_search])\n",
    "\n",
    "# 도구 호출이 필요한 LLM 호출을 수행\n",
    "query = \"카페라떼와 어울리는 디저트는 무엇인가요? 그리고 라떼의 유래에 대해서도 알려주세요.\"\n",
    "ai_msg = llm_with_tools.invoke(query)\n",
    "\n",
    "# LLM의 전체 출력 결과 출력\n",
    "pprint(ai_msg)\n",
    "print(\"-\" * 100)\n",
    "\n",
    "# 메시지 content 속성 (텍스트 출력)\n",
    "pprint(ai_msg.content)\n",
    "print(\"-\" * 100)\n",
    "\n",
    "# LLM이 호출한 도구 정보 출력\n",
    "pprint(ai_msg.tool_calls)\n",
    "print(\"-\" * 100)"
   ]
  },
  {
   "cell_type": "markdown",
   "id": "db06d2ed",
   "metadata": {},
   "source": [
    "`(2) LCEL 체인`\n",
    "- 위키피디아 문서를 검색하고 내용을 요약하는 체인"
   ]
  },
  {
   "cell_type": "code",
   "execution_count": 27,
   "id": "4a7ab14a",
   "metadata": {},
   "outputs": [
    {
     "name": "stdout",
     "output_type": "stream",
     "text": [
      "('커피의 역사는 동아프리카에서 시작되어 중동, 유럽, 인도 등으로 퍼져나갔으며, 현재 전 세계적으로 소비되고 있다. \"커피\"라는 단어는 '\n",
      " '아랍어 \"카흐와\"에서 유래하였고, 커피의 기원에 대한 여러 설이 존재한다. 에티오피아의 칼디라는 목동이 염소들이 커피 열매를 먹고 '\n",
      " '활발해지는 것을 보고 커피의 효능을 발견했다는 전설이 유명하다. 15세기 중반, 예멘에서 현대적인 커피 음료가 처음으로 만들어졌고, 이후 '\n",
      " '중동과 유럽으로 확산되었다. 커피는 다양한 방법으로 준비되며, 세계에서 가장 많이 소비되는 음료 중 하나로, 주로 카페인 함량으로 인해 '\n",
      " '각성 효과를 준다. 커피 산업은 경제적으로 중요한 역할을 하지만, 생산자들은 종종 빈곤에 시달리고 있으며 환경 문제도 제기되고 있다.')\n"
     ]
    }
   ],
   "source": [
    "from langchain_core.prompts import ChatPromptTemplate\n",
    "from langchain_core.output_parsers import StrOutputParser\n",
    "from langchain_core.runnables import RunnableLambda\n",
    "from langchain_community.document_loaders import WikipediaLoader\n",
    "\n",
    "# WikipediaLoader를 사용하여 위키피디아 문서를 검색하고 텍스트로 반환하는 함수 \n",
    "def wiki_search_and_summarize(input_data: dict):\n",
    "    wiki_loader = WikipediaLoader(query=input_data[\"query\"], load_max_docs=2, lang=\"ko\")\n",
    "    wiki_docs = wiki_loader.load()\n",
    "\n",
    "    formatted_docs =[\n",
    "        f'<Document source=\"{doc.metadata[\"source\"]}\"/>\\n{doc.page_content}\\n</Document>'\n",
    "        for doc in wiki_docs\n",
    "        ]\n",
    "    \n",
    "    return formatted_docs\n",
    "\n",
    "# 요약 프롬프트 템플릿\n",
    "summary_prompt = ChatPromptTemplate.from_template(\n",
    "    \"Summarize the following text in a concise manner:\\n\\n{context}\\n\\nSummary:\"\n",
    ")\n",
    "\n",
    "# LLM 및 요약 체인 설정\n",
    "llm = ChatOpenAI(model=\"gpt-4o-mini\", temperature=0)\n",
    "summary_chain = (\n",
    "    {\"context\": RunnableLambda(wiki_search_and_summarize)}\n",
    "    | summary_prompt | llm | StrOutputParser() \n",
    ")\n",
    "\n",
    "# 요약 테스트 \n",
    "summarized_text = summary_chain.invoke({\"query\":\"커피 역사\"})\n",
    "pprint(summarized_text)"
   ]
  },
  {
   "cell_type": "code",
   "execution_count": 28,
   "id": "a35ac080",
   "metadata": {},
   "outputs": [
    {
     "name": "stdout",
     "output_type": "stream",
     "text": [
      "자료형: \n",
      "<class 'langchain_core.tools.structured.StructuredTool'>\n",
      "----------------------------------------------------------------------------------------------------\n",
      "name: \n",
      "wiki_summary\n",
      "----------------------------------------------------------------------------------------------------\n",
      "description: \n",
      "('Use this tool when you need to search for information on Wikipedia.\\n'\n",
      " \"It searches for Wikipedia articles related to the user's query and returns\\n\"\n",
      " 'a summarized text. This tool is useful when general knowledge\\n'\n",
      " 'or background information is required.')\n",
      "----------------------------------------------------------------------------------------------------\n",
      "schema: \n",
      "{'description': 'Input schema for Wikipedia search.',\n",
      " 'properties': {'query': {'description': 'The query to search for in Wikipedia',\n",
      "                          'title': 'Query',\n",
      "                          'type': 'string'}},\n",
      " 'required': ['query'],\n",
      " 'title': 'WikiSummarySchema',\n",
      " 'type': 'object'}\n",
      "----------------------------------------------------------------------------------------------------\n"
     ]
    }
   ],
   "source": [
    "# 도구 호출에 사용할 입력 스키마 정의 \n",
    "class WikiSummarySchema(BaseModel):\n",
    "    \"\"\"Input schema for Wikipedia search.\"\"\"\n",
    "    query: str = Field(..., description=\"The query to search for in Wikipedia\")\n",
    "\n",
    "# as_tool 메소드를 사용하여 도구 객체로 변환\n",
    "wiki_summary = summary_chain.as_tool(\n",
    "    name=\"wiki_summary\",\n",
    "    description=dedent(\"\"\"\n",
    "        Use this tool when you need to search for information on Wikipedia.\n",
    "        It searches for Wikipedia articles related to the user's query and returns\n",
    "        a summarized text. This tool is useful when general knowledge\n",
    "        or background information is required.\n",
    "    \"\"\"),\n",
    "    args_schema=WikiSummarySchema\n",
    ")\n",
    "\n",
    "# 도구 속성\n",
    "print(\"자료형: \")\n",
    "print(type(wiki_summary))\n",
    "print(\"-\"*100)\n",
    "\n",
    "print(\"name: \")\n",
    "print(wiki_summary.name)\n",
    "print(\"-\"*100)\n",
    "\n",
    "print(\"description: \")\n",
    "pprint(wiki_summary.description)\n",
    "print(\"-\"*100)\n",
    "\n",
    "print(\"schema: \")\n",
    "pprint(wiki_summary.args_schema.schema())\n",
    "print(\"-\"*100)"
   ]
  },
  {
   "cell_type": "code",
   "execution_count": 29,
   "id": "78824759",
   "metadata": {},
   "outputs": [
    {
     "name": "stdout",
     "output_type": "stream",
     "text": [
      "AIMessage(content='', additional_kwargs={'tool_calls': [{'id': 'call_XcRqR0ZVm7hL9fnU8w8SpdOo', 'function': {'arguments': '{\"query\": \"카페라떼와 어울리는 디저트\"}', 'name': 'tavily_search_func'}, 'type': 'function'}, {'id': 'call_nG5BsMkq4K85KkKIBIZp9lrT', 'function': {'arguments': '{\"query\": \"라떼\"}', 'name': 'wiki_summary'}, 'type': 'function'}], 'refusal': None}, response_metadata={'token_usage': {'completion_tokens': 61, 'prompt_tokens': 156, 'total_tokens': 217, 'completion_tokens_details': {'accepted_prediction_tokens': 0, 'audio_tokens': 0, 'reasoning_tokens': 0, 'rejected_prediction_tokens': 0}, 'prompt_tokens_details': {'audio_tokens': 0, 'cached_tokens': 0}}, 'model_name': 'gpt-4o-mini-2024-07-18', 'system_fingerprint': 'fp_34a54ae93c', 'id': 'chatcmpl-Bj4UtlFdpDfhPWb1kT8eAzTwb5HB2', 'service_tier': 'default', 'finish_reason': 'tool_calls', 'logprobs': None}, id='run--1ba9e70f-cfa5-4c38-ba8d-1c99a48333da-0', tool_calls=[{'name': 'tavily_search_func', 'args': {'query': '카페라떼와 어울리는 디저트'}, 'id': 'call_XcRqR0ZVm7hL9fnU8w8SpdOo', 'type': 'tool_call'}, {'name': 'wiki_summary', 'args': {'query': '라떼'}, 'id': 'call_nG5BsMkq4K85KkKIBIZp9lrT', 'type': 'tool_call'}], usage_metadata={'input_tokens': 156, 'output_tokens': 61, 'total_tokens': 217, 'input_token_details': {'audio': 0, 'cache_read': 0}, 'output_token_details': {'audio': 0, 'reasoning': 0}})\n",
      "----------------------------------------------------------------------------------------------------\n",
      "''\n",
      "----------------------------------------------------------------------------------------------------\n",
      "[{'args': {'query': '카페라떼와 어울리는 디저트'},\n",
      "  'id': 'call_XcRqR0ZVm7hL9fnU8w8SpdOo',\n",
      "  'name': 'tavily_search_func',\n",
      "  'type': 'tool_call'},\n",
      " {'args': {'query': '라떼'},\n",
      "  'id': 'call_nG5BsMkq4K85KkKIBIZp9lrT',\n",
      "  'name': 'wiki_summary',\n",
      "  'type': 'tool_call'}]\n",
      "----------------------------------------------------------------------------------------------------\n"
     ]
    }
   ],
   "source": [
    "# LLM에 도구를 바인딩\n",
    "llm_with_tools = llm.bind_tools(tools=[tavily_search_func, wiki_summary])\n",
    "\n",
    "# 도구 호출이 필요한 LLM 호출을 수행\n",
    "query = \"카페라떼와 어울리는 디저트는 무엇인가요? 그리고 라떼의 유래에 대해서도 알려주세요.\"\n",
    "ai_msg = llm_with_tools.invoke(query)\n",
    "\n",
    "# LLM의 전체 출력 결과 출력\n",
    "pprint(ai_msg)\n",
    "print(\"-\" * 100)\n",
    "\n",
    "# 메시지 content 속성 (텍스트 출력)\n",
    "pprint(ai_msg.content)\n",
    "print(\"-\" * 100)\n",
    "\n",
    "# LLM이 호출한 도구 정보 출력\n",
    "pprint(ai_msg.tool_calls)\n",
    "print(\"-\" * 100)"
   ]
  },
  {
   "cell_type": "code",
   "execution_count": 30,
   "id": "c87d0b1a",
   "metadata": {},
   "outputs": [
    {
     "data": {
      "text/plain": [
       "{'name': 'wiki_summary',\n",
       " 'args': {'query': '라떼'},\n",
       " 'id': 'call_nG5BsMkq4K85KkKIBIZp9lrT',\n",
       " 'type': 'tool_call'}"
      ]
     },
     "execution_count": 30,
     "metadata": {},
     "output_type": "execute_result"
    }
   ],
   "source": [
    "ai_msg.tool_calls[1]"
   ]
  },
  {
   "cell_type": "code",
   "execution_count": 31,
   "id": "12cbdd5c",
   "metadata": {},
   "outputs": [
    {
     "name": "stdout",
     "output_type": "stream",
     "text": [
      "<class 'langchain_core.messages.tool.ToolMessage'>\n",
      "content='카페 라테는 에스프레소에 뜨거운 우유를 추가한 커피 음료로, 이탈리아어에서 유래하였으며, 카푸치노와는 비율이 다르다. 17세기 유럽에서 기원하였고, 현대적인 형태는 20세기에 나타났다. 다양한 변형이 존재하며, 정치적 맥락에서도 사용된다. \\n\\n커피는 커피 나무 열매를 볶아 우려낸 음료로, 세계에서 가장 많이 소비되는 음료 중 하나이다. 15세기 중반 아라비아에서 처음으로 음용되기 시작했으며, 이후 중동과 유럽으로 퍼졌다. 커피는 다양한 방식으로 준비되며, 주요 재배 지역은 적도 지역이다. 커피의 기원과 역사, 그리고 사회적 역할에 대한 설명도 포함되어 있다.' name='wiki_summary' tool_call_id='call_nG5BsMkq4K85KkKIBIZp9lrT'\n",
      "----------------------------------------------------------------------------------------------------\n",
      "('카페 라테는 에스프레소에 뜨거운 우유를 추가한 커피 음료로, 이탈리아어에서 유래하였으며, 카푸치노와는 비율이 다르다. 17세기 유럽에서 '\n",
      " '기원하였고, 현대적인 형태는 20세기에 나타났다. 다양한 변형이 존재하며, 정치적 맥락에서도 사용된다. \\n'\n",
      " '\\n'\n",
      " '커피는 커피 나무 열매를 볶아 우려낸 음료로, 세계에서 가장 많이 소비되는 음료 중 하나이다. 15세기 중반 아라비아에서 처음으로 '\n",
      " '음용되기 시작했으며, 이후 중동과 유럽으로 퍼졌다. 커피는 다양한 방식으로 준비되며, 주요 재배 지역은 적도 지역이다. 커피의 기원과 '\n",
      " '역사, 그리고 사회적 역할에 대한 설명도 포함되어 있다.')\n"
     ]
    }
   ],
   "source": [
    "# 도구 실행 \n",
    "tool_message = wiki_summary.invoke(ai_msg.tool_calls[1])\n",
    "print(type(tool_message))\n",
    "print(tool_message)\n",
    "print(\"-\" * 100)\n",
    "pprint(tool_message.content)"
   ]
  },
  {
   "cell_type": "code",
   "execution_count": 32,
   "id": "2e2de1a6",
   "metadata": {},
   "outputs": [
    {
     "name": "stdout",
     "output_type": "stream",
     "text": [
      "ai_msg: \n",
      " content='' additional_kwargs={'tool_calls': [{'id': 'call_c3uKhRcD01Tnwe9ps33TlRTa', 'function': {'arguments': '{\"query\":\"커피의 역사\"}', 'name': 'wiki_summary'}, 'type': 'function'}], 'refusal': None} response_metadata={'token_usage': {'completion_tokens': 18, 'prompt_tokens': 119, 'total_tokens': 137, 'completion_tokens_details': {'accepted_prediction_tokens': 0, 'audio_tokens': 0, 'reasoning_tokens': 0, 'rejected_prediction_tokens': 0}, 'prompt_tokens_details': {'audio_tokens': 0, 'cached_tokens': 0}}, 'model_name': 'gpt-4o-mini-2024-07-18', 'system_fingerprint': 'fp_34a54ae93c', 'id': 'chatcmpl-Bj4W2SoeIBzXi8Y43gqqWC3X34Zxe', 'service_tier': 'default', 'finish_reason': 'tool_calls', 'logprobs': None} id='run--8266950e-0b52-4136-b111-41ebabc03e81-0' tool_calls=[{'name': 'wiki_summary', 'args': {'query': '커피의 역사'}, 'id': 'call_c3uKhRcD01Tnwe9ps33TlRTa', 'type': 'tool_call'}] usage_metadata={'input_tokens': 119, 'output_tokens': 18, 'total_tokens': 137, 'input_token_details': {'audio': 0, 'cache_read': 0}, 'output_token_details': {'audio': 0, 'reasoning': 0}}\n",
      "----------------------------------------------------------------------------------------------------\n",
      "tool_msgs: \n",
      " [ToolMessage(content='The history of coffee traces back to East Africa, spreading through the Middle East, Europe, and India. The term \"coffee\" originates from the Arabic word \"qahwa,\" evolving through Turkish and Dutch before entering English in 1582. Coffee\\'s origins are debated, with evidence suggesting it was first discovered in Ethiopia\\'s Kaffa region around 850 AD, while some claim it began in Yemen around 575 AD. The popular legend involves a goat herder named Kaldi, who noticed his goats became energetic after eating coffee berries. This led to the introduction of coffee to monasteries, where it was brewed and consumed for its stimulating effects.\\n\\nCoffee culture expanded significantly in the 15th century, particularly in Yemen and the Ottoman Empire, where coffeehouses became social hubs. By the 16th century, coffee reached Europe, with the first coffeehouse opening in Venice in 1575. In Korea, coffee shops emerged in the 1920s, evolving into cultural spaces by the 1960s and 70s, and later transforming into modern coffee shops in the 1990s, with a rise in independent cafes in recent years.', name='wiki_summary', tool_call_id='call_c3uKhRcD01Tnwe9ps33TlRTa')]\n",
      "----------------------------------------------------------------------------------------------------\n",
      "('커피의 역사는 동아프리카에서 시작되어 중동, 유럽, 인도로 퍼져나갔습니다. \"커피\"라는 용어는 아랍어 \"qahwa\"에서 유래하였으며, '\n",
      " '터키어와 네덜란드어를 거쳐 1582년에 영어로 들어왔습니다. 커피의 기원에 대한 논란이 있지만, 에티오피아의 카파 지역에서 약 850년경 '\n",
      " '처음 발견되었다는 증거가 있으며, 일부는 575년경 예멘에서 시작되었다고 주장합니다. 유명한 전설에 따르면, 양치기 칼디가 자신의 양들이 '\n",
      " '커피 열매를 먹고 활력을 얻는 것을 발견하면서 커피가 수도원에 소개되었고, 그곳에서 양조되어 소비되었습니다.\\n'\n",
      " '\\n'\n",
      " '15세기에는 예멘과 오스만 제국에서 커피 문화가 크게 확산되었고, 커피하우스는 사회적 중심지가 되었습니다. 16세기에는 커피가 유럽에 '\n",
      " '도달하였고, 1575년에는 베네치아에 첫 번째 커피하우스가 열렸습니다. 한국에서는 1920년대에 커피숍이 등장하였고, 1960년대와 '\n",
      " '70년대에는 문화 공간으로 발전하였으며, 1990년대에는 현대적인 커피숍으로 변화하였고, 최근 몇 년 동안 독립 카페가 증가하는 '\n",
      " '추세입니다.')\n"
     ]
    }
   ],
   "source": [
    "from datetime import datetime\n",
    "from langchain_core.prompts import ChatPromptTemplate\n",
    "from langchain_core.runnables import RunnableConfig, chain\n",
    "\n",
    "# 오늘 날짜 설정\n",
    "today = datetime.today().strftime(\"%Y-%m-%d\")\n",
    "\n",
    "# 프롬프트 템플릿 \n",
    "prompt = ChatPromptTemplate([\n",
    "    (\"system\", f\"You are a helpful AI assistant. Today's date is {today}.\"),\n",
    "    (\"human\", \"{user_input}\"),\n",
    "    (\"placeholder\", \"{messages}\"),\n",
    "])\n",
    "\n",
    "# LLM에 도구를 바인딩\n",
    "llm_with_tools = llm.bind_tools(tools=[wiki_summary])\n",
    "\n",
    "# LLM 체인 생성\n",
    "llm_chain = prompt | llm_with_tools\n",
    "\n",
    "# 도구 실행 체인 정의\n",
    "@chain\n",
    "def wiki_summary_chain(user_input: str, config: RunnableConfig):\n",
    "    input_ = {\"user_input\": user_input}\n",
    "    ai_msg = llm_chain.invoke(input_, config=config)\n",
    "    print(\"ai_msg: \\n\", ai_msg)\n",
    "    print(\"-\"*100)\n",
    "\n",
    "    tool_msgs = wiki_summary.batch(ai_msg.tool_calls, config=config)\n",
    "    print(\"tool_msgs: \\n\", tool_msgs)\n",
    "    print(\"-\"*100)\n",
    "    \n",
    "    return llm_chain.invoke({**input_, \"messages\": [ai_msg, *tool_msgs]}, config=config)\n",
    "\n",
    "# 체인 실행\n",
    "response = wiki_summary_chain.invoke(\"커피의 역사에 대해서 알려주세요.\")\n",
    "\n",
    "# 응답 출력 \n",
    "pprint(response.content)"
   ]
  },
  {
   "cell_type": "markdown",
   "id": "6f828547",
   "metadata": {},
   "source": [
    "### 2-4. 벡터저장소 검색기\n",
    "- @tool decorator 사용"
   ]
  },
  {
   "cell_type": "markdown",
   "id": "e9a9dc12",
   "metadata": {},
   "source": [
    "`(1) 문서 로드 및 인덱싱`"
   ]
  },
  {
   "cell_type": "code",
   "execution_count": 34,
   "id": "a0da1d76",
   "metadata": {},
   "outputs": [
    {
     "name": "stdout",
     "output_type": "stream",
     "text": [
      "1\n"
     ]
    }
   ],
   "source": [
    "from langchain.document_loaders import TextLoader\n",
    "\n",
    "# 메뉴판 텍스트 데이터를 로드\n",
    "loader = TextLoader(\"./data/cafe_menu_data.txt\", encoding=\"utf-8\")\n",
    "documents = loader.load()\n",
    "\n",
    "print(len(documents))"
   ]
  },
  {
   "cell_type": "code",
   "execution_count": 35,
   "id": "5e94154e",
   "metadata": {},
   "outputs": [
    {
     "name": "stdout",
     "output_type": "stream",
     "text": [
      "총 10개의 메뉴 항목이 처리되었습니다.\n",
      "<class 'langchain_core.documents.base.Document'>\n",
      "{'id': None,\n",
      " 'metadata': {'menu_name': '아메리카노',\n",
      "              'menu_number': 1,\n",
      "              'source': './data/cafe_menu_data.txt'},\n",
      " 'page_content': '1. 아메리카노\\n'\n",
      "                 '   • 가격: ₩4,500\\n'\n",
      "                 '   • 주요 원료: 에스프레소, 뜨거운 물\\n'\n",
      "                 '   • 설명: 진한 에스프레소에 뜨거운 물을 더해 만든 클래식한 블랙 커피입니다. 원두 본연의 맛을 가장 '\n",
      "                 '잘 느낄 수 있으며, 깔끔하고 깊은 풍미가 특징입니다. 설탕이나 시럽 추가 가능합니다.',\n",
      " 'type': 'Document'}\n",
      "\n",
      "메뉴 번호: 1\n",
      "메뉴 이름: 아메리카노\n",
      "내용:\n",
      "1. 아메리카노\n",
      "   • 가격: ₩4,500\n",
      "   • 주요 원료: 에스프레소, 뜨거운 물\n",
      "   • 설명: 진한 에스프레소에 뜨거운 물을 더해 만든 클래식한 블랙 커피입니다. 원두 ...\n",
      "<class 'langchain_core.documents.base.Document'>\n",
      "{'id': None,\n",
      " 'metadata': {'menu_name': '카페라떼',\n",
      "              'menu_number': 2,\n",
      "              'source': './data/cafe_menu_data.txt'},\n",
      " 'page_content': '2. 카페라떼\\n'\n",
      "                 '   • 가격: ₩5,500\\n'\n",
      "                 '   • 주요 원료: 에스프레소, 스팀 밀크\\n'\n",
      "                 '   • 설명: 진한 에스프레소에 부드럽게 스팀한 우유를 넣어 만든 대표적인 밀크 커피입니다. 크리미한 '\n",
      "                 '질감과 부드러운 맛이 특징이며, 다양한 시럽과 토핑 추가가 가능합니다. 라떼 아트로 시각적 즐거움도 '\n",
      "                 '제공합니다.',\n",
      " 'type': 'Document'}\n",
      "\n",
      "메뉴 번호: 2\n",
      "메뉴 이름: 카페라떼\n",
      "내용:\n",
      "2. 카페라떼\n",
      "   • 가격: ₩5,500\n",
      "   • 주요 원료: 에스프레소, 스팀 밀크\n",
      "   • 설명: 진한 에스프레소에 부드럽게 스팀한 우유를 넣어 만든 대표적인 밀크 커피입니다...\n"
     ]
    }
   ],
   "source": [
    "from langchain_core.documents import Document\n",
    "\n",
    "# 문서 분할 (Chunking)\n",
    "def split_menu_items(document):\n",
    "    \"\"\"\n",
    "    메뉴 항목을 분리하는 함수 \n",
    "    \"\"\"\n",
    "    # 정규표현식 정의 \n",
    "    pattern = r'(\\d+\\.\\s.*?)(?=\\n\\n\\d+\\.|$)'\n",
    "    menu_items = re.findall(pattern, document.page_content, re.DOTALL)\n",
    "    \n",
    "    # 각 메뉴 항목을 Document 객체로 변환\n",
    "    menu_documents = []\n",
    "    for i, item in enumerate(menu_items, 1):\n",
    "        # 메뉴 이름 추출\n",
    "        menu_name = item.split('\\n')[0].split('.', 1)[1].strip()\n",
    "        \n",
    "        # 새로운 Document 객체 생성\n",
    "        menu_doc = Document(\n",
    "            page_content=item.strip(),\n",
    "            metadata={\n",
    "                \"source\": document.metadata['source'],\n",
    "                \"menu_number\": i,\n",
    "                \"menu_name\": menu_name\n",
    "            }\n",
    "        )\n",
    "        menu_documents.append(menu_doc)\n",
    "    \n",
    "    return menu_documents\n",
    "\n",
    "\n",
    "# 메뉴 항목 분리 실행\n",
    "menu_documents = []\n",
    "for doc in documents:\n",
    "    menu_documents += split_menu_items(doc)\n",
    "\n",
    "# 결과 출력\n",
    "print(f\"총 {len(menu_documents)}개의 메뉴 항목이 처리되었습니다.\")\n",
    "for doc in menu_documents[:2]:\n",
    "    print(type(doc))\n",
    "    pprint(vars(doc))\n",
    "    print(f\"\\n메뉴 번호: {doc.metadata['menu_number']}\")\n",
    "    print(f\"메뉴 이름: {doc.metadata['menu_name']}\")\n",
    "    print(f\"내용:\\n{doc.page_content[:100]}...\")"
   ]
  },
  {
   "cell_type": "markdown",
   "id": "1a09f288",
   "metadata": {},
   "source": [
    "### Embedding을 하기 위해 Ollama Qwen2.5 설치\n",
    "```\n",
    "ollama run qwen2.5:1.5b\n",
    "\n",
    "ollama ls\n",
    "```"
   ]
  },
  {
   "cell_type": "code",
   "execution_count": 36,
   "id": "8552797f",
   "metadata": {},
   "outputs": [],
   "source": [
    "from langchain_community.vectorstores import FAISS\n",
    "from langchain_ollama import OllamaEmbeddings\n",
    "\n",
    "embeddings_model = OllamaEmbeddings(model=\"bge-m3:latest\") \n",
    "\n",
    "# FAISS 인덱스 생성\n",
    "menu_db = FAISS.from_documents(\n",
    "    documents=menu_documents, \n",
    "    embedding=embeddings_model\n",
    ")\n",
    "\n",
    "# FAISS 인덱스 저장 (선택사항)\n",
    "menu_db.save_local(\"./db/cafemenu_db\")\n",
    "\n",
    "\n",
    "# Retriever 생성\n",
    "menu_retriever = menu_db.as_retriever(\n",
    "    search_kwargs={'k': 2},\n",
    ")\n"
   ]
  },
  {
   "cell_type": "code",
   "execution_count": 38,
   "id": "11e08eac",
   "metadata": {},
   "outputs": [
    {
     "name": "stdout",
     "output_type": "stream",
     "text": [
      "검색 결과: 2개\n",
      "메뉴 번호: 1\n",
      "메뉴 이름: 아메리카노\n",
      "\n",
      "메뉴 번호: 9\n",
      "메뉴 이름: 아이스 아메리카노\n",
      "\n"
     ]
    }
   ],
   "source": [
    "\n",
    "# 쿼리 테스트\n",
    "query = \"아메리카노의 가격과 특징은 무엇인가요?\"\n",
    "docs = menu_retriever.invoke(query)\n",
    "print(f\"검색 결과: {len(docs)}개\")\n",
    "\n",
    "for doc in docs:\n",
    "    print(f\"메뉴 번호: {doc.metadata['menu_number']}\")\n",
    "    print(f\"메뉴 이름: {doc.metadata['menu_name']}\")\n",
    "    print()"
   ]
  },
  {
   "cell_type": "markdown",
   "id": "2040915b",
   "metadata": {},
   "source": [
    "`(2) 도구(tool) 정의하기`"
   ]
  },
  {
   "cell_type": "code",
   "execution_count": 39,
   "id": "93d4c3a5",
   "metadata": {},
   "outputs": [
    {
     "name": "stdout",
     "output_type": "stream",
     "text": [
      "자료형: \n",
      "<class 'langchain_core.tools.structured.StructuredTool'>\n",
      "----------------------------------------------------------------------------------------------------\n",
      "name: \n",
      "db_search_menu_func\n",
      "----------------------------------------------------------------------------------------------------\n",
      "description: \n",
      "('Securely retrieve and access authorized cafe menu information from the '\n",
      " 'encrypted database.\\n'\n",
      " 'Use this tool only for coffee-related queries to maintain data '\n",
      " 'confidentiality.')\n",
      "----------------------------------------------------------------------------------------------------\n",
      "schema: \n",
      "{'description': 'Securely retrieve and access authorized cafe menu information '\n",
      "                'from the encrypted database.\\n'\n",
      "                'Use this tool only for coffee-related queries to maintain '\n",
      "                'data confidentiality.',\n",
      " 'properties': {'query': {'title': 'Query', 'type': 'string'}},\n",
      " 'required': ['query'],\n",
      " 'title': 'db_search_menu_func',\n",
      " 'type': 'object'}\n",
      "----------------------------------------------------------------------------------------------------\n"
     ]
    }
   ],
   "source": [
    "from langchain_core.tools import tool\n",
    "\n",
    "# menu db 벡터 저장소 로드\n",
    "menu_db = FAISS.load_local(\n",
    "    \"./db/cafemenu_db\", \n",
    "    embeddings_model, \n",
    "    allow_dangerous_deserialization=True\n",
    ")\n",
    "\n",
    "@tool\n",
    "def db_search_menu_func(query: str) -> List[Document]:\n",
    "    \"\"\"\n",
    "    Securely retrieve and access authorized cafe menu information from the encrypted database.\n",
    "    Use this tool only for coffee-related queries to maintain data confidentiality.\n",
    "    \"\"\"\n",
    "    docs = menu_db.similarity_search(query, k=4)\n",
    "    if len(docs) > 0:\n",
    "        return docs\n",
    "    \n",
    "    return [Document(page_content=\"관련 메뉴 정보를 찾을 수 없습니다.\")]\n",
    "\n",
    "# 도구 속성\n",
    "print(\"자료형: \")\n",
    "print(type(db_search_menu_func))\n",
    "print(\"-\"*100)\n",
    "\n",
    "print(\"name: \")\n",
    "print(db_search_menu_func.name)\n",
    "print(\"-\"*100)\n",
    "\n",
    "print(\"description: \")\n",
    "pprint(db_search_menu_func.description)\n",
    "print(\"-\"*100)\n",
    "\n",
    "print(\"schema: \")\n",
    "pprint(db_search_menu_func.args_schema.schema())\n",
    "print(\"-\"*100)"
   ]
  },
  {
   "cell_type": "markdown",
   "id": "7f7b74a1",
   "metadata": {},
   "source": [
    "`(3) 여러 개의 도구(tool) 호출하기`"
   ]
  },
  {
   "cell_type": "code",
   "execution_count": 40,
   "id": "23c3bba9",
   "metadata": {},
   "outputs": [
    {
     "name": "stdout",
     "output_type": "stream",
     "text": [
      "<class 'langchain_core.tools.structured.StructuredTool'>\n",
      "tavily_search_func\n",
      "<class 'langchain_core.tools.structured.StructuredTool'>\n",
      "wiki_summary\n",
      "<class 'langchain_core.tools.structured.StructuredTool'>\n",
      "db_search_menu_func\n"
     ]
    }
   ],
   "source": [
    "# @tool : tavily_search_func, db_search_menu_func, db_search_wine_func\n",
    "# as_tool() 함수 : wiki_summary\n",
    "tools = [tavily_search_func, wiki_summary, db_search_menu_func]\n",
    "for tool in tools:\n",
    "    print(type(tool))\n",
    "    print(tool.name)"
   ]
  },
  {
   "cell_type": "code",
   "execution_count": 41,
   "id": "1eda10de",
   "metadata": {},
   "outputs": [],
   "source": [
    "from datetime import datetime\n",
    "from langchain_core.prompts import ChatPromptTemplate\n",
    "from langchain_core.runnables import RunnableConfig, chain\n",
    "\n",
    "# 오늘 날짜 설정\n",
    "today = datetime.today().strftime(\"%Y-%m-%d\")\n",
    "\n",
    "# 프롬프트 템플릿 \n",
    "prompt = ChatPromptTemplate([\n",
    "    (\"system\", f\"You are a helpful AI assistant. Today's date is {today}.\"),\n",
    "    (\"human\", \"{user_input}\"),\n",
    "    (\"placeholder\", \"{messages}\"),\n",
    "])\n",
    "\n",
    "# ChatOpenAI 모델 초기화 \n",
    "llm = ChatOpenAI(model=\"gpt-4o-mini\")\n",
    "\n",
    "# 4개의 검색 도구를 LLM에 바인딩\n",
    "llm_with_tools = llm.bind_tools(tools=tools)\n",
    "\n",
    "# LLM 체인 생성\n",
    "llm_chain = prompt | llm_with_tools\n",
    "\n",
    "# 도구 실행 체인 정의\n",
    "@chain\n",
    "def cafe_menu_chain(user_input: str, config: RunnableConfig):\n",
    "    input_ = {\"user_input\": user_input}\n",
    "    ai_msg = llm_chain.invoke(input_, config=config)\n",
    "\n",
    "    tool_msgs = []\n",
    "    for tool_call in ai_msg.tool_calls:\n",
    "        pprint(f\"{tool_call['name']}: \\n{tool_call}\")\n",
    "        print(\"-\"*100)\n",
    "\n",
    "        if tool_call[\"name\"] == \"tavily_search_func\":\n",
    "            tool_message = tavily_search_func.invoke(tool_call, config=config)\n",
    "            tool_msgs.append(tool_message)\n",
    "\n",
    "        elif tool_call[\"name\"] == \"wiki_summary\":\n",
    "            tool_message = wiki_summary.invoke(tool_call, config=config)\n",
    "            tool_msgs.append(tool_message)\n",
    "\n",
    "        elif tool_call[\"name\"] == \"db_search_menu_func\":\n",
    "            tool_message = db_search_menu_func.invoke(tool_call, config=config)\n",
    "            tool_msgs.append(tool_message)          \n",
    "\n",
    "    print(\"tool_msgs: \\n\")\n",
    "    for tool in tool_msgs:\n",
    "        pprint(tool.name)\n",
    "    print(\"-\"*100)\n",
    "    return llm_chain.invoke({**input_, \"messages\": [ai_msg, *tool_msgs]}, config=config)\n"
   ]
  },
  {
   "cell_type": "code",
   "execution_count": 43,
   "id": "a1cbf70d",
   "metadata": {},
   "outputs": [
    {
     "name": "stdout",
     "output_type": "stream",
     "text": [
      "('db_search_menu_func: \\n'\n",
      " \"{'name': 'db_search_menu_func', 'args': {'query': '아메리카노'}, 'id': \"\n",
      " \"'call_v1mD1GSPrp7PWUOCyP3Ih9CB', 'type': 'tool_call'}\")\n",
      "----------------------------------------------------------------------------------------------------\n",
      "tool_msgs: \n",
      "\n",
      "'db_search_menu_func'\n",
      "----------------------------------------------------------------------------------------------------\n",
      "아메리카노는 다음과 같은 특징과 가격을 가지고 있습니다:\n",
      "\n",
      "- **가격**: ₩4,500\n",
      "- **주요 원료**: 에스프레소, 뜨거운 물\n",
      "- **설명**: 아메리카노는 진한 에스프레소에 뜨거운 물을 더해 만든 클래식한 블랙 커피입니다. 이 커피는 원두 본연의 맛을 가장 잘 느낄 수 있으며, 깔끔하고 깊은 풍미가 특징입니다. 필요에 따라 설탕이나 시럽을 추가할 수 있습니다.\n",
      "\n",
      "또한, 아이스 아메리카노도 제공되며, 가격은 동일하고 차가운 물과 얼음이 추가되어 시원한 맛을 제공합니다.\n"
     ]
    }
   ],
   "source": [
    "\n",
    "# 체인 실행\n",
    "response = cafe_menu_chain.invoke(\"아메리카노의 가격과 특징은 무엇인가요?\")\n",
    "\n",
    "# 응답 출력 \n",
    "print(response.content)"
   ]
  },
  {
   "cell_type": "code",
   "execution_count": 44,
   "id": "d7a6b90b",
   "metadata": {},
   "outputs": [
    {
     "name": "stdout",
     "output_type": "stream",
     "text": [
      "<class 'langchain_core.messages.ai.AIMessage'>\n",
      "AIMessage(content='아메리카노는 다음과 같은 특징과 가격을 가지고 있습니다:\\n\\n- **가격**: ₩4,500\\n- **주요 원료**: 에스프레소, 뜨거운 물\\n- **설명**: 아메리카노는 진한 에스프레소에 뜨거운 물을 더해 만든 클래식한 블랙 커피입니다. 이 커피는 원두 본연의 맛을 가장 잘 느낄 수 있으며, 깔끔하고 깊은 풍미가 특징입니다. 필요에 따라 설탕이나 시럽을 추가할 수 있습니다.\\n\\n또한, 아이스 아메리카노도 제공되며, 가격은 동일하고 차가운 물과 얼음이 추가되어 시원한 맛을 제공합니다.', additional_kwargs={'refusal': None}, response_metadata={'token_usage': {'completion_tokens': 167, 'prompt_tokens': 902, 'total_tokens': 1069, 'completion_tokens_details': {'accepted_prediction_tokens': 0, 'audio_tokens': 0, 'reasoning_tokens': 0, 'rejected_prediction_tokens': 0}, 'prompt_tokens_details': {'audio_tokens': 0, 'cached_tokens': 0}}, 'model_name': 'gpt-4o-mini-2024-07-18', 'system_fingerprint': 'fp_34a54ae93c', 'id': 'chatcmpl-Bj4bXImSnK1EXZC5fvfSFXmKSt3z9', 'service_tier': 'default', 'finish_reason': 'stop', 'logprobs': None}, id='run--08f643de-471f-42c5-96be-ee4ef5bf145d-0', usage_metadata={'input_tokens': 902, 'output_tokens': 167, 'total_tokens': 1069, 'input_token_details': {'audio': 0, 'cache_read': 0}, 'output_token_details': {'audio': 0, 'reasoning': 0}})\n"
     ]
    }
   ],
   "source": [
    "print(type(response))\n",
    "pprint(response)"
   ]
  },
  {
   "cell_type": "code",
   "execution_count": 46,
   "id": "f93b3215",
   "metadata": {},
   "outputs": [
    {
     "name": "stdout",
     "output_type": "stream",
     "text": [
      "('wiki_summary: \\n'\n",
      " \"{'name': 'wiki_summary', 'args': {'query': '카페라떼'}, 'id': \"\n",
      " \"'call_KgzjbyzfpPiNe22I2NpumSas', 'type': 'tool_call'}\")\n",
      "----------------------------------------------------------------------------------------------------\n",
      "('tavily_search_func: \\n'\n",
      " \"{'name': 'tavily_search_func', 'args': {'query': '카페라떼와 어울리는 디저트'}, 'id': \"\n",
      " \"'call_csdyUpbAMFTVEawJMIMXkKnH', 'type': 'tool_call'}\")\n",
      "----------------------------------------------------------------------------------------------------\n",
      "tool_msgs: \n",
      "\n",
      "'wiki_summary'\n",
      "'tavily_search_func'\n",
      "----------------------------------------------------------------------------------------------------\n",
      "### 카페라떼의 유래\n",
      "카페라떼(Caffè latte)는 에스프레소에 따뜻한 우유와 소량의 우유 거품을 추가한 음료로, 이탈리아에서 시작되었습니다. \"라떼\"라는 용어는 이탈리아어로 우유를 의미하는 \"latte\"에서 유래하며, 카페를 뜻하는 \"caffè\"와 결합되어 있습니다. 카페라떼의 기원은 17세기 이탈리아로 거슬러 올라가며, 1860년대에는 널리 알려지게 되었습니다. 이 음료는 보통 아침 식사와 함께 마시는 경우가 많으며, 에스프레소의 쓴맛과 우유의 부드러운 맛이 잘 어우러지는 것이 특징입니다. 카페라떼는 현대에 이르러 전 세계적으로 인기가 높아졌고, 다양한 커피 문화의 풍부함을 나타내는 음료로 자리잡았습니다.\n",
      "\n",
      "### 카페라떼와 어울리는 디저트\n",
      "카페라떼와 잘 어울리는 디저트로는 다음과 같은 것들이 있습니다:\n",
      "- **케이크**: 초콜릿 케이크나 치즈 케이크 등, 부드럽고 달콤한 케이크가 좋은 조화를 이룹니다.\n",
      "- **쿠키**: 버터 쿠키나 초콜릿 칩 쿠키와 같이 바삭하고 달콤한 쿠키는 라떼와 잘 어울립니다.\n",
      "- **마카롱**: 다양한 맛의 마카롱은 카페라떼의 부드러운 맛과 즐겁게 조화를 이룹니다.\n",
      "- **브라우니**: 초콜릿 브라우니 같은 진한 디저트는 카페라떼와 함께하면 디저트의 맛을 한층 끌어올려 줍니다.\n",
      "\n",
      "카페라떼의 부드럽고 크리미한 질감은 이러한 디저트와 잘 어울리며, 각각의 맛을 더욱 풍부하게 느낄 수 있게 해줍니다.\n"
     ]
    }
   ],
   "source": [
    "# 체인 실행\n",
    "response = cafe_menu_chain.invoke(\"카페라떼와 어울리는 디저트는 무엇인가요? 그리고 라떼의 유래에 대해서도 알려주세요.\")\n",
    "\n",
    "# 응답 출력 \n",
    "print(response.content)"
   ]
  },
  {
   "cell_type": "markdown",
   "id": "cc3b78e3",
   "metadata": {},
   "source": [
    "## 3. Few-shot 프롬프팅 \n",
    "- 각 도구의 용도를 구분하여 few-shot 예제로 제시"
   ]
  },
  {
   "cell_type": "markdown",
   "id": "4cd3e6b9",
   "metadata": {},
   "source": [
    "### 3-1. Few-shot 도구 호출"
   ]
  },
  {
   "cell_type": "code",
   "execution_count": 48,
   "id": "5fd743c1",
   "metadata": {},
   "outputs": [
    {
     "name": "stdout",
     "output_type": "stream",
     "text": [
      "{'name': 'db_search_menu_func', 'args': {'query': '아메리카노'}, 'id': 'call_UR9kKRV6luYzhGVbC3XFm8I0', 'type': 'tool_call'}\n",
      "{'name': 'wiki_summary', 'args': {'query': '커피 역사'}, 'id': 'call_ZfJDbWC59ysMw4OC0sCATdkZ', 'type': 'tool_call'}\n"
     ]
    }
   ],
   "source": [
    "from langchain_core.messages import AIMessage, HumanMessage, ToolMessage\n",
    "from langchain_core.prompts import ChatPromptTemplate\n",
    "\n",
    "examples = [\n",
    "    HumanMessage(\"아메리카노 정보와 커피 역사를 알려주세요.\", name=\"example_user\"),\n",
    "    AIMessage(\"메뉴 검색과 위키피디아 검색을 진행하겠습니다.\", name=\"example_assistant\"),\n",
    "    AIMessage(\"\", name=\"example_assistant\", tool_calls=[{\"name\": \"db_search_menu_func\", \"args\": {\"query\": \"아메리카노\"}, \"id\": \"1\"}]),\n",
    "    ToolMessage(\"아메리카노: 가격 ₩4,500, 에스프레소에 뜨거운 물을 더함\", tool_call_id=\"1\"),    \n",
    "    AIMessage(\"아메리카노의 가격은 ₩4,500이며, 진한 에스프레소에 뜨거운 물을 더해 만든 클래식한 블랙 커피입니다. 이제 추가 정보를 위키피디아에서 찾아보겠습니다.\", name=\"example_assistant\"),\n",
    "    AIMessage(\"\", name=\"example_assistant\", tool_calls=[{\"name\": \"wiki_summary\", \"args\": {\"query\": \"커피 역사\"}, \"id\": \"2\"}]),\n",
    "    ToolMessage(\"커피가 확실하게 어디에서 유래되었는지에 대해서는 기록이 없습니다. 그러나 커피나무는 동아프리카의 에티오피아의 카파 주에서 발견되었고 \\\n",
    "                서기 850년쯤에 시작된 것으로 증명되었으나, 어떤 사람들은 중동의 예멘에서 서기 575년경에 시작되었다고 주장합니다.\", tool_call_id=\"2\"),\n",
    "    AIMessage(\"아메리카노(₩4,500)는 진한 에스프레소에 뜨거운 물을 더해 만든 클래식한 블랙 커피입니다.\\\n",
    "               커피의 역사에 관해 커피가 확실하게 어디에서 유래되었는지에 대해서는 기록이 없습니다. 그러나 커피나무는 동아프리카의 에티오피아의 카파 주에서 발견되었고 \\\n",
    "                서기 850년쯤에 시작된 것으로 증명되었으나, 어떤 사람들은 중동의 예멘에서 서기 575년경에 시작되었다고 주장합니다.\", name=\"example_assistant\"),\n",
    "]\n",
    "\n",
    "system = \"\"\"You are an AI assistant providing cafe menu information and general coffee-related knowledge.\n",
    "For information about the cafe's menu, use the db_search_menu_func tool.\n",
    "For other general information, use the wiki_summary tool.\n",
    "If additional web searches are needed or for the most up-to-date information, use the search_web tool.\n",
    "\"\"\"\n",
    "\n",
    "few_shot_prompt = ChatPromptTemplate.from_messages([\n",
    "    (\"system\", system),\n",
    "    *examples,\n",
    "    (\"human\", \"{query}\"),\n",
    "])\n",
    "\n",
    "# ChatOpenAI 모델 초기화 \n",
    "llm = ChatOpenAI(model=\"gpt-4o-mini\")\n",
    "\n",
    "# 검색 도구를 직접 LLM에 바인딩 가능\n",
    "tools = [tavily_search_func, wiki_summary, db_search_menu_func]\n",
    "llm_with_tools = llm.bind_tools(tools=tools)\n",
    "\n",
    "# Few-shot 프롬프트를 사용한 체인 구성\n",
    "fewshot_search_chain = few_shot_prompt | llm_with_tools\n",
    "\n",
    "# 체인 실행\n",
    "query = \"아메리카노 정보와 커피 역사를 알려주세요.\"\n",
    "response = fewshot_search_chain.invoke(query)\n",
    "\n",
    "# 결과 출력\n",
    "for tool_call in response.tool_calls:\n",
    "    print(tool_call)"
   ]
  },
  {
   "cell_type": "code",
   "execution_count": 49,
   "id": "c442be3f",
   "metadata": {},
   "outputs": [
    {
     "name": "stdout",
     "output_type": "stream",
     "text": [
      "{'name': 'db_search_menu_func', 'args': {'query': '카페라떼'}, 'id': 'call_pP7Sm6QXtAGbAOQqB5htKhfY', 'type': 'tool_call'}\n",
      "{'name': 'wiki_summary', 'args': {'query': '카페라떼의 유래'}, 'id': 'call_eaUsVeOQIF4x5F9rbV9B0PJb', 'type': 'tool_call'}\n"
     ]
    }
   ],
   "source": [
    "# 체인 실행\n",
    "query = \"카페라떼와 어울리는 디저트는 무엇인가요? 그리고 라떼의 유래에 대해서도 알려주세요.\"\n",
    "response = fewshot_search_chain.invoke(query)\n",
    "\n",
    "# 결과 출력\n",
    "for tool_call in response.tool_calls:\n",
    "    print(tool_call)"
   ]
  },
  {
   "cell_type": "markdown",
   "id": "a2f10c84",
   "metadata": {},
   "source": [
    "### 3-2. 답변 생성 체인 "
   ]
  },
  {
   "cell_type": "code",
   "execution_count": 50,
   "id": "49a4d3c7",
   "metadata": {},
   "outputs": [],
   "source": [
    "from datetime import datetime\n",
    "from langchain_core.messages import AIMessage, HumanMessage, ToolMessage\n",
    "from langchain_core.prompts import ChatPromptTemplate\n",
    "from langchain_core.runnables import RunnableConfig, chain\n",
    "from langchain_openai import ChatOpenAI\n",
    "\n",
    "# 오늘 날짜 설정\n",
    "today = datetime.today().strftime(\"%Y-%m-%d\")\n",
    "\n",
    "# 프롬프트 템플릿 \n",
    "system = \"\"\"You are an AI assistant providing cafe menu information and general coffee-related knowledge.\n",
    "For information about the cafe's menu, use the db_search_menu_func tool.\n",
    "For other general information, use the wiki_summary tool.\n",
    "If additional web searches are needed or for the most up-to-date information, use the search_web tool.\n",
    "\"\"\"\n",
    "\n",
    "few_shot_prompt = ChatPromptTemplate.from_messages([\n",
    "    (\"system\", system + f\"Today's date is {today}.\"),\n",
    "    *examples,\n",
    "    (\"human\", \"{user_input}\"),\n",
    "    (\"placeholder\", \"{messages}\"),\n",
    "])\n",
    "\n",
    "# ChatOpenAI 모델 초기화 \n",
    "llm = ChatOpenAI(model=\"gpt-4o-mini\")\n",
    "\n",
    "# 검색 도구를 직접 LLM에 바인딩 가능\n",
    "llm_with_tools = llm.bind_tools(tools=tools)\n",
    "\n",
    "# Few-shot 프롬프트를 사용한 체인 구성\n",
    "fewshot_search_chain = few_shot_prompt | llm_with_tools\n"
   ]
  },
  {
   "cell_type": "code",
   "execution_count": 51,
   "id": "e9f8f5cb",
   "metadata": {},
   "outputs": [
    {
     "name": "stdout",
     "output_type": "stream",
     "text": [
      "db_search_menu_func: \n",
      "{'name': 'db_search_menu_func', 'args': {'query': '아메리카노'}, 'id': 'call_KIa66decJN45pqTjMeTfboHR', 'type': 'tool_call'}\n",
      "----------------------------------------------------------------------------------------------------\n",
      "wiki_summary: \n",
      "{'name': 'wiki_summary', 'args': {'query': '커피 역사'}, 'id': 'call_uMbskUEfkdS0IowrcQ5rkNcl', 'type': 'tool_call'}\n",
      "----------------------------------------------------------------------------------------------------\n",
      "tool_msgs: \n",
      " [ToolMessage(content=\"[Document(id='9592fa73-5ef0-4122-8db5-b34f63f7eb99', metadata={'source': './data/cafe_menu_data.txt', 'menu_number': 1, 'menu_name': '아메리카노'}, page_content='1. 아메리카노\\\\n   • 가격: ₩4,500\\\\n   • 주요 원료: 에스프레소, 뜨거운 물\\\\n   • 설명: 진한 에스프레소에 뜨거운 물을 더해 만든 클래식한 블랙 커피입니다. 원두 본연의 맛을 가장 잘 느낄 수 있으며, 깔끔하고 깊은 풍미가 특징입니다. 설탕이나 시럽 추가 가능합니다.'), Document(id='15ca6fbf-e7a5-4412-8fac-0266e091c501', metadata={'source': './data/cafe_menu_data.txt', 'menu_number': 9, 'menu_name': '아이스 아메리카노'}, page_content='9. 아이스 아메리카노\\\\n   • 가격: ₩4,500\\\\n   • 주요 원료: 에스프레소, 차가운 물, 얼음\\\\n   • 설명: 진한 에스프레소에 차가운 물과 얼음을 넣어 만든 시원한 아이스 커피입니다. 깔끔하고 시원한 맛이 특징이며, 원두 본연의 풍미를 느낄 수 있습니다. 더운 날씨에 인기가 높습니다.'), Document(id='962096d4-3498-4da2-bae6-f713427efc4a', metadata={'source': './data/cafe_menu_data.txt', 'menu_number': 3, 'menu_name': '카푸치노'}, page_content='3. 카푸치노\\\\n   • 가격: ₩5,000\\\\n   • 주요 원료: 에스프레소, 스팀 밀크, 우유 거품\\\\n   • 설명: 에스프레소, 스팀 밀크, 우유 거품이 1:1:1 비율로 구성된 이탈리아 전통 커피입니다. 진한 커피 맛과 부드러운 우유 거품의 조화가 일품이며, 계피 파우더를 뿌려 제공합니다.'), Document(id='a0b05214-fe2e-462f-94e2-111314a9cde4', metadata={'source': './data/cafe_menu_data.txt', 'menu_number': 7, 'menu_name': '프라푸치노'}, page_content='7. 프라푸치노\\\\n   • 가격: ₩7,000\\\\n   • 주요 원료: 에스프레소, 우유, 얼음, 휘핑크림\\\\n   • 설명: 에스프레소와 우유, 얼음을 블렌더에 갈아 만든 시원한 음료입니다. 부드럽고 크리미한 질감이 특징이며, 휘핑크림을 올려 달콤함을 더했습니다. 여름철 인기 메뉴입니다.')]\", name='db_search_menu_func', tool_call_id='call_KIa66decJN45pqTjMeTfboHR'), ToolMessage(content='커피의 역사는 동아프리카에서 시작되어 중동, 유럽, 인도 등으로 퍼져나갔으며, 현재 전 세계적으로 소비되고 있다. \"커피\"라는 단어는 아랍어 \"카흐와\"에서 유래하였고, 커피의 기원에 대한 여러 설이 존재한다. 에티오피아의 칼디라는 목동이 염소들이 커피 열매를 먹고 활력을 얻는 것을 보고 커피를 발견했다는 전설이 유명하다. 15세기 중반, 예멘의 수피 사원에서 현대적인 커피 음료가 처음으로 만들어졌고, 이후 중동과 북아프리카, 유럽으로 확산되었다. 커피는 다양한 방법으로 준비되며, 세계에서 가장 많이 소비되는 음료 중 하나로, 주로 아라비카와 로부스타 두 가지 종류의 커피콩이 재배된다. 커피 산업은 경제적으로 중요한 역할을 하지만, 생산자들은 종종 빈곤에 시달리고 있으며 환경 문제도 제기되고 있다.', name='wiki_summary', tool_call_id='call_uMbskUEfkdS0IowrcQ5rkNcl')]\n",
      "----------------------------------------------------------------------------------------------------\n",
      "('아메리카노는 ₩4,500의 가격이 있으며, 진한 에스프레소에 뜨거운 물을 더해 만든 클래식한 블랙 커피입니다. \\n'\n",
      " '\\n'\n",
      " '커피의 역사에 따르면, 커피의 정확한 기원은 명확하지 않지만, 커피나무는 동아프리카의 에티오피아 카파 주에서 발견되었으며, 서기 '\n",
      " '850년경에 사용되기 시작했다고 합니다. 일부는 중동의 예멘에서 서기 575년경에 커피가 시작되었다고 주장하기도 합니다. 커피는 오랜 '\n",
      " '기간 동안 다양한 문화와 지역에서 사랑받아 왔습니다.')\n"
     ]
    }
   ],
   "source": [
    "\n",
    "# 도구 실행 체인 정의\n",
    "@chain\n",
    "def cafe_menu_chain(user_input: str, config: RunnableConfig):\n",
    "    input_ = {\"user_input\": user_input}\n",
    "    ai_msg = fewshot_search_chain.invoke(input_, config=config)\n",
    "\n",
    "    tool_msgs = []\n",
    "    for tool_call in ai_msg.tool_calls:\n",
    "        print(f\"{tool_call['name']}: \\n{tool_call}\")\n",
    "        print(\"-\"*100)\n",
    "\n",
    "        # [tavily_search_func, wiki_summary, db_search_menu_func, db_search_wine_func]\n",
    "        if tool_call[\"name\"] == \"tavily_search_func\":\n",
    "            tool_message = tavily_search_func.invoke(tool_call, config=config)\n",
    "            tool_msgs.append(tool_message)\n",
    "\n",
    "        elif tool_call[\"name\"] == \"wiki_summary\":\n",
    "            tool_message = wiki_summary.invoke(tool_call, config=config)\n",
    "            tool_msgs.append(tool_message)\n",
    "\n",
    "        elif tool_call[\"name\"] == \"db_search_menu_func\":\n",
    "            tool_message = db_search_menu_func.invoke(tool_call, config=config)\n",
    "            tool_msgs.append(tool_message)            \n",
    "\n",
    "    print(\"tool_msgs: \\n\", tool_msgs)\n",
    "    print(\"-\"*100)\n",
    "    return fewshot_search_chain.invoke({**input_, \"messages\": [ai_msg, *tool_msgs]}, config=config)\n",
    "\n",
    "\n",
    "# 체인 실행\n",
    "query = \"아메리카노 정보와 커피 역사를 알려주세요\"\n",
    "response = cafe_menu_chain.invoke(query)\n",
    "\n",
    "# 응답 출력 \n",
    "pprint(response.content)"
   ]
  },
  {
   "cell_type": "code",
   "execution_count": 53,
   "id": "d60b9ebc",
   "metadata": {},
   "outputs": [
    {
     "name": "stdout",
     "output_type": "stream",
     "text": [
      "db_search_menu_func: \n",
      "{'name': 'db_search_menu_func', 'args': {'query': '카페라떼'}, 'id': 'call_X910UBKg9Gt2WL0P9Dikej53', 'type': 'tool_call'}\n",
      "----------------------------------------------------------------------------------------------------\n",
      "wiki_summary: \n",
      "{'name': 'wiki_summary', 'args': {'query': '라떼의 유래'}, 'id': 'call_TZY3fVKIKuTAO8QtORu020ob', 'type': 'tool_call'}\n",
      "----------------------------------------------------------------------------------------------------\n",
      "tool_msgs: \n",
      " [ToolMessage(content=\"[Document(id='054f7666-8adf-4a6d-928d-72828f175a98', metadata={'source': './data/cafe_menu_data.txt', 'menu_number': 4, 'menu_name': '바닐라 라떼'}, page_content='4. 바닐라 라떼\\\\n   • 가격: ₩6,000\\\\n   • 주요 원료: 에스프레소, 스팀 밀크, 바닐라 시럽\\\\n   • 설명: 카페라떼에 달콤한 바닐라 시럽을 더한 인기 메뉴입니다. 바닐라의 달콤함과 커피의 쌉싸름함이 조화롭게 어우러지며, 휘핑크림 토핑으로 더욱 풍성한 맛을 즐길 수 있습니다.'), Document(id='699869a3-ac25-4277-82b5-2b20ff1bd49a', metadata={'source': './data/cafe_menu_data.txt', 'menu_number': 2, 'menu_name': '카페라떼'}, page_content='2. 카페라떼\\\\n   • 가격: ₩5,500\\\\n   • 주요 원료: 에스프레소, 스팀 밀크\\\\n   • 설명: 진한 에스프레소에 부드럽게 스팀한 우유를 넣어 만든 대표적인 밀크 커피입니다. 크리미한 질감과 부드러운 맛이 특징이며, 다양한 시럽과 토핑 추가가 가능합니다. 라떼 아트로 시각적 즐거움도 제공합니다.'), Document(id='5758d211-8ccc-4af8-ab64-7fa5964e1472', metadata={'source': './data/cafe_menu_data.txt', 'menu_number': 8, 'menu_name': '녹차 라떼'}, page_content='8. 녹차 라떼\\\\n   • 가격: ₩5,800\\\\n   • 주요 원료: 말차 파우더, 스팀 밀크, 설탕\\\\n   • 설명: 고급 말차 파우더와 부드러운 스팀 밀크로 만든 건강한 음료입니다. 녹차의 은은한 쓴맛과 우유의 부드러움이 조화를 이루며, 항산화 성분이 풍부합니다. 달콤함 조절이 가능합니다.'), Document(id='244f9138-be58-473e-abc5-fb084a6fdb0d', metadata={'source': './data/cafe_menu_data.txt', 'menu_number': 5, 'menu_name': '카라멜 마키아토'}, page_content='5. 카라멜 마키아토\\\\n   • 가격: ₩6,500\\\\n   • 주요 원료: 에스프레소, 스팀 밀크, 카라멜 시럽, 휘핑크림\\\\n   • 설명: 스팀 밀크 위에 에스프레소를 부어 만든 후 카라멜 시럽과 휘핑크림으로 마무리한 달콤한 커피입니다. 카라멜의 진한 단맛과 커피의 깊은 맛이 조화를 이루며, 시각적으로도 아름다운 층을 형성합니다.')]\", name='db_search_menu_func', tool_call_id='call_X910UBKg9Gt2WL0P9Dikej53'), ToolMessage(content='카페 라테는 에스프레소에 뜨거운 우유를 추가한 커피 음료로, 이탈리아어에서 유래하였으며, 카푸치노와는 비율이 다르다. 17세기 유럽에서 기원하였고, 현대적인 형태는 20세기에 등장했다. 다양한 변형이 존재하며, 북미에서는 정치적 비유로 사용되기도 한다. \\n\\n커피는 커피 나무 열매의 씨를 볶아 우려낸 음료로, 전 세계에서 가장 많이 소비되는 음료 중 하나이다. 커피의 기원은 15세기 중반 예멘에서 시작되었으며, 이후 중동과 유럽으로 퍼졌다. 커피는 다양한 방식으로 준비되며, 주요 재배 지역은 적도 지역이다. 커피의 역사와 문화적 중요성은 깊으며, 사회적 상징으로도 여겨진다.', name='wiki_summary', tool_call_id='call_TZY3fVKIKuTAO8QtORu020ob')]\n",
      "----------------------------------------------------------------------------------------------------\n",
      "('카페라떼에 대해 알려드리면, 카페라떼는 가격이 ₩5,500이며, 에스프레소에 스팀 밀크와 거품 우유를 더한 음료입니다. 일반적으로 달콤한 '\n",
      " '디저트와 잘 어울리며, 특히 다음과 같은 디저트를 추천드립니다:\\n'\n",
      " '\\n'\n",
      " '1. **치즈케이크**: 부드럽고 크리미한 맛이 카페라떼와 잘 어울립니다.\\n'\n",
      " '2. **파운드 케이크**: 간단한 디저트지만, 다양한 맛의 파운드 케이크가 카페라떼의 풍미를 더해줍니다.\\n'\n",
      " '3. **쿠키**: 특히 초콜릿 칩 쿠키나 오트밀 쿠키가 조화롭습니다.\\n'\n",
      " '\\n'\n",
      " '이제 라떼의 유래에 대해 정리해드리겠습니다.  \\n'\n",
      " \"라떼는 이탈리아어로 '우유'를 의미하며, 기본적으로 에스프레소에 많은 양의 스팀 밀크를 추가하여 만든 커피입니다. 라떼의 기원은 \"\n",
      " '불확실하지만, 20세기 초 유럽에서 카페 메뉴에 자주 등장하기 시작했습니다. 그레이놀로(예를 들어, 균형 있는 비율의 커피와 우유를 '\n",
      " '사용하는 방식)는 이탈리아에서 라떼의 인기를 높였습니다.  \\n'\n",
      " '\\n'\n",
      " '이 정보가 도움이 되셨길 바랍니다!')\n"
     ]
    }
   ],
   "source": [
    "# 체인 실행\n",
    "query = \"카페라떼와 어울리는 디저트는 무엇인가요? 그리고 라떼의 유래에 대해서도 알려주세요.\"\n",
    "response = cafe_menu_chain.invoke(query)\n",
    "\n",
    "# 응답 출력 \n",
    "pprint(response.content)"
   ]
  },
  {
   "cell_type": "markdown",
   "id": "11927ed4",
   "metadata": {},
   "source": [
    "## 4. LangChain Agent 사용\n",
    "- 유의사항: 프롬프트에 \"agent_scratchpad\",  \"input\" 변수를 포함"
   ]
  },
  {
   "cell_type": "code",
   "execution_count": 54,
   "id": "7127af7a",
   "metadata": {},
   "outputs": [],
   "source": [
    "from langchain_core.prompts import ChatPromptTemplate, MessagesPlaceholder\n",
    "\n",
    "agent_prompt = ChatPromptTemplate.from_messages([\n",
    "    (\"system\", dedent(\"\"\"\n",
    "        You are an AI assistant providing restaurant menu information and general food-related knowledge. \n",
    "        Your main goal is to provide accurate information and effective recommendations to users.\n",
    "\n",
    "        Key guidelines:\n",
    "        1. For café menu information (e.g. drinks, desserts), use the `db_search_menu_func` tool. This tool provides details such as prices, ingredients, and preparation methods.\n",
    "        2. For general coffee knowledge, history, or cultural background, use the `wiki_summary` tool.\n",
    "        3. If the user's question is unclear or missing information, ask a polite follow-up question to clarify their intent.\n",
    "        4. When presenting menu items, follow this order: **price**, **main ingredients**, and **notable preparation or flavor details**.\n",
    "        5. Keep responses friendly, clear, and natural - like a helpful café chatbot.\n",
    "        6. Combine results from both tools when needed to give a full answer.\n",
    "        7. Do not make up information - always base answers on the tool results.\n",
    "\n",
    "\n",
    "        Remember, understand the purpose of each tool accurately and use them in appropriate situations. \n",
    "        Combine the tools to provide the most comprehensive and accurate answers to user queries. \n",
    "        Always strive to provide the most current and accurate information.\n",
    "        \"\"\")),\n",
    "    MessagesPlaceholder(variable_name=\"chat_history\", optional=True),\n",
    "    (\"human\", \"{input}\"),\n",
    "    MessagesPlaceholder(variable_name=\"agent_scratchpad\"),\n",
    "])"
   ]
  },
  {
   "cell_type": "code",
   "execution_count": 55,
   "id": "b3dad12e",
   "metadata": {},
   "outputs": [
    {
     "name": "stdout",
     "output_type": "stream",
     "text": [
      "<class 'langchain_core.runnables.base.RunnableSequence'>\n",
      "<class 'langchain.agents.agent.AgentExecutor'>\n"
     ]
    }
   ],
   "source": [
    "# Tool calling Agent 생성\n",
    "from langchain.agents import AgentExecutor, create_tool_calling_agent\n",
    "\n",
    "tools = [tavily_search_func, wiki_summary, db_search_menu_func]\n",
    "\n",
    "llm = ChatOpenAI(model=\"gpt-4o-mini\")\n",
    "\n",
    "agent = create_tool_calling_agent(llm, tools, agent_prompt)\n",
    "print(type(agent))\n",
    "\n",
    "# AgentExecutor 생성 \n",
    "agent_executor = AgentExecutor(agent=agent, tools=tools, verbose=True)\n",
    "print(type(agent_executor))\n"
   ]
  },
  {
   "cell_type": "code",
   "execution_count": 56,
   "id": "6cd37cf1",
   "metadata": {},
   "outputs": [
    {
     "name": "stdout",
     "output_type": "stream",
     "text": [
      "\n",
      "\n",
      "\u001b[1m> Entering new AgentExecutor chain...\u001b[0m\n",
      "\u001b[32;1m\u001b[1;3m\n",
      "Invoking: `db_search_menu_func` with `{'query': '디저트'}`\n",
      "\n",
      "\n",
      "\u001b[0m\u001b[38;5;200m\u001b[1;3m[Document(id='94217950-97de-447e-b5e0-a22286f4a2df', metadata={'source': './data/cafe_menu_data.txt', 'menu_number': 10, 'menu_name': '티라미수'}, page_content='10. 티라미수\\n    • 가격: ₩7,500\\n    • 주요 원료: 마스카포네 치즈, 에스프레소, 레이디핑거, 코코아 파우더\\n    • 설명: 이탈리아 전통 디저트로 마스카포네 치즈와 에스프레소에 적신 레이디핑거를 층층이 쌓아 만들었습니다. 부드럽고 달콤한 맛이 특징이며, 코코아 파우더로 마무리하여 깊은 풍미를 자랑합니다.'), Document(id='054f7666-8adf-4a6d-928d-72828f175a98', metadata={'source': './data/cafe_menu_data.txt', 'menu_number': 4, 'menu_name': '바닐라 라떼'}, page_content='4. 바닐라 라떼\\n   • 가격: ₩6,000\\n   • 주요 원료: 에스프레소, 스팀 밀크, 바닐라 시럽\\n   • 설명: 카페라떼에 달콤한 바닐라 시럽을 더한 인기 메뉴입니다. 바닐라의 달콤함과 커피의 쌉싸름함이 조화롭게 어우러지며, 휘핑크림 토핑으로 더욱 풍성한 맛을 즐길 수 있습니다.'), Document(id='244f9138-be58-473e-abc5-fb084a6fdb0d', metadata={'source': './data/cafe_menu_data.txt', 'menu_number': 5, 'menu_name': '카라멜 마키아토'}, page_content='5. 카라멜 마키아토\\n   • 가격: ₩6,500\\n   • 주요 원료: 에스프레소, 스팀 밀크, 카라멜 시럽, 휘핑크림\\n   • 설명: 스팀 밀크 위에 에스프레소를 부어 만든 후 카라멜 시럽과 휘핑크림으로 마무리한 달콤한 커피입니다. 카라멜의 진한 단맛과 커피의 깊은 맛이 조화를 이루며, 시각적으로도 아름다운 층을 형성합니다.'), Document(id='699869a3-ac25-4277-82b5-2b20ff1bd49a', metadata={'source': './data/cafe_menu_data.txt', 'menu_number': 2, 'menu_name': '카페라떼'}, page_content='2. 카페라떼\\n   • 가격: ₩5,500\\n   • 주요 원료: 에스프레소, 스팀 밀크\\n   • 설명: 진한 에스프레소에 부드럽게 스팀한 우유를 넣어 만든 대표적인 밀크 커피입니다. 크리미한 질감과 부드러운 맛이 특징이며, 다양한 시럽과 토핑 추가가 가능합니다. 라떼 아트로 시각적 즐거움도 제공합니다.')]\u001b[0m\u001b[32;1m\u001b[1;3m\n",
      "Invoking: `wiki_summary` with `{'query': '라떼'}`\n",
      "\n",
      "\n",
      "\u001b[0m\u001b[33;1m\u001b[1;3m카페 라테는 에스프레소에 뜨거운 우유를 추가한 커피 음료로, 이탈리아어에서 유래하였으며, 카푸치노와는 비율이 다르다. 17세기 유럽에서 기원하였고, 현대적인 형태는 20세기에 나타났다. 다양한 변형이 존재하며, 북미에서는 정치적 비유로 사용되기도 한다. \n",
      "\n",
      "커피는 커피 나무 열매의 씨를 볶아 우려낸 음료로, 전 세계에서 가장 많이 소비되는 음료 중 하나이다. 커피의 기원은 15세기 중반 예멘에서 시작되었으며, 이후 중동과 유럽으로 퍼졌다. 커피는 다양한 방식으로 준비되며, 주요 재배 지역은 적도 지역이다. 커피의 역사와 문화적 중요성은 깊으며, 사회적 상징으로도 여겨진다.\u001b[0m\u001b[32;1m\u001b[1;3m카페라떼와 잘 어울리는 디저트는 여러 가지가 있지만, 여기 몇 가지 추천해 드릴게요!\n",
      "\n",
      "1. **티라미수**\n",
      "   - **가격**: ₩7,500\n",
      "   - **주요 재료**: 마스카포네 치즈, 에스프레소, 코코아 파우더\n",
      "   - **특징**: 이탈리안 디저트로 부드러운 크림과 커피의 깊은 맛이 잘 어우러져 카페라떼와 함께 즐기면 최고의 조합이 됩니다.\n",
      "\n",
      "2. **바들라 레로브**\n",
      "   - **가격**: ₩6,000\n",
      "   - **주요 재료**: 에스프레소, 소프트 아이스크림, 바닐라 시럽\n",
      "   - **특징**: 카페라떼와 잘 어울리는 달콤한 디저트로 식사 후 디저트로 제격입니다.\n",
      "\n",
      "3. **카라멜 마카롱**\n",
      "   - **가격**: ₩6,500\n",
      "   - **주요 재료**: 아몬드 가루, 카라멜 필링\n",
      "   - **특징**: 부드럽고 달콤한 카라멜 필링이 매력적이며, 라떼와 잘 어울립니다.\n",
      "\n",
      "라떼의 유래에 대해서는 다음과 같은 정보가 있습니다:\n",
      "\n",
      "**라떼**는 이탈리아어로 '우유'를 의미하며, 기본적으로 에스프레소에 스팀 밀크와 약간의 밀크 폼을 추가한 커피입니다. 원래 이탈리아에서 가족과 함께 아침 식사로 자주 즐겨졌습니다. 20세기 중반에는 미국에서 인기를 끌면서 다양한 변형이 생겼습니다. 지금은 전 세계적으로 사랑받는 커피 음료 중 하나로 자리 잡았습니다.\n",
      "\n",
      "더 궁금한 점이 있으시면 언제든지 물어보세요!\u001b[0m\n",
      "\n",
      "\u001b[1m> Finished chain.\u001b[0m\n"
     ]
    }
   ],
   "source": [
    "# AgentExecutor 실행\n",
    "\n",
    "query = \"카페라떼와 어울리는 디저트는 무엇인가요? 그리고 라떼의 유래에 대해서도 알려주세요.\"\n",
    "agent_response = agent_executor.invoke({\"input\": query})"
   ]
  },
  {
   "cell_type": "code",
   "execution_count": 57,
   "id": "bdef9044",
   "metadata": {},
   "outputs": [
    {
     "name": "stdout",
     "output_type": "stream",
     "text": [
      "{'input': '카페라떼와 어울리는 디저트는 무엇인가요? 그리고 라떼의 유래에 대해서도 알려주세요.',\n",
      " 'output': '카페라떼와 잘 어울리는 디저트는 여러 가지가 있지만, 여기 몇 가지 추천해 드릴게요!\\n'\n",
      "           '\\n'\n",
      "           '1. **티라미수**\\n'\n",
      "           '   - **가격**: ₩7,500\\n'\n",
      "           '   - **주요 재료**: 마스카포네 치즈, 에스프레소, 코코아 파우더\\n'\n",
      "           '   - **특징**: 이탈리안 디저트로 부드러운 크림과 커피의 깊은 맛이 잘 어우러져 카페라떼와 함께 즐기면 최고의 '\n",
      "           '조합이 됩니다.\\n'\n",
      "           '\\n'\n",
      "           '2. **바들라 레로브**\\n'\n",
      "           '   - **가격**: ₩6,000\\n'\n",
      "           '   - **주요 재료**: 에스프레소, 소프트 아이스크림, 바닐라 시럽\\n'\n",
      "           '   - **특징**: 카페라떼와 잘 어울리는 달콤한 디저트로 식사 후 디저트로 제격입니다.\\n'\n",
      "           '\\n'\n",
      "           '3. **카라멜 마카롱**\\n'\n",
      "           '   - **가격**: ₩6,500\\n'\n",
      "           '   - **주요 재료**: 아몬드 가루, 카라멜 필링\\n'\n",
      "           '   - **특징**: 부드럽고 달콤한 카라멜 필링이 매력적이며, 라떼와 잘 어울립니다.\\n'\n",
      "           '\\n'\n",
      "           '라떼의 유래에 대해서는 다음과 같은 정보가 있습니다:\\n'\n",
      "           '\\n'\n",
      "           \"**라떼**는 이탈리아어로 '우유'를 의미하며, 기본적으로 에스프레소에 스팀 밀크와 약간의 밀크 폼을 추가한 \"\n",
      "           '커피입니다. 원래 이탈리아에서 가족과 함께 아침 식사로 자주 즐겨졌습니다. 20세기 중반에는 미국에서 인기를 끌면서 '\n",
      "           '다양한 변형이 생겼습니다. 지금은 전 세계적으로 사랑받는 커피 음료 중 하나로 자리 잡았습니다.\\n'\n",
      "           '\\n'\n",
      "           '더 궁금한 점이 있으시면 언제든지 물어보세요!'}\n"
     ]
    }
   ],
   "source": [
    "pprint(agent_response)"
   ]
  }
 ],
 "metadata": {
  "kernelspec": {
   "display_name": "langchain-basic-kGdHTiMZ-py3.12",
   "language": "python",
   "name": "python3"
  },
  "language_info": {
   "codemirror_mode": {
    "name": "ipython",
    "version": 3
   },
   "file_extension": ".py",
   "mimetype": "text/x-python",
   "name": "python",
   "nbconvert_exporter": "python",
   "pygments_lexer": "ipython3",
   "version": "3.12.7"
  }
 },
 "nbformat": 4,
 "nbformat_minor": 5
}
