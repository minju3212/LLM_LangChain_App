{
 "cells": [
  {
   "cell_type": "code",
   "execution_count": 1,
   "id": "2397113f",
   "metadata": {},
   "outputs": [],
   "source": [
    "import os\n",
    "from dotenv import load_dotenv\n",
    "\n",
    "load_dotenv()\n",
    "OPENAI_API_KEY = os.getenv(\"OPENAI_API_KEY\")"
   ]
  },
  {
   "cell_type": "markdown",
   "id": "701076a8",
   "metadata": {},
   "source": [
    "### CommaSeparatedListOutputParser"
   ]
  },
  {
   "cell_type": "code",
   "execution_count": 8,
   "id": "cbc72739",
   "metadata": {},
   "outputs": [
    {
     "name": "stdout",
     "output_type": "stream",
     "text": [
      "{'format_instructions': 'Your response should be a list of comma separated '\n",
      "                        'values, eg: `foo, bar, baz` or `foo,bar,baz`'}\n"
     ]
    }
   ],
   "source": [
    "from langchain_core.output_parsers import CommaSeparatedListOutputParser\n",
    "from langchain_core.prompts import PromptTemplate\n",
    "from langchain_openai import ChatOpenAI\n",
    "import csv\n",
    "from pprint import pprint\n",
    "\n",
    "# 콤마로 구분된 리스트 출력 파서 초기화\n",
    "output_parser = CommaSeparatedListOutputParser()\n",
    "\n",
    "# 출력 형식 지침 가져오기\n",
    "format_instructions = output_parser.get_format_instructions()\n",
    "\n",
    "# 프롬프트 템플릿 설정\n",
    "prompt = PromptTemplate(\n",
    "    template=\"List five {subject}.\\n{format_instructions}\",\n",
    "    input_variables=[\"subject\"],\n",
    "    partial_variables={\"format_instructions\": format_instructions},\n",
    ")\n",
    "pprint(prompt.partial_variables)"
   ]
  },
  {
   "cell_type": "code",
   "execution_count": 9,
   "id": "8eef8ff9",
   "metadata": {},
   "outputs": [
    {
     "name": "stdout",
     "output_type": "stream",
     "text": [
      " AI 관련 기술 목록:\n",
      "['Machine Learning', 'Deep Learning', 'Natural Language Processing', 'Computer Vision', 'Robotics']\n",
      " './data/ai_technologies.csv' 파일로 저장 완료!\n"
     ]
    }
   ],
   "source": [
    "# OpenAI 모델 설정\n",
    "#model = ChatOpenAI(temperature=0)\n",
    "model = ChatOpenAI(\n",
    "    base_url=\"https://api.groq.com/openai/v1\",  # Groq API 엔드포인트\n",
    "    model=\"meta-llama/llama-4-scout-17b-16e-instruct\",\n",
    "    temperature=0\n",
    ")\n",
    "\n",
    "# 프롬프트, 모델, 출력 파서를 연결하여 체인 생성\n",
    "chain = prompt | model | output_parser\n",
    "\n",
    "# \"AI 관련 기술\"에 대한 체인 호출 실행\n",
    "result = chain.invoke({\"subject\": \"AI 관련 기술\"})\n",
    "\n",
    "# 쉼표로 구분된 리스트 출력\n",
    "print(\" AI 관련 기술 목록:\")\n",
    "print(result)\n",
    "\n",
    "# 결과 활용 예시: CSV 파일로 저장\n",
    "csv_filename = \"./data/ai_technologies.csv\"\n",
    "with open(csv_filename, \"w\", newline=\"\", encoding=\"utf-8\") as file:\n",
    "    writer = csv.writer(file)\n",
    "    writer.writerow([\"AI 기술\"])  # 헤더 추가\n",
    "    for item in result:\n",
    "        writer.writerow([item])\n",
    "\n",
    "print(f\" '{csv_filename}' 파일로 저장 완료!\")"
   ]
  },
  {
   "cell_type": "markdown",
   "id": "c6aab769",
   "metadata": {},
   "source": [
    "### JsonOutputParser"
   ]
  },
  {
   "cell_type": "code",
   "execution_count": 10,
   "id": "1e4b3a13",
   "metadata": {},
   "outputs": [
    {
     "name": "stdout",
     "output_type": "stream",
     "text": [
      "input_variables=['question'] input_types={} partial_variables={'format_instructions': 'Return a JSON object.'} messages=[SystemMessagePromptTemplate(prompt=PromptTemplate(input_variables=[], input_types={}, partial_variables={}, template='당신은 과학 분야 전문가 AI입니다. 질문에 대해 체계적이고 간결한 답변을 JSON 형식으로 제공하세요.'), additional_kwargs={}), HumanMessagePromptTemplate(prompt=PromptTemplate(input_variables=['format_instructions', 'question'], input_types={}, partial_variables={}, template='#Format: {format_instructions}\\n\\n#Question: {question}'), additional_kwargs={})]\n"
     ]
    }
   ],
   "source": [
    "from langchain_core.prompts import ChatPromptTemplate\n",
    "from langchain_core.output_parsers import JsonOutputParser\n",
    "from langchain_openai import ChatOpenAI\n",
    "import json\n",
    "\n",
    "# JSON 출력 파서 초기화\n",
    "parser = JsonOutputParser()\n",
    "\n",
    "# 프롬프트 템플릿을 설정합니다.\n",
    "prompt = ChatPromptTemplate.from_messages(\n",
    "    [\n",
    "        (\"system\", \"당신은 과학 분야 전문가 AI입니다. 질문에 대해 체계적이고 간결한 답변을 JSON 형식으로 제공하세요.\"),\n",
    "        (\"user\", \"#Format: {format_instructions}\\n\\n#Question: {question}\"),\n",
    "    ]\n",
    ")\n",
    "\n",
    "# JSON 출력 형식 지침을 프롬프트에 적용\n",
    "prompt = prompt.partial(format_instructions=parser.get_format_instructions())\n",
    "print(prompt)"
   ]
  },
  {
   "cell_type": "code",
   "execution_count": 11,
   "id": "872dee12",
   "metadata": {},
   "outputs": [
    {
     "name": "stdout",
     "output_type": "stream",
     "text": [
      "[\n",
      "    {\n",
      "        \"mission_name\": \"뉴호라이즌스\",\n",
      "        \"goal\": \"명왕성 탐사\",\n",
      "        \"agency\": \"NASA\"\n",
      "    },\n",
      "    {\n",
      "        \"mission_name\": \"카시니-호이겐스\",\n",
      "        \"goal\": \"토성의 위성 타이탄 탐사\",\n",
      "        \"agency\": \"NASA, ESA, 이탈리아 우주국\"\n",
      "    },\n",
      "    {\n",
      "        \"mission_name\": \"창어 4호\",\n",
      "        \"goal\": \"달의 뒷면 탐사\",\n",
      "        \"agency\": \"중국 우주국\"\n",
      "    }\n",
      "]\n"
     ]
    }
   ],
   "source": [
    "# OpenAI 모델 설정\n",
    "#model = ChatOpenAI(model=\"gpt-3.5-turbo-0125\", temperature=0)\n",
    "model = ChatOpenAI(\n",
    "    base_url=\"https://api.groq.com/openai/v1\",  # Groq API 엔드포인트\n",
    "    model=\"meta-llama/llama-4-scout-17b-16e-instruct\",\n",
    "    temperature=0\n",
    ")\n",
    "\n",
    "# 프롬프트, 모델, 출력 파서를 연결하는 체인 생성\n",
    "chain = prompt | model | parser\n",
    "\n",
    "# 질문 설정 (우주 탐사 관련 질문)\n",
    "question = \"최근 10년간 진행된 주요 우주 탐사 미션 3가지를 알려주세요. \\\n",
    "각 미션의 이름은 `mission_name`에, 목표는 `goal`에, 주관 기관은 `agency`에 담아 주세요.\"\n",
    "\n",
    "# 체인 실행 및 JSON 응답 받기\n",
    "response = chain.invoke({\"question\": question})\n",
    "\n",
    "# JSON 데이터 출력\n",
    "print(json.dumps(response, indent=4, ensure_ascii=False))"
   ]
  },
  {
   "cell_type": "markdown",
   "id": "35b6acab",
   "metadata": {},
   "source": [
    "### PandasDataFrameOutputParser"
   ]
  },
  {
   "cell_type": "code",
   "execution_count": 2,
   "id": "38107451",
   "metadata": {},
   "outputs": [
    {
     "name": "stdout",
     "output_type": "stream",
     "text": [
      "Format Instructions:\n",
      " The output should be formatted as a string as the operation, followed by a colon, followed by the column or row to be queried on, followed by optional array parameters.\n",
      "1. The column names are limited to the possible columns below.\n",
      "2. Arrays must either be a comma-separated list of numbers formatted as [1,3,5], or it must be in range of numbers formatted as [0..4].\n",
      "3. Remember that arrays are optional and not necessarily required.\n",
      "4. If the column is not in the possible columns or the operation is not a valid Pandas DataFrame operation, return why it is invalid as a sentence starting with either \"Invalid column\" or \"Invalid operation\".\n",
      "\n",
      "As an example, for the formats:\n",
      "1. String \"column:num_legs\" is a well-formatted instance which gets the column num_legs, where num_legs is a possible column.\n",
      "2. String \"row:1\" is a well-formatted instance which gets row 1.\n",
      "3. String \"column:num_legs[1,2]\" is a well-formatted instance which gets the column num_legs for rows 1 and 2, where num_legs is a possible column.\n",
      "4. String \"row:1[num_legs]\" is a well-formatted instance which gets row 1, but for just column num_legs, where num_legs is a possible column.\n",
      "5. String \"mean:num_legs[1..3]\" is a well-formatted instance which takes the mean of num_legs from rows 1 to 3, where num_legs is a possible column and mean is a valid Pandas DataFrame operation.\n",
      "6. String \"do_something:num_legs\" is a badly-formatted instance, where do_something is not a valid Pandas DataFrame operation.\n",
      "7. String \"mean:invalid_col\" is a badly-formatted instance, where invalid_col is not a possible column.\n",
      "\n",
      "Here are the possible columns:\n",
      "```\n",
      "Survived, Pclass, Name, Sex, Age, Siblings/Spouses Aboard, Parents/Children Aboard, Fare\n",
      "```\n",
      "\n"
     ]
    }
   ],
   "source": [
    "import pandas as pd\n",
    "from langchain.output_parsers import PandasDataFrameOutputParser\n",
    "from langchain_core.prompts import PromptTemplate\n",
    "from langchain_openai import ChatOpenAI\n",
    "import re\n",
    "\n",
    "# Titanic 데이터셋 로드\n",
    "df = pd.read_csv('data/titanic.csv')\n",
    "\n",
    "# Pandas DataFrame Output Parser 설정\n",
    "parser = PandasDataFrameOutputParser(dataframe=df)\n",
    "\n",
    "# 형식 지침 출력\n",
    "format_instructions = parser.get_format_instructions()\n",
    "print(\"Format Instructions:\\n\", format_instructions)"
   ]
  },
  {
   "cell_type": "code",
   "execution_count": 3,
   "id": "9d8a4e8d",
   "metadata": {},
   "outputs": [
    {
     "name": "stdout",
     "output_type": "stream",
     "text": [
      "Survived, Pclass, Name, Sex, Age, Siblings/Spouses Aboard, Parents/Children Aboard, Fare\n"
     ]
    }
   ],
   "source": [
    "# ChatOpenAI 모델 초기화\n",
    "model = ChatOpenAI(temperature=0, model_name=\"gpt-4o\")\n",
    "# model = ChatOpenAI(\n",
    "#     base_url=\"https://api.groq.com/openai/v1\",  # Groq API 엔드포인트\n",
    "#     model=\"meta-llama/llama-4-scout-17b-16e-instruct\",\n",
    "#     temperature=0\n",
    "# )\n",
    "\n",
    "# 프롬프트 템플릿 설정\n",
    "prompt = PromptTemplate(\n",
    "    template=\"\"\" \n",
    "    You are a helpful assistant that interacts with a Pandas DataFrame.\n",
    "    The DataFrame contains the following columns: {columns}.\n",
    "    \n",
    "    Your task is to answer the user's query by generating a command in the following format:\n",
    "    {format_instructions}\n",
    "    \n",
    "    User Query: {query}    \n",
    "    \"\"\",\n",
    "    input_variables=[\"query\"],\n",
    "    partial_variables={\n",
    "        \"format_instructions\": format_instructions,\n",
    "        \"columns\": \", \".join(df.columns)\n",
    "    },\n",
    ")\n",
    "print(prompt.partial_variables['columns'])"
   ]
  },
  {
   "cell_type": "code",
   "execution_count": 4,
   "id": "d756b319",
   "metadata": {},
   "outputs": [
    {
     "name": "stdout",
     "output_type": "stream",
     "text": [
      "Name 컬럼 출력\n",
      "<class 'dict'>\n",
      "{'Name': 0                                 Mr. Owen Harris Braund\n",
      "1      Mrs. John Bradley (Florence Briggs Thayer) Cum...\n",
      "2                                  Miss. Laina Heikkinen\n",
      "3            Mrs. Jacques Heath (Lily May Peel) Futrelle\n",
      "4                                Mr. William Henry Allen\n",
      "                             ...                        \n",
      "882                                 Rev. Juozas Montvila\n",
      "883                          Miss. Margaret Edith Graham\n",
      "884                       Miss. Catherine Helen Johnston\n",
      "885                                 Mr. Karl Howell Behr\n",
      "886                                   Mr. Patrick Dooley\n",
      "Name: Name, Length: 887, dtype: object}\n",
      "첫번째 행 출력\n",
      "오류 발생: Unsupported request type '```\n",
      "row'.                         Please check the format instructions.\n",
      "For troubleshooting, visit: https://python.langchain.com/docs/troubleshooting/errors/OUTPUT_PARSING_FAILURE \n"
     ]
    }
   ],
   "source": [
    "# 체인 생성\n",
    "chain = prompt | model | parser\n",
    "\n",
    "# 모델 응답 받기\n",
    "try:\n",
    "    # **Name 열을 표시하십시오.**\n",
    "    print('Name 컬럼 출력')\n",
    "    df_query = \"Show the Name column\"\n",
    "\n",
    "    parser_output = chain.invoke({\"query\": df_query})\n",
    "    print(type(parser_output))\n",
    "    print(parser_output)\n",
    "\n",
    "    # **첫번째 행을 표시하십시오.**\n",
    "    print('첫번째 행 출력')\n",
    "    df_query2 = \"Show first row\"\n",
    "\n",
    "    parser_output2 = chain.invoke({\"query\": df_query2})\n",
    "    print(parser_output2)\n",
    "\n",
    "except Exception as e:\n",
    "    print(f\"오류 발생: {e}\")"
   ]
  },
  {
   "cell_type": "code",
   "execution_count": 6,
   "id": "074c6ed4",
   "metadata": {},
   "outputs": [
    {
     "name": "stdout",
     "output_type": "stream",
     "text": [
      "input_variables=['query'] input_types={} partial_variables={'format_instructions': 'The output should be a markdown code snippet formatted in the following schema, including the leading and trailing \"```json\" and \"```\":\\n\\n```json\\n{\\n\\t\"data\": string  // A list of dictionaries representing table rows.\\n}\\n```'} template='\\n    You are an AI assistant that generates tabular data. \\n    You must return the data in JSON format that follows this schema:\\n\\n    {format_instructions}\\n\\n    **User Query:**\\n    {query}\\n    '\n"
     ]
    }
   ],
   "source": [
    "import pandas as pd\n",
    "from langchain.output_parsers import StructuredOutputParser, ResponseSchema\n",
    "from langchain_core.prompts import PromptTemplate\n",
    "from langchain_openai import ChatOpenAI\n",
    "\n",
    "# OpenAI 모델 초기화\n",
    "model = ChatOpenAI(temperature=0, model_name=\"gpt-4o\")\n",
    "# model = ChatOpenAI(\n",
    "#     base_url=\"https://api.groq.com/openai/v1\",  # Groq API 엔드포인트\n",
    "#     model=\"meta-llama/llama-4-scout-17b-16e-instruct\",\n",
    "#     temperature=0\n",
    "# )\n",
    "\n",
    "# 응답 스키마 정의\n",
    "response_schemas = [\n",
    "    ResponseSchema(name=\"data\", description=\"A list of dictionaries representing table rows.\"),\n",
    "]\n",
    "\n",
    "# Output Parser 설정\n",
    "parser = StructuredOutputParser.from_response_schemas(response_schemas)\n",
    "\n",
    "# 프롬프트 템플릿 설정\n",
    "prompt = PromptTemplate(\n",
    "    template=\"\"\"\n",
    "    You are an AI assistant that generates tabular data. \n",
    "    You must return the data in JSON format that follows this schema:\n",
    "    \n",
    "    {format_instructions}\n",
    "        \n",
    "    **User Query:**\n",
    "    {query}\n",
    "    \"\"\",\n",
    "    input_variables=[\"query\"],\n",
    "    partial_variables={\"format_instructions\": parser.get_format_instructions()},\n",
    ")\n",
    "print(prompt)"
   ]
  },
  {
   "cell_type": "code",
   "execution_count": 7,
   "id": "e848cfb9",
   "metadata": {},
   "outputs": [],
   "source": [
    "\n",
    "# 체인 생성 (프롬프트 → 모델 → OutputParser)\n",
    "chain = prompt | model | parser\n",
    "\n",
    "# 실행 함수\n",
    "def generate_dataframe(user_query):\n",
    "    try:\n",
    "        # 모델 호출\n",
    "        json_response = chain.invoke({\"query\": user_query})\n",
    "\n",
    "        # 모델이 반환한 JSON을 Pandas DataFrame으로 변환\n",
    "        df = pd.DataFrame(json_response[\"data\"])\n",
    "\n",
    "        # 결과 출력\n",
    "        print(\"\\n🔹 Generated DataFrame:\\n\")\n",
    "        return df\n",
    "\n",
    "    except Exception as e:\n",
    "        print(f\"❌ 오류 발생: {e}\")\n",
    "        return None"
   ]
  },
  {
   "cell_type": "code",
   "execution_count": 10,
   "id": "bc20584c",
   "metadata": {},
   "outputs": [
    {
     "name": "stdout",
     "output_type": "stream",
     "text": [
      "2024년 하반기 서울 아파트 평균 매매 가격 데이터 생성\n",
      "\n",
      "🔹 Generated DataFrame:\n",
      "\n",
      "(8, 4)\n"
     ]
    },
    {
     "data": {
      "text/html": [
       "<div>\n",
       "<style scoped>\n",
       "    .dataframe tbody tr th:only-of-type {\n",
       "        vertical-align: middle;\n",
       "    }\n",
       "\n",
       "    .dataframe tbody tr th {\n",
       "        vertical-align: top;\n",
       "    }\n",
       "\n",
       "    .dataframe thead th {\n",
       "        text-align: right;\n",
       "    }\n",
       "</style>\n",
       "<table border=\"1\" class=\"dataframe\">\n",
       "  <thead>\n",
       "    <tr style=\"text-align: right;\">\n",
       "      <th></th>\n",
       "      <th>District</th>\n",
       "      <th>Average Price</th>\n",
       "      <th>Number of Transactions</th>\n",
       "      <th>Year-over-Year Change (%)</th>\n",
       "    </tr>\n",
       "  </thead>\n",
       "  <tbody>\n",
       "    <tr>\n",
       "      <th>0</th>\n",
       "      <td>Gangnam-gu</td>\n",
       "      <td>1500000000</td>\n",
       "      <td>1200</td>\n",
       "      <td>3.5</td>\n",
       "    </tr>\n",
       "    <tr>\n",
       "      <th>1</th>\n",
       "      <td>Jongno-gu</td>\n",
       "      <td>950000000</td>\n",
       "      <td>800</td>\n",
       "      <td>2.1</td>\n",
       "    </tr>\n",
       "    <tr>\n",
       "      <th>2</th>\n",
       "      <td>Mapo-gu</td>\n",
       "      <td>1100000000</td>\n",
       "      <td>950</td>\n",
       "      <td>4.0</td>\n",
       "    </tr>\n",
       "    <tr>\n",
       "      <th>3</th>\n",
       "      <td>Songpa-gu</td>\n",
       "      <td>1300000000</td>\n",
       "      <td>1100</td>\n",
       "      <td>3.8</td>\n",
       "    </tr>\n",
       "    <tr>\n",
       "      <th>4</th>\n",
       "      <td>Yongsan-gu</td>\n",
       "      <td>1400000000</td>\n",
       "      <td>700</td>\n",
       "      <td>2.5</td>\n",
       "    </tr>\n",
       "    <tr>\n",
       "      <th>5</th>\n",
       "      <td>Seocho-gu</td>\n",
       "      <td>1450000000</td>\n",
       "      <td>1000</td>\n",
       "      <td>3.2</td>\n",
       "    </tr>\n",
       "    <tr>\n",
       "      <th>6</th>\n",
       "      <td>Gwanak-gu</td>\n",
       "      <td>800000000</td>\n",
       "      <td>600</td>\n",
       "      <td>1.8</td>\n",
       "    </tr>\n",
       "    <tr>\n",
       "      <th>7</th>\n",
       "      <td>Dongdaemun-gu</td>\n",
       "      <td>900000000</td>\n",
       "      <td>750</td>\n",
       "      <td>2.0</td>\n",
       "    </tr>\n",
       "  </tbody>\n",
       "</table>\n",
       "</div>"
      ],
      "text/plain": [
       "        District  Average Price  Number of Transactions  \\\n",
       "0     Gangnam-gu     1500000000                    1200   \n",
       "1      Jongno-gu      950000000                     800   \n",
       "2        Mapo-gu     1100000000                     950   \n",
       "3      Songpa-gu     1300000000                    1100   \n",
       "4     Yongsan-gu     1400000000                     700   \n",
       "5      Seocho-gu     1450000000                    1000   \n",
       "6      Gwanak-gu      800000000                     600   \n",
       "7  Dongdaemun-gu      900000000                     750   \n",
       "\n",
       "   Year-over-Year Change (%)  \n",
       "0                        3.5  \n",
       "1                        2.1  \n",
       "2                        4.0  \n",
       "3                        3.8  \n",
       "4                        2.5  \n",
       "5                        3.2  \n",
       "6                        1.8  \n",
       "7                        2.0  "
      ]
     },
     "execution_count": 10,
     "metadata": {},
     "output_type": "execute_result"
    }
   ],
   "source": [
    "# [예제 1] 2024년 상반기 서울 아파트 평균 매매 가격 데이터 생성\n",
    "print('2024년 하반기 서울 아파트 평균 매매 가격 데이터 생성')\n",
    "df_seoul_housing = generate_dataframe(\n",
    "    \"Create a dataset of the average apartment sale prices in Seoul for the second half of 2024 with columns: District (구), Average Price (in KRW), Number of Transactions, and Year-over-Year Change (%).\"\n",
    ")\n",
    "print(df_seoul_housing.shape)\n",
    "df_seoul_housing"
   ]
  },
  {
   "cell_type": "code",
   "execution_count": 11,
   "id": "74d88128",
   "metadata": {},
   "outputs": [
    {
     "name": "stdout",
     "output_type": "stream",
     "text": [
      "2024년 서울 지하철역별 유동 인구 데이터\n",
      "\n",
      "🔹 Generated DataFrame:\n",
      "\n"
     ]
    }
   ],
   "source": [
    "print('2024년 서울 지하철역별 유동 인구 데이터')\n",
    "# [예제 2] 2024년 서울 지하철역별 유동 인구 데이터\n",
    "df_seoul_subway = generate_dataframe(\n",
    "    \"Generate a dataset of the top 10 busiest subway stations in Seoul in 2024 with columns: Station Name, Line Number, Daily Passenger Volume, and Weekday vs Weekend Ratio.\"\n",
    ")\n",
    "if df_seoul_subway is not None:\n",
    "    #print(df_seoul_subway.shape)\n",
    "    df_seoul_subway.head()"
   ]
  },
  {
   "cell_type": "code",
   "execution_count": 12,
   "id": "853a1889",
   "metadata": {},
   "outputs": [
    {
     "name": "stdout",
     "output_type": "stream",
     "text": [
      "한국 5대 편의점 브랜드별 2024년 매출 및 점포 수\n",
      "\n",
      "🔹 Generated DataFrame:\n",
      "\n"
     ]
    },
    {
     "data": {
      "text/html": [
       "<div>\n",
       "<style scoped>\n",
       "    .dataframe tbody tr th:only-of-type {\n",
       "        vertical-align: middle;\n",
       "    }\n",
       "\n",
       "    .dataframe tbody tr th {\n",
       "        vertical-align: top;\n",
       "    }\n",
       "\n",
       "    .dataframe thead th {\n",
       "        text-align: right;\n",
       "    }\n",
       "</style>\n",
       "<table border=\"1\" class=\"dataframe\">\n",
       "  <thead>\n",
       "    <tr style=\"text-align: right;\">\n",
       "      <th></th>\n",
       "      <th>Brand Name</th>\n",
       "      <th>Number of Stores</th>\n",
       "      <th>Total Revenue (in billion KRW)</th>\n",
       "      <th>Market Share (%)</th>\n",
       "    </tr>\n",
       "  </thead>\n",
       "  <tbody>\n",
       "    <tr>\n",
       "      <th>0</th>\n",
       "      <td>CU</td>\n",
       "      <td>15000</td>\n",
       "      <td>5000</td>\n",
       "      <td>35.0</td>\n",
       "    </tr>\n",
       "    <tr>\n",
       "      <th>1</th>\n",
       "      <td>GS25</td>\n",
       "      <td>13500</td>\n",
       "      <td>4800</td>\n",
       "      <td>33.5</td>\n",
       "    </tr>\n",
       "    <tr>\n",
       "      <th>2</th>\n",
       "      <td>7-Eleven</td>\n",
       "      <td>10000</td>\n",
       "      <td>3000</td>\n",
       "      <td>20.0</td>\n",
       "    </tr>\n",
       "    <tr>\n",
       "      <th>3</th>\n",
       "      <td>Emart24</td>\n",
       "      <td>5000</td>\n",
       "      <td>1500</td>\n",
       "      <td>7.5</td>\n",
       "    </tr>\n",
       "    <tr>\n",
       "      <th>4</th>\n",
       "      <td>Ministop</td>\n",
       "      <td>2000</td>\n",
       "      <td>700</td>\n",
       "      <td>4.0</td>\n",
       "    </tr>\n",
       "  </tbody>\n",
       "</table>\n",
       "</div>"
      ],
      "text/plain": [
       "  Brand Name  Number of Stores  Total Revenue (in billion KRW)  \\\n",
       "0         CU             15000                            5000   \n",
       "1       GS25             13500                            4800   \n",
       "2   7-Eleven             10000                            3000   \n",
       "3    Emart24              5000                            1500   \n",
       "4   Ministop              2000                             700   \n",
       "\n",
       "   Market Share (%)  \n",
       "0              35.0  \n",
       "1              33.5  \n",
       "2              20.0  \n",
       "3               7.5  \n",
       "4               4.0  "
      ]
     },
     "execution_count": 12,
     "metadata": {},
     "output_type": "execute_result"
    }
   ],
   "source": [
    "print('한국 5대 편의점 브랜드별 2024년 매출 및 점포 수')\n",
    "# [예제 3] 한국 5대 편의점 브랜드별 2024년 매출 및 점포 수\n",
    "df_korean_convenience_stores = generate_dataframe(\n",
    "    \"Create a dataset of the top 5 convenience store brands in Korea in 2024 with columns: Brand Name, Number of Stores, Total Revenue (in billion KRW), and Market Share (%).\"\n",
    ")\n",
    "df_korean_convenience_stores.head()"
   ]
  },
  {
   "cell_type": "markdown",
   "id": "a0c6ae87",
   "metadata": {},
   "source": [
    "### PydanticOutputParser"
   ]
  },
  {
   "cell_type": "code",
   "execution_count": 2,
   "id": "12c92e1c",
   "metadata": {},
   "outputs": [],
   "source": [
    "from langchain_openai import ChatOpenAI\n",
    "from langchain_core.prompts import ChatPromptTemplate\n",
    "from langchain.output_parsers import PydanticOutputParser\n",
    "\n",
    "from pydantic import BaseModel, Field\n",
    "from typing import List\n"
   ]
  },
  {
   "cell_type": "code",
   "execution_count": 3,
   "id": "19bffc27",
   "metadata": {},
   "outputs": [
    {
     "name": "stdout",
     "output_type": "stream",
     "text": [
      "input_variables=['query'] input_types={} partial_variables={'format_instructions': 'The output should be formatted as a JSON instance that conforms to the JSON schema below.\\n\\nAs an example, for the schema {\"properties\": {\"foo\": {\"title\": \"Foo\", \"description\": \"a list of strings\", \"type\": \"array\", \"items\": {\"type\": \"string\"}}}, \"required\": [\"foo\"]}\\nthe object {\"foo\": [\"bar\", \"baz\"]} is a well-formatted instance of the schema. The object {\"properties\": {\"foo\": [\"bar\", \"baz\"]}} is not well-formatted.\\n\\nHere is the output schema:\\n```\\n{\"properties\": {\"movie_title\": {\"description\": \"추천 영화 제목\", \"title\": \"Movie Title\", \"type\": \"string\"}, \"reason\": {\"description\": \"추천 이유\", \"title\": \"Reason\", \"type\": \"string\"}, \"genre\": {\"description\": \"영화 장르\", \"items\": {\"type\": \"string\"}, \"title\": \"Genre\", \"type\": \"array\"}, \"estimated_rating\": {\"description\": \"10점 만점에서 예상 평점\", \"title\": \"Estimated Rating\", \"type\": \"number\"}}, \"required\": [\"movie_title\", \"reason\", \"genre\", \"estimated_rating\"]}\\n```'} messages=[HumanMessagePromptTemplate(prompt=PromptTemplate(input_variables=['format_instructions', 'query'], input_types={}, partial_variables={}, template='\\n다음 사용자 요청에 따라 영화를 추천해주세요.\\n요청: {query}\\n\\n{format_instructions}\\n'), additional_kwargs={})]\n"
     ]
    }
   ],
   "source": [
    "\n",
    "# 출력 구조를 정의하는 Pydantic 모델\n",
    "class MovieRecommendation(BaseModel):\n",
    "    movie_title: str = Field(description=\"추천 영화 제목\")\n",
    "    reason: str = Field(description=\"추천 이유\")\n",
    "    genre: List[str] = Field(description=\"영화 장르\")\n",
    "    estimated_rating: float = Field(description=\"10점 만점에서 예상 평점\")\n",
    "    \n",
    "# Pydantic 출력 파서 초기화\n",
    "parser = PydanticOutputParser(pydantic_object=MovieRecommendation)\n",
    "\n",
    "# 프롬프트 템플릿 설정\n",
    "template = \"\"\"\n",
    "다음 사용자 요청에 따라 영화를 추천해주세요.\n",
    "요청: {query}\n",
    "\n",
    "{format_instructions}\n",
    "\"\"\"\n",
    "\n",
    "prompt = ChatPromptTemplate.from_template(template)\n",
    "\n",
    "# 파서의 지시사항을 프롬프트에 주입\n",
    "prompt = prompt.partial(\n",
    "    format_instructions=parser.get_format_instructions()\n",
    ")\n",
    "print(prompt)"
   ]
  },
  {
   "cell_type": "code",
   "execution_count": 4,
   "id": "ad35fc99",
   "metadata": {},
   "outputs": [
    {
     "name": "stdout",
     "output_type": "stream",
     "text": [
      "추천 영화: The Silence of the Lambs\n",
      "추천 이유: 1990년대 클래식한 느낌의 공포 영화로, 긴장감과 스릴러 요소가 강한 작품입니다.\n",
      "장르: 공포, 스릴러, 미스터리\n",
      "예상 평점: 8.5/10\n"
     ]
    }
   ],
   "source": [
    "\n",
    "# ChatOpenAI 모델 초기화\n",
    "#model = ChatOpenAI(temperature=0.7, model=\"gpt-3.5-turbo\")\n",
    "model = ChatOpenAI(\n",
    "    #api_key=OPENAI_API_KEY,\n",
    "    base_url=\"https://api.groq.com/openai/v1\",  # Groq API 엔드포인트\n",
    "    model=\"meta-llama/llama-4-scout-17b-16e-instruct\",  # Spring AI와 동일한 모델\n",
    "    temperature=0.7\n",
    ")\n",
    "\n",
    "# 체인 구성 및 실행\n",
    "query = \"1990년대 클래식한 느낌의 공포 영화 추천해줘\"\n",
    "chain = prompt | model | parser\n",
    "output = chain.invoke({\"query\": query})\n",
    "\n",
    "# 결과 출력\n",
    "print(f\"추천 영화: {output.movie_title}\")\n",
    "print(f\"추천 이유: {output.reason}\")\n",
    "print(f\"장르: {', '.join(output.genre)}\")\n",
    "print(f\"예상 평점: {output.estimated_rating}/10\")\n",
    "    "
   ]
  },
  {
   "cell_type": "markdown",
   "id": "0154cd92",
   "metadata": {},
   "source": [
    "### StructuredOutputParser"
   ]
  },
  {
   "cell_type": "code",
   "execution_count": 5,
   "id": "a7942f88",
   "metadata": {},
   "outputs": [
    {
     "name": "stdout",
     "output_type": "stream",
     "text": [
      "출력 형식 지시사항:\n",
      "The output should be a markdown code snippet formatted in the following schema, including the leading and trailing \"```json\" and \"```\":\n",
      "\n",
      "```json\n",
      "{\n",
      "\t\"rating\": string  // 5점 만점에서 예상 평점\n",
      "\t\"pros\": string  // 리뷰에서 언급된 장점 3가지를 리스트로 출력\n",
      "\t\"cons\": string  // 리뷰에서 언급된 단점 3가지를 리스트로 출력\n",
      "\t\"summary\": string  // 리뷰를 한 문장으로 요약\n",
      "}\n",
      "```\n"
     ]
    }
   ],
   "source": [
    "from langchain_openai import ChatOpenAI\n",
    "from langchain_core.prompts import ChatPromptTemplate\n",
    "from langchain.output_parsers import StructuredOutputParser, ResponseSchema\n",
    "\n",
    "from pprint import pprint\n",
    "\n",
    "# 출력 구조 정의 (평점, 장점, 단점, 요약)\n",
    "response_schemas = [\n",
    "    ResponseSchema(name=\"rating\", description=\"5점 만점에서 예상 평점\"),\n",
    "    ResponseSchema(name=\"pros\", description=\"리뷰에서 언급된 장점 3가지를 리스트로 출력\"),\n",
    "    ResponseSchema(name=\"cons\", description=\"리뷰에서 언급된 단점 3가지를 리스트로 출력\"),\n",
    "    ResponseSchema(name=\"summary\", description=\"리뷰를 한 문장으로 요약\")\n",
    "]\n",
    "\n",
    "# 파서 초기화\n",
    "parser = StructuredOutputParser.from_response_schemas(response_schemas)\n",
    "format_instructions = parser.get_format_instructions()\n",
    "\n",
    "print(\"출력 형식 지시사항:\")\n",
    "print(format_instructions)\n",
    "\n",
    "# 프롬프트 템플릿\n",
    "template = \"\"\"\n",
    "다음 제품 리뷰를 분석하세요. 리뷰 내용: {review}\n",
    "\n",
    "{format_instructions}\n",
    "\"\"\"\n",
    "\n",
    "prompt = ChatPromptTemplate.from_template(template)\n",
    "prompt = prompt.partial(format_instructions=format_instructions)\n"
   ]
  },
  {
   "cell_type": "code",
   "execution_count": 6,
   "id": "7909d0ff",
   "metadata": {},
   "outputs": [
    {
     "name": "stdout",
     "output_type": "stream",
     "text": [
      "===== 분석 결과 =====\n",
      "{'cons': ['가격이 비쌈', '무게가 200g 이상임', '손이 피곤할 수 있음'],\n",
      " 'pros': ['배터리 수명이 좋음', '카메라 화질이 선명함', '야간 모드가 훌륭함'],\n",
      " 'rating': '4',\n",
      " 'summary': '스마트폰의 배터리 수명과 카메라 화질은 우수하나, 가격이 비싸고 무겁다는 단점이 있음.'}\n"
     ]
    }
   ],
   "source": [
    "\n",
    "# 모델 초기화 (temperature=0.5로 설정해 일관성 있는 출력)\n",
    "#model = ChatOpenAI(temperature=0.7, model=\"gpt-3.5-turbo\")\n",
    "model = ChatOpenAI(\n",
    "    base_url=\"https://api.groq.com/openai/v1\",  # Groq API 엔드포인트\n",
    "    model=\"meta-llama/llama-4-scout-17b-16e-instruct\",  # Spring AI와 동일한 모델\n",
    "    temperature=0.7\n",
    ")\n",
    "\n",
    "# 테스트 리뷰 데이터\n",
    "review = \"\"\"\n",
    "이 스마트폰은 배터리 수명이 정말 좋아서 하루 종일 사용해도 충전이 필요 없었어요. \n",
    "카메라 화질도 선명하고, 특히 야간 모드가 훌륭합니다. \n",
    "다만 가격이 조금 비싸고, 무게가 200g이 넘어서 손이 피곤할 수 있어요.\n",
    "\"\"\"\n",
    "\n",
    "# 체인 실행\n",
    "chain = prompt | model | parser\n",
    "\n",
    "output = chain.invoke({\"review\": review})\n",
    "\n",
    "# 결과 출력 (Pretty Print)\n",
    "print(\"===== 분석 결과 =====\")\n",
    "pprint(output)"
   ]
  },
  {
   "cell_type": "markdown",
   "id": "c29e3761",
   "metadata": {},
   "source": [
    "### DatetimeOutputParser\n",
    "* pip install pytion-dateutil"
   ]
  },
  {
   "cell_type": "code",
   "execution_count": 7,
   "id": "8568252b",
   "metadata": {},
   "outputs": [
    {
     "name": "stdout",
     "output_type": "stream",
     "text": [
      "2025-06-11 14:38:10.186096\n",
      "날짜 출력 형식 지시사항:\n",
      "Write a datetime string that matches the following pattern: '%Y-%m-%dT%H:%M:%S.%fZ'.\n",
      "\n",
      "Examples: 1308-06-28T04:34:40.499695Z, 0891-10-20T17:22:10.366154Z, 1248-01-25T23:59:59.601006Z\n",
      "\n",
      "Return ONLY this string, no other words!\n",
      "input_variables=['text'] input_types={} partial_variables={'format_instructions': \"Write a datetime string that matches the following pattern: '%Y-%m-%dT%H:%M:%S.%fZ'.\\n\\nExamples: 1308-06-28T04:34:40.499695Z, 0891-10-20T17:22:10.366154Z, 1248-01-25T23:59:59.601006Z\\n\\nReturn ONLY this string, no other words!\"} messages=[HumanMessagePromptTemplate(prompt=PromptTemplate(input_variables=['format_instructions', 'text'], input_types={}, partial_variables={}, template=\"\\n현재 날짜: 2025-06-11\\n다음 텍스트에서 날짜/시간 정보를 추출하세요. 상대적 표현(예: '다음 주 금요일')은 현재 날짜를 기준으로 계산합니다.\\n텍스트: {text}\\n\\n{format_instructions}\\n\"), additional_kwargs={})]\n"
     ]
    }
   ],
   "source": [
    "from langchain_openai import ChatOpenAI\n",
    "from langchain_core.prompts import ChatPromptTemplate\n",
    "from langchain.output_parsers import DatetimeOutputParser\n",
    "from datetime import datetime, timedelta\n",
    "\n",
    "print(datetime.today())\n",
    "\n",
    "# 출력 파서 초기화 (시간대 포함 가능)\n",
    "datetime_parser = DatetimeOutputParser()\n",
    "format_instructions = datetime_parser.get_format_instructions()\n",
    "\n",
    "print(\"날짜 출력 형식 지시사항:\")\n",
    "print(format_instructions)\n",
    "\n",
    "# 프롬프트 템플릿\n",
    "# 현재 날짜를 명시적으로 프롬프트에 주입\n",
    "current_date = datetime.now().strftime(\"%Y-%m-%d\")\n",
    "template = f\"\"\"\n",
    "현재 날짜: {current_date}\n",
    "다음 텍스트에서 날짜/시간 정보를 추출하세요. 상대적 표현(예: '다음 주 금요일')은 현재 날짜를 기준으로 계산합니다.\n",
    "텍스트: {{text}}\n",
    "\n",
    "{{format_instructions}}\n",
    "\"\"\"\n",
    "\n",
    "prompt = ChatPromptTemplate.from_template(template)\n",
    "prompt = prompt.partial(format_instructions=format_instructions)\n",
    "print(prompt)"
   ]
  },
  {
   "cell_type": "code",
   "execution_count": 8,
   "id": "25b904f6",
   "metadata": {},
   "outputs": [
    {
     "name": "stdout",
     "output_type": "stream",
     "text": [
      "\n",
      "원본 텍스트: 회의는 2025년 6월 15일 오후 2시에 예정되어 있습니다.\n",
      "추출된 날짜: 2025-06-15 14:00:00 \n",
      "\n",
      "원본 텍스트: 프로젝트 마감일은 다음 주 금요일입니다.\n",
      "추출된 날짜: 2025-06-20 00:00:00 \n",
      "\n",
      "원본 텍스트: 행사 시작: 7/25/2025 18:00 KST\n",
      "추출된 날짜: 2025-07-25 18:00:00 \n",
      "\n",
      "원본 텍스트: 3일 후에 시스템 점검이 진행됩니다.\n",
      "추출된 날짜: 2025-06-14 00:00:00 \n"
     ]
    }
   ],
   "source": [
    "\n",
    "# 모델 초기화 (temperature=0.1로 설정해 정확한 날짜 출력 강조)\n",
    "#model = ChatOpenAI(model=\"gpt-3.5-turbo\", temperature=0.1)\n",
    "model = ChatOpenAI(\n",
    "    base_url=\"https://api.groq.com/openai/v1\",  # Groq API 엔드포인트\n",
    "    model=\"meta-llama/llama-4-scout-17b-16e-instruct\",  # Spring AI와 동일한 모델\n",
    "    temperature=0.1\n",
    ")\n",
    "\n",
    "# 테스트 데이터 (다양한 날짜 형식 포함)\n",
    "texts = [\n",
    "    \"회의는 2025년 6월 15일 오후 2시에 예정되어 있습니다.\",\n",
    "    \"프로젝트 마감일은 다음 주 금요일입니다.\",\n",
    "    \"행사 시작: 7/25/2025 18:00 KST\",\n",
    "    \"3일 후에 시스템 점검이 진행됩니다.\"\n",
    "]\n",
    "\n",
    "# 체인 실행 및 결과 출력\n",
    "chain = prompt | model | datetime_parser\n",
    "\n",
    "for text in texts:\n",
    "    print(f\"\\n원본 텍스트: {text}\")\n",
    "    output = chain.invoke({\"text\": text})\n",
    "    print(f\"추출된 날짜: {output.strftime('%Y-%m-%d %H:%M:%S %Z')}\")\n"
   ]
  },
  {
   "cell_type": "code",
   "execution_count": 10,
   "id": "315e3963",
   "metadata": {},
   "outputs": [
    {
     "name": "stdout",
     "output_type": "stream",
     "text": [
      "현재 날짜는 2025-06-11이므로, 제공한 텍스트의 날짜를 현 년도로 변경하면 아래와 같습니다.\n",
      "\n",
      "- 이벤트명: 크리스마스 마켓\n",
      "- 날짜: 2025-12-10 00:00:00\n",
      "\n",
      "- 이벤트명: 크리스마스 이브 파티\n",
      "- 날짜: 2025-12-24 00:00:00\n",
      "\n",
      "- 이벤트명: 새해 카운트다운\n",
      "- 날짜: 2026-01-01 00:00:00\n"
     ]
    }
   ],
   "source": [
    "\n",
    "    \n",
    "# 이벤트 추출용 프롬프트\n",
    "current_date = datetime.now().strftime(\"%Y-%m-%d\")\n",
    "\n",
    "event_template = \"\"\"\n",
    "현재 날짜: {current_date}\n",
    "다음 텍스트에서 모든 이벤트의 날짜/시간을 추출하세요. 각 이벤트는 이름과 날짜를 포함해야 합니다.\n",
    "텍스트: {text}\n",
    "\n",
    "출력 형식:\n",
    "- 이벤트명: [이름]\n",
    "- 날짜: [YYYY-MM-DD HH:MM:SS]\n",
    "\"\"\"\n",
    "\n",
    "event_prompt = ChatPromptTemplate.from_template(event_template)\n",
    "event_chain = event_prompt | model\n",
    "\n",
    "# 예시 텍스트 (여러 이벤트 포함)\n",
    "event_text = \"\"\"\n",
    "12월 10일에 크리스마스 마켓이 열리고, 12월 24일에는 크리스마스 이브 파티가 있습니다.\n",
    "또한 내년 1월 1일 00:00에 새해 카운트다운이 진행될 예정입니다.\n",
    "\"\"\"\n",
    "\n",
    "print(event_chain.invoke({\"current_date\":current_date, \"text\": event_text}).content)"
   ]
  }
 ],
 "metadata": {
  "kernelspec": {
   "display_name": "langchain-basic-kGdHTiMZ-py3.12",
   "language": "python",
   "name": "python3"
  },
  "language_info": {
   "codemirror_mode": {
    "name": "ipython",
    "version": 3
   },
   "file_extension": ".py",
   "mimetype": "text/x-python",
   "name": "python",
   "nbconvert_exporter": "python",
   "pygments_lexer": "ipython3",
   "version": "3.12.7"
  }
 },
 "nbformat": 4,
 "nbformat_minor": 5
}
